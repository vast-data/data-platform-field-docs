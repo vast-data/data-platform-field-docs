{
 "cells": [
  {
   "cell_type": "markdown",
   "id": "55877738",
   "metadata": {},
   "source": [
    "# Python SDK Reference\n",
    "\n",
    "```{important}\n",
    "This notebook is in the process of being migrated to Vast Data Platform Field Docs.  It will probably not run yet.\n",
    "```"
   ]
  },
  {
   "cell_type": "markdown",
   "id": "97c45f3e",
   "metadata": {},
   "source": [
    "## Deploy boto3 library for S3\n",
    "\n",
    "We will download the boto3 standard S3 library to get data into the S3 compatible VAST Datastore"
   ]
  },
  {
   "cell_type": "code",
   "execution_count": null,
   "id": "e32e952e",
   "metadata": {},
   "outputs": [],
   "source": [
    "!pip install --quiet boto3 | tail -5"
   ]
  },
  {
   "cell_type": "markdown",
   "id": "7f33ed49",
   "metadata": {},
   "source": [
    "## Setup demo environment"
   ]
  },
  {
   "cell_type": "markdown",
   "id": "cae3b134",
   "metadata": {},
   "source": [
    "Setup Python's behavior to be more strict, including raising errors for some cases where variables are accidentally undefined."
   ]
  },
  {
   "cell_type": "code",
   "execution_count": null,
   "id": "70414184",
   "metadata": {},
   "outputs": [],
   "source": [
    "from __future__ import annotations  # Enable stricter type checking"
   ]
  },
  {
   "cell_type": "markdown",
   "id": "c1dd49f8",
   "metadata": {},
   "source": [
    "Import some utility functions for this demo."
   ]
  },
  {
   "cell_type": "code",
   "execution_count": null,
   "id": "d1614f62",
   "metadata": {},
   "outputs": [],
   "source": [
    "import sys  \n",
    "sys.path.insert(1, '../misc/')\n",
    "\n",
    "from vastdb_demo_util import get_connection_vars, upload_to_s3, delete_s3_object, list_objects_in_bucket"
   ]
  },
  {
   "cell_type": "markdown",
   "id": "74bf128e-5b91-41e0-965b-7769192363b0",
   "metadata": {},
   "source": [
    "## Upload S3 Object"
   ]
  },
  {
   "cell_type": "code",
   "execution_count": 11,
   "id": "5b61ebd5-8561-4a04-ba30-386a4e0945aa",
   "metadata": {
    "execution": {
     "iopub.execute_input": "2024-03-13T12:23:00.192680Z",
     "iopub.status.busy": "2024-03-13T12:23:00.191972Z",
     "iopub.status.idle": "2024-03-13T12:23:00.249357Z",
     "shell.execute_reply": "2024-03-13T12:23:00.248658Z",
     "shell.execute_reply.started": "2024-03-13T12:23:00.192618Z"
    },
    "tags": []
   },
   "outputs": [
    {
     "name": "stdout",
     "output_type": "stream",
     "text": [
      "Uploaded Object\n",
      "Objects in bucket vastdb with prefix '':\n",
      "nyc-taxi/2011-01.data.parquet\n",
      "nyc-taxi/2011-02.data.parquet\n",
      "nyc-taxi/2011-03.data.parquet\n",
      "nyc-taxi/2011-04.data.parquet\n",
      "nyc-taxi/2011-05.data.parquet\n",
      "nyc-taxi/2011-06.data.parquet\n",
      "nyc-taxi/2011-07.data.parquet\n",
      "nyc-taxi/2011-08.data.parquet\n",
      "nyc-taxi/2011-09.data.parquet\n",
      "nyc-taxi/2011-10.data.parquet\n",
      "nyc-taxi/2011-11.data.parquet\n",
      "nyc-taxi/2011-12.data.parquet\n",
      "nyc-taxi/2012-01.data.parquet\n",
      "nyc-taxi/2012-02.data.parquet\n",
      "nyc-taxi/2012-03.data.parquet\n",
      "nyc-taxi/2012-04.data.parquet\n",
      "nyc-taxi/2012-05.data.parquet\n",
      "nyc-taxi/2012-06.data.parquet\n",
      "nyc-taxi/2012-07.data.parquet\n",
      "nyc-taxi/2012-08.data.parquet\n",
      "nyc-taxi/2012-09.data.parquet\n",
      "nyc-taxi/2012-10.data.parquet\n",
      "nyc-taxi/2012-11.data.parquet\n",
      "nyc-taxi/2012-12.data.parquet\n",
      "nyc-taxi/2013-01.data.parquet\n",
      "nyc-taxi/2013-02.data.parquet\n",
      "nyc-taxi/2013-03.data.parquet\n",
      "nyc-taxi/2013-04.data.parquet\n",
      "nyc-taxi/2013-05.data.parquet\n",
      "nyc-taxi/2013-06.data.parquet\n",
      "nyc-taxi/2013-07.data.parquet\n",
      "nyc-taxi/2013-08.data.parquet\n",
      "nyc-taxi/2013-09.data.parquet\n",
      "nyc-taxi/2013-10.data.parquet\n",
      "nyc-taxi/2013-11.data.parquet\n",
      "nyc-taxi/2013-12.data.parquet\n",
      "nyc-taxi/2014-01.data.parquet\n",
      "nyc-taxi/2014-02.data.parquet\n",
      "nyc-taxi/2014-03.data.parquet\n",
      "nyc-taxi/2014-04.data.parquet\n",
      "nyc-taxi/2014-05.data.parquet\n",
      "nyc-taxi/2014-06.data.parquet\n",
      "nyc-taxi/2014-07.data.parquet\n",
      "nyc-taxi/2014-08.data.parquet\n",
      "nyc-taxi/2014-09.data.parquet\n",
      "nyc-taxi/2014-10.data.parquet\n",
      "nyc-taxi/2014-11.data.parquet\n",
      "nyc-taxi/2014-12.data.parquet\n",
      "nyc-taxi/2015-01.data.parquet\n",
      "nyc-taxi/2015-02.data.parquet\n",
      "nyc-taxi/2015-03.data.parquet\n",
      "nyc-taxi/2015-04.data.parquet\n",
      "nyc-taxi/2015-05.data.parquet\n",
      "nyc-taxi/2015-06.data.parquet\n",
      "nyc-taxi/2015-07.data.parquet\n",
      "nyc-taxi/2015-08.data.parquet\n",
      "nyc-taxi/2015-09.data.parquet\n",
      "nyc-taxi/2015-10.data.parquet\n",
      "nyc-taxi/2015-11.data.parquet\n",
      "nyc-taxi/2015-12.data.parquet\n",
      "nyc-taxi/2016-01.data.parquet\n",
      "nyc-taxi/2016-02.data.parquet\n",
      "nyc-taxi/2016-03.data.parquet\n",
      "nyc-taxi/2016-04.data.parquet\n",
      "nyc-taxi/2016-05.data.parquet\n",
      "nyc-taxi/2016-06.data.parquet\n",
      "nyc-taxi/2016-07.data.parquet\n",
      "nyc-taxi/2016-08.data.parquet\n",
      "nyc-taxi/2016-09.data.parquet\n",
      "nyc-taxi/2016-10.data.parquet\n",
      "nyc-taxi/2016-11.data.parquet\n",
      "nyc-taxi/2016-12.data.parquet\n",
      "nyc-taxi/2017-01.data.parquet\n",
      "nyc-taxi/2017-02.data.parquet\n",
      "nyc-taxi/2017-03.data.parquet\n",
      "nyc-taxi/2017-04.data.parquet\n",
      "nyc-taxi/2017-05.data.parquet\n",
      "nyc-taxi/2017-06.data.parquet\n",
      "nyc-taxi/2017-07.data.parquet\n",
      "nyc-taxi/2017-08.data.parquet\n",
      "nyc-taxi/2017-09.data.parquet\n",
      "nyc-taxi/2017-10.data.parquet\n",
      "nyc-taxi/2017-11.data.parquet\n",
      "nyc-taxi/2017-12.data.parquet\n",
      "nyc-taxi/2018-01.data.parquet\n",
      "nyc-taxi/2018-02.data.parquet\n",
      "nyc-taxi/2018-03.data.parquet\n",
      "nyc-taxi/2018-04.data.parquet\n",
      "nyc-taxi/2018-05.data.parquet\n",
      "nyc-taxi/2018-06.data.parquet\n",
      "nyc-taxi/2018-07.data.parquet\n",
      "nyc-taxi/2018-08.data.parquet\n",
      "nyc-taxi/2018-09.data.parquet\n",
      "nyc-taxi/2018-10.data.parquet\n",
      "nyc-taxi/2018-11.data.parquet\n",
      "nyc-taxi/2018-12.data.parquet\n",
      "nyc-taxi/2019-01.data.parquet\n",
      "nyc-taxi/2019-02.data.parquet\n",
      "nyc-taxi/2019-03.data.parquet\n",
      "nyc-taxi/2019-04.data.parquet\n",
      "nyc-taxi/2019-05.data.parquet\n",
      "nyc-taxi/2019-06.data.parquet\n",
      "tabular_schema_table\n",
      "tpcds/\n",
      "vastschema/taxi\n"
     ]
    }
   ],
   "source": [
    "import os\n",
    "import boto3\n",
    "from botocore.exceptions import NoCredentialsError\n",
    "\n",
    "#upload_to_s3(local_file_path, bucket_name, s3_file_key, aws_access_key_id, aws_secret_access_key, s3_endpoint)\n",
    "\n",
    "# List objects in the bucket\n",
    "print(\"Uploaded Object\")\n",
    "list_objects_in_bucket(bucket_name, aws_access_key_id, aws_secret_access_key, s3_endpoint, prefix='')"
   ]
  },
  {
   "cell_type": "code",
   "execution_count": 10,
   "id": "1bb625a2-5204-4572-bb03-cd69aa2c8df7",
   "metadata": {
    "execution": {
     "iopub.execute_input": "2024-03-13T12:22:48.238175Z",
     "iopub.status.busy": "2024-03-13T12:22:48.236861Z",
     "iopub.status.idle": "2024-03-13T12:22:48.258636Z",
     "shell.execute_reply": "2024-03-13T12:22:48.257208Z",
     "shell.execute_reply.started": "2024-03-13T12:22:48.238109Z"
    },
    "tags": []
   },
   "outputs": [
    {
     "name": "stdout",
     "output_type": "stream",
     "text": [
      "Uploaded Object\n",
      "No objects found in bucket vastdb with prefix 'labimage4.png'.\n"
     ]
    }
   ],
   "source": [
    "print(\"Uploaded Object\")\n",
    "list_objects_in_bucket(bucket_name, aws_access_key_id, aws_secret_access_key, s3_endpoint, prefix='labimage4.png')"
   ]
  },
  {
   "cell_type": "markdown",
   "id": "fae3669f-311f-4f34-a3f8-ad7d9097ef5b",
   "metadata": {},
   "source": [
    "### Add user tags to existing files/objects using S3 API"
   ]
  },
  {
   "cell_type": "code",
   "execution_count": 48,
   "id": "3578579c-ebff-40d3-a00b-91df474f0e6b",
   "metadata": {
    "execution": {
     "iopub.execute_input": "2024-03-13T13:38:50.822735Z",
     "iopub.status.busy": "2024-03-13T13:38:50.821838Z",
     "iopub.status.idle": "2024-03-13T13:38:50.855109Z",
     "shell.execute_reply": "2024-03-13T13:38:50.854515Z",
     "shell.execute_reply.started": "2024-03-13T13:38:50.822675Z"
    },
    "tags": []
   },
   "outputs": [
    {
     "name": "stdout",
     "output_type": "stream",
     "text": [
      "Tags added successfully to S3 object: s3://vastdb/nyc-taxi/2015-10.data.parquet\n"
     ]
    }
   ],
   "source": [
    "import boto3\n",
    "from botocore.exceptions import NoCredentialsError\n",
    "\n",
    "def add_tags_to_s3_object(access_key, secret_key, endpoint_url, bucket_name, key, tags):\n",
    "    # Create an S3 client with custom configurations\n",
    "    s3 = boto3.client(\n",
    "        's3',\n",
    "        aws_access_key_id=access_key,\n",
    "        aws_secret_access_key=secret_key,\n",
    "        endpoint_url=endpoint_url,\n",
    "        verify=False  # Set to False to disable SSL verification\n",
    "    )\n",
    "\n",
    "    # Add tags to the existing S3 object\n",
    "    s3.put_object_tagging(\n",
    "        Bucket=bucket_name,\n",
    "        Key=key,\n",
    "        Tagging={'TagSet': tags}\n",
    "    )\n",
    "\n",
    "if __name__ == \"__main__\":\n",
    "    # Replace these values with your AWS credentials, S3 endpoint, bucket name, object key, and desired tags\n",
    "    aws_access_key = 'BGU86QBVQBX0A71S4PTL'\n",
    "    aws_secret_key = 'LOUtdwqsgoyUxc5EG+204RRi1gQqbm1wNWJGMbJ0'\n",
    "    s3_endpoint = 'http://localhost:55555'  # e.g., 'https://s3.example.com'\n",
    "    bucket_name = 'vastdb'\n",
    "    object_key = 'nyc-taxi/2015-10.data.parquet'\n",
    "    user_defined_tags = [\n",
    "        {'Key': 'Location', 'Value': 'Boston'},\n",
    "        {'Key': 'Lab_Device_ID', 'Value': '11111'},\n",
    "        {'Key': 'Type', 'Value': 'xRNA'},\n",
    "        {'Key': 'Experiment_ID', 'Value': '3333'},\n",
    "        {'Key': 'Status', 'Value': 'Processing'}\n",
    "        # Add more tags as needed\n",
    "    ]\n",
    "\n",
    "    try:\n",
    "        add_tags_to_s3_object(aws_access_key, aws_secret_key, s3_endpoint, bucket_name, object_key, user_defined_tags)\n",
    "        print(f\"Tags added successfully to S3 object: s3://{bucket_name}/{object_key}\")\n",
    "    except NoCredentialsError:\n",
    "        print(\"AWS credentials not available.\")\n",
    "    except Exception as e:\n",
    "        print(f\"Error adding tags: {e}\")\n"
   ]
  },
  {
   "cell_type": "markdown",
   "id": "7cc45b0b-7e3c-4503-9cfa-af7db7507fa0",
   "metadata": {
    "execution": {
     "iopub.execute_input": "2024-03-13T15:13:42.387162Z",
     "iopub.status.busy": "2024-03-13T15:13:42.385508Z",
     "iopub.status.idle": "2024-03-13T15:13:42.394774Z",
     "shell.execute_reply": "2024-03-13T15:13:42.392926Z",
     "shell.execute_reply.started": "2024-03-13T15:13:42.387098Z"
    },
    "tags": []
   },
   "source": [
    "## Get user tags to existing files/objects using S3 API"
   ]
  },
  {
   "cell_type": "code",
   "execution_count": 51,
   "id": "711cdd58-a3a9-4eba-b02d-41dc23c35f58",
   "metadata": {
    "execution": {
     "iopub.execute_input": "2024-03-13T13:39:18.255283Z",
     "iopub.status.busy": "2024-03-13T13:39:18.254636Z",
     "iopub.status.idle": "2024-03-13T13:39:18.286670Z",
     "shell.execute_reply": "2024-03-13T13:39:18.284373Z",
     "shell.execute_reply.started": "2024-03-13T13:39:18.255226Z"
    },
    "tags": []
   },
   "outputs": [
    {
     "name": "stdout",
     "output_type": "stream",
     "text": [
      "Tags for S3 object: s3://vastdb/nyc-taxi/2018-06.data.parquet\n",
      "Key: Experiment_ID, Value: 3333\n",
      "Key: Lab_Device_ID, Value: 11111\n",
      "Key: Location, Value: Basel\n",
      "Key: Status, Value: Processing\n",
      "Key: Type, Value: xRNA\n"
     ]
    }
   ],
   "source": [
    "import boto3\n",
    "from botocore.exceptions import NoCredentialsError\n",
    "\n",
    "def list_tags_of_s3_object(access_key, secret_key, endpoint_url, bucket_name, key):\n",
    "    # Create an S3 client with custom configurations\n",
    "    s3 = boto3.client(\n",
    "        's3',\n",
    "        aws_access_key_id=access_key,\n",
    "        aws_secret_access_key=secret_key,\n",
    "        endpoint_url=endpoint_url,\n",
    "        verify=False  # Set to False to disable SSL verification\n",
    "    )\n",
    "\n",
    "    # Get the tags associated with the S3 object\n",
    "    response = s3.get_object_tagging(\n",
    "        Bucket=bucket_name,\n",
    "        Key=key\n",
    "    )\n",
    "\n",
    "    return response['TagSet']\n",
    "\n",
    "if __name__ == \"__main__\":\n",
    "    # Replace these values with your AWS credentials, S3 endpoint, bucket name, and object key\n",
    "    aws_access_key = 'BGU86QBVQBX0A71S4PTL'\n",
    "    aws_secret_key = 'LOUtdwqsgoyUxc5EG+204RRi1gQqbm1wNWJGMbJ0'\n",
    "    s3_endpoint = 'http://localhost:55555'  # e.g., 'https://s3.example.com'\n",
    "    bucket_name = 'vastdb'\n",
    "    object_key = 'nyc-taxi/2018-06.data.parquet'\n",
    "\n",
    "    try:\n",
    "        object_tags = list_tags_of_s3_object(aws_access_key, aws_secret_key, s3_endpoint, bucket_name, object_key)\n",
    "        \n",
    "        # Print the tags associated with the S3 object\n",
    "        print(f\"Tags for S3 object: s3://{bucket_name}/{object_key}\")\n",
    "        for tag in object_tags:\n",
    "            print(f\"Key: {tag['Key']}, Value: {tag['Value']}\")\n",
    "            \n",
    "    except NoCredentialsError:\n",
    "        print(\"AWS credentials not available.\")\n",
    "    except Exception as e:\n",
    "        print(f\"Error listing tags: {e}\")"
   ]
  },
  {
   "cell_type": "code",
   "execution_count": null,
   "id": "20292766-0a25-46f9-9d95-d59f50cfb5ea",
   "metadata": {},
   "outputs": [],
   "source": []
  },
  {
   "cell_type": "markdown",
   "id": "47172f3e-839c-4621-9910-bc8bc668e29d",
   "metadata": {},
   "source": [
    "### Create VAST DB Catalog Session"
   ]
  },
  {
   "cell_type": "code",
   "execution_count": 18,
   "id": "fd430495-6500-4afe-bbd1-adc6e9356ae7",
   "metadata": {
    "execution": {
     "iopub.execute_input": "2024-03-13T12:30:31.498419Z",
     "iopub.status.busy": "2024-03-13T12:30:31.497727Z",
     "iopub.status.idle": "2024-03-13T12:30:31.789569Z",
     "shell.execute_reply": "2024-03-13T12:30:31.788792Z",
     "shell.execute_reply.started": "2024-03-13T12:30:31.498357Z"
    },
    "tags": []
   },
   "outputs": [],
   "source": [
    "from vastdb.api import VastdbApi\n",
    "import pyarrow as pa\n",
    "\n",
    "def create_vastdb_session(access_key, secret_key):\n",
    "    return VastdbApi(host='localhost:55555', access_key=access_key, secret_key=secret_key)\n",
    "\n",
    "\n",
    "bucket_name='vastdb'\n",
    "schema_name='python-sdk'\n",
    "table='pythonsdk'\n",
    "\n",
    "access_key='BGU86QBVQBX0A71S4PTL'\n",
    "secret_key='LOUtdwqsgoyUxc5EG+204RRi1gQqbm1wNWJGMbJ0'\n",
    "vastdb_session = create_vastdb_session(access_key, secret_key)"
   ]
  },
  {
   "cell_type": "code",
   "execution_count": 19,
   "id": "7f6f67b5-fbae-47b6-958d-3e430b7f0e77",
   "metadata": {
    "execution": {
     "iopub.execute_input": "2024-03-13T12:30:42.635238Z",
     "iopub.status.busy": "2024-03-13T12:30:42.633581Z",
     "iopub.status.idle": "2024-03-13T12:30:43.181064Z",
     "shell.execute_reply": "2024-03-13T12:30:43.180320Z",
     "shell.execute_reply.started": "2024-03-13T12:30:42.635166Z"
    },
    "tags": []
   },
   "outputs": [],
   "source": [
    "field_names = ['element_type'] # Only need the element_type field for counting\n",
    "table = vastdb_session.query('vast-big-catalog-bucket', 'vast_big_catalog_schema', 'vast_big_catalog_table', field_names=field_names, num_sub_splits=8)\n",
    "df = table.to_pandas()"
   ]
  },
  {
   "cell_type": "markdown",
   "id": "c67e2259-ecaf-4e2a-9a5e-de3f05042184",
   "metadata": {},
   "source": [
    "### How many elements are in the catalog\n"
   ]
  },
  {
   "cell_type": "code",
   "execution_count": 20,
   "id": "3cf3ae56-0737-4fb0-8b73-fb5867b032df",
   "metadata": {
    "execution": {
     "iopub.execute_input": "2024-03-13T12:30:56.207438Z",
     "iopub.status.busy": "2024-03-13T12:30:56.206081Z",
     "iopub.status.idle": "2024-03-13T12:30:56.216512Z",
     "shell.execute_reply": "2024-03-13T12:30:56.215325Z",
     "shell.execute_reply.started": "2024-03-13T12:30:56.207371Z"
    },
    "tags": []
   },
   "outputs": [
    {
     "name": "stdout",
     "output_type": "stream",
     "text": [
      "Total elements in the catalog: 345\n"
     ]
    }
   ],
   "source": [
    "total_elements = len(df)\n",
    "print(f\"Total elements in the catalog: {total_elements}\")"
   ]
  },
  {
   "cell_type": "markdown",
   "id": "627bc337-4f0f-4800-b590-70fd1a4ef27a",
   "metadata": {},
   "source": [
    "### How many files/objects?\n"
   ]
  },
  {
   "cell_type": "code",
   "execution_count": 21,
   "id": "469562ed-9aff-4fcf-9baf-131366958c13",
   "metadata": {
    "execution": {
     "iopub.execute_input": "2024-03-13T12:31:01.256380Z",
     "iopub.status.busy": "2024-03-13T12:31:01.254952Z",
     "iopub.status.idle": "2024-03-13T12:31:01.264410Z",
     "shell.execute_reply": "2024-03-13T12:31:01.263695Z",
     "shell.execute_reply.started": "2024-03-13T12:31:01.256273Z"
    },
    "tags": []
   },
   "outputs": [
    {
     "name": "stdout",
     "output_type": "stream",
     "text": [
      "Number of files/objects: 163\n"
     ]
    }
   ],
   "source": [
    "file_count = len(df[df['element_type'] == 'FILE'])\n",
    "print(f\"Number of files/objects: {file_count}\")"
   ]
  },
  {
   "cell_type": "markdown",
   "id": "071c92c2-4dae-41ec-ab8b-d434177d24f2",
   "metadata": {},
   "source": [
    "### How many directories?\n"
   ]
  },
  {
   "cell_type": "code",
   "execution_count": 22,
   "id": "f3b01199-eeef-410b-a8f4-b41d607e902c",
   "metadata": {
    "execution": {
     "iopub.execute_input": "2024-03-13T12:31:17.862220Z",
     "iopub.status.busy": "2024-03-13T12:31:17.861452Z",
     "iopub.status.idle": "2024-03-13T12:31:17.875324Z",
     "shell.execute_reply": "2024-03-13T12:31:17.874509Z",
     "shell.execute_reply.started": "2024-03-13T12:31:17.862193Z"
    },
    "tags": []
   },
   "outputs": [
    {
     "name": "stdout",
     "output_type": "stream",
     "text": [
      "Number of directories: 179\n"
     ]
    }
   ],
   "source": [
    "dir_count = len(df[df['element_type'] == 'DIR'])\n",
    "print(f\"Number of directories: {dir_count}\")"
   ]
  },
  {
   "cell_type": "markdown",
   "id": "1d87b37b-bffb-4d72-805a-bfcf57f80a9f",
   "metadata": {},
   "source": [
    "### How many Database tables?"
   ]
  },
  {
   "cell_type": "code",
   "execution_count": 23,
   "id": "6619861f-a3da-4ffa-9cf8-cd77948e767f",
   "metadata": {
    "execution": {
     "iopub.execute_input": "2024-03-13T12:31:18.407462Z",
     "iopub.status.busy": "2024-03-13T12:31:18.406802Z",
     "iopub.status.idle": "2024-03-13T12:31:18.416753Z",
     "shell.execute_reply": "2024-03-13T12:31:18.416148Z",
     "shell.execute_reply.started": "2024-03-13T12:31:18.407402Z"
    },
    "tags": []
   },
   "outputs": [
    {
     "name": "stdout",
     "output_type": "stream",
     "text": [
      "Number of database tables: 2\n"
     ]
    }
   ],
   "source": [
    "table_count = len(df[df['element_type'] == 'TABLE'])\n",
    "print(f\"Number of database tables: {table_count}\")"
   ]
  },
  {
   "cell_type": "markdown",
   "id": "a85c4e86-45ae-410e-89d1-8e9688eee85f",
   "metadata": {},
   "source": [
    "### What are all of the elements on my system anyway?\n"
   ]
  },
  {
   "cell_type": "code",
   "execution_count": 24,
   "id": "834f14bb-cf91-4b47-aa32-fdcc5f2782ac",
   "metadata": {
    "execution": {
     "iopub.execute_input": "2024-03-13T12:31:22.629293Z",
     "iopub.status.busy": "2024-03-13T12:31:22.628729Z",
     "iopub.status.idle": "2024-03-13T12:31:22.634016Z",
     "shell.execute_reply": "2024-03-13T12:31:22.633317Z",
     "shell.execute_reply.started": "2024-03-13T12:31:22.629262Z"
    },
    "tags": []
   },
   "outputs": [
    {
     "name": "stdout",
     "output_type": "stream",
     "text": [
      "Distinct element types on the system:\n",
      "['FILE' 'DIR' 'SCHEMA' 'TABLE']\n"
     ]
    }
   ],
   "source": [
    "distinct_elements = df['element_type'].unique()\n",
    "print(\"Distinct element types on the system:\")\n",
    "print(distinct_elements)"
   ]
  },
  {
   "cell_type": "markdown",
   "id": "d42cc7d7-9435-498c-9958-08cb5dc0c07b",
   "metadata": {
    "execution": {
     "iopub.execute_input": "2024-01-07T17:12:48.624016Z",
     "iopub.status.busy": "2024-01-07T17:12:48.623443Z",
     "iopub.status.idle": "2024-01-07T17:12:48.628368Z",
     "shell.execute_reply": "2024-01-07T17:12:48.627455Z",
     "shell.execute_reply.started": "2024-01-07T17:12:48.623984Z"
    },
    "tags": []
   },
   "source": [
    "### Simplified example of count of elements returned from parallel execution\n",
    "\n",
    "The query_iterator iteratively executes a query on a database table, returning results in chunks as PyArrow RecordBatches, enabling efficient handling of large datasets by processing data in smaller, manageable segments.\n",
    "Simplified example of count of elements returned from parallel execution."
   ]
  },
  {
   "cell_type": "code",
   "execution_count": 25,
   "id": "518d57d8-c16e-4c10-8bf9-bf8e20fdebe1",
   "metadata": {
    "execution": {
     "iopub.execute_input": "2024-03-13T12:31:32.085675Z",
     "iopub.status.busy": "2024-03-13T12:31:32.085148Z",
     "iopub.status.idle": "2024-03-13T12:31:32.389202Z",
     "shell.execute_reply": "2024-03-13T12:31:32.387545Z",
     "shell.execute_reply.started": "2024-03-13T12:31:32.085644Z"
    },
    "tags": []
   },
   "outputs": [
    {
     "name": "stdout",
     "output_type": "stream",
     "text": [
      "Total elements in the catalog: 345\n"
     ]
    }
   ],
   "source": [
    "def query_and_count_elements(session, bucket, schema, table, field_names):\n",
    "    elements_count = 0\n",
    "\n",
    "    for record_batch in session.query_iterator(bucket, schema, table, field_names=field_names, num_sub_splits=8):\n",
    "        elements_count += len(record_batch)\n",
    "\n",
    "    return elements_count\n",
    "\n",
    "# Query Parameters\n",
    "field_names = ['element_type']  # Only need the element_type field for counting\n",
    "\n",
    "# Perform the query\n",
    "total_elements = query_and_count_elements(\n",
    "    vastdb_session, 'vast-big-catalog-bucket', 'vast_big_catalog_schema', 'vast_big_catalog_table', field_names\n",
    ")\n",
    "print(f\"Total elements in the catalog: {total_elements}\")"
   ]
  },
  {
   "cell_type": "markdown",
   "id": "cd360703-a361-47a0-8611-ca880edba24e",
   "metadata": {},
   "source": [
    "### Simple Filtering\n"
   ]
  },
  {
   "cell_type": "code",
   "execution_count": 56,
   "id": "6dd13c71-e7a2-4bfa-9fdf-13350a1e0da0",
   "metadata": {
    "execution": {
     "iopub.execute_input": "2024-03-13T14:36:43.586994Z",
     "iopub.status.busy": "2024-03-13T14:36:43.586433Z",
     "iopub.status.idle": "2024-03-13T14:36:43.808815Z",
     "shell.execute_reply": "2024-03-13T14:36:43.808371Z",
     "shell.execute_reply.started": "2024-03-13T14:36:43.586967Z"
    },
    "tags": []
   },
   "outputs": [
    {
     "data": {
      "text/html": [
       "<div>\n",
       "<style scoped>\n",
       "    .dataframe tbody tr th:only-of-type {\n",
       "        vertical-align: middle;\n",
       "    }\n",
       "\n",
       "    .dataframe tbody tr th {\n",
       "        vertical-align: top;\n",
       "    }\n",
       "\n",
       "    .dataframe thead th {\n",
       "        text-align: right;\n",
       "    }\n",
       "</style>\n",
       "<table border=\"1\" class=\"dataframe\">\n",
       "  <thead>\n",
       "    <tr style=\"text-align: right;\">\n",
       "      <th></th>\n",
       "      <th>name</th>\n",
       "      <th>creation_time</th>\n",
       "      <th>uid</th>\n",
       "      <th>owner_name</th>\n",
       "      <th>size</th>\n",
       "      <th>user_metadata</th>\n",
       "      <th>user_tags</th>\n",
       "      <th>tag_Location</th>\n",
       "    </tr>\n",
       "  </thead>\n",
       "  <tbody>\n",
       "    <tr>\n",
       "      <th>0</th>\n",
       "      <td>2018-06.data.parquet</td>\n",
       "      <td>2024-03-05 15:03:21.610385219</td>\n",
       "      <td>99999</td>\n",
       "      <td>trinos3</td>\n",
       "      <td>141083662</td>\n",
       "      <td>[(s3cmd-attrs, atime:1709650655/ctime:17096506...</td>\n",
       "      <td>[(Experiment_ID, 3333), (Lab_Device_ID, 11111)...</td>\n",
       "      <td>Basel</td>\n",
       "    </tr>\n",
       "    <tr>\n",
       "      <th>1</th>\n",
       "      <td>2019-02.data.parquet</td>\n",
       "      <td>2024-03-05 15:03:28.300958652</td>\n",
       "      <td>99999</td>\n",
       "      <td>trinos3</td>\n",
       "      <td>120274946</td>\n",
       "      <td>[(s3cmd-attrs, atime:1709650666/ctime:17096506...</td>\n",
       "      <td>[(Experiment_ID, 3333), (Lab_Device_ID, 11111)...</td>\n",
       "      <td>Basel</td>\n",
       "    </tr>\n",
       "  </tbody>\n",
       "</table>\n",
       "</div>"
      ],
      "text/plain": [
       "                   name                 creation_time    uid owner_name  \\\n",
       "0  2018-06.data.parquet 2024-03-05 15:03:21.610385219  99999    trinos3   \n",
       "1  2019-02.data.parquet 2024-03-05 15:03:28.300958652  99999    trinos3   \n",
       "\n",
       "        size                                      user_metadata  \\\n",
       "0  141083662  [(s3cmd-attrs, atime:1709650655/ctime:17096506...   \n",
       "1  120274946  [(s3cmd-attrs, atime:1709650666/ctime:17096506...   \n",
       "\n",
       "                                           user_tags tag_Location  \n",
       "0  [(Experiment_ID, 3333), (Lab_Device_ID, 11111)...        Basel  \n",
       "1  [(Experiment_ID, 3333), (Lab_Device_ID, 11111)...        Basel  "
      ]
     },
     "metadata": {},
     "output_type": "display_data"
    }
   ],
   "source": [
    "import time\n",
    "import datetime\n",
    "\n",
    "date_str = '2023-11-24'\n",
    "pattern = '%Y-%m-%d'\n",
    "epoch = int(time.mktime(time.strptime(date_str, pattern)))\n",
    "\n",
    "filters = {\n",
    "    'owner_name': ['eq trinos3'],\n",
    "    'size': ['gt 50000'],\n",
    "    'creation_time': [f'gt {epoch}'],\n",
    "    'tag_Location': ['eq Basel']\n",
    "}\n",
    "\n",
    "field_names = ['name', 'creation_time', 'uid', 'owner_name', 'size', 'user_metadata', 'user_tags', 'tag_Location']\n",
    "\n",
    "table = vastdb_session.query('vast-big-catalog-bucket', 'vast_big_catalog_schema', 'vast_big_catalog_table', filters=filters, field_names=field_names, num_sub_splits=8)\n",
    "\n",
    "df = table.to_pandas()\n",
    "display(df)\n"
   ]
  },
  {
   "cell_type": "code",
   "execution_count": 38,
   "id": "fdc238b4-feda-45f7-ac83-4eabbcac8e49",
   "metadata": {
    "execution": {
     "iopub.execute_input": "2024-03-13T13:31:54.894825Z",
     "iopub.status.busy": "2024-03-13T13:31:54.893576Z",
     "iopub.status.idle": "2024-03-13T13:31:54.906028Z",
     "shell.execute_reply": "2024-03-13T13:31:54.904778Z",
     "shell.execute_reply.started": "2024-03-13T13:31:54.894763Z"
    },
    "tags": []
   },
   "outputs": [
    {
     "data": {
      "text/plain": [
       "array([list([('s3cmd-attrs', 'atime:1709650655/ctime:1709650656/gid:1000/gname:vastdata/md5:76b073e4d79f2a77cb19d443e0b6d062/mode:33261/mtime:1709650656/uid:1000/uname:vastdata')])],\n",
       "      dtype=object)"
      ]
     },
     "metadata": {},
     "output_type": "display_data"
    }
   ],
   "source": [
    "\n",
    "display(df.head(1)['user_metadata'].values)"
   ]
  },
  {
   "cell_type": "code",
   "execution_count": 47,
   "id": "04f373d1-38d5-4550-a00f-bbae2cf7bf9b",
   "metadata": {
    "execution": {
     "iopub.execute_input": "2024-03-13T13:37:53.529345Z",
     "iopub.status.busy": "2024-03-13T13:37:53.529021Z",
     "iopub.status.idle": "2024-03-13T13:37:53.540714Z",
     "shell.execute_reply": "2024-03-13T13:37:53.539235Z",
     "shell.execute_reply.started": "2024-03-13T13:37:53.529301Z"
    },
    "tags": []
   },
   "outputs": [
    {
     "data": {
      "text/plain": [
       "array([list([('Experiment_ID', '3333'), ('Lab_Device_ID', '11111'), ('Location', 'Basel'), ('Status', 'Processing'), ('Type', 'xRNA')])],\n",
       "      dtype=object)"
      ]
     },
     "metadata": {},
     "output_type": "display_data"
    }
   ],
   "source": [
    "display(df.head(1)['user_tags'].values)\n"
   ]
  },
  {
   "cell_type": "markdown",
   "id": "df130ea3-2097-4953-8372-103177d64d23",
   "metadata": {},
   "source": [
    "### Query for Specific File Types Across Different Users:\n"
   ]
  },
  {
   "cell_type": "code",
   "execution_count": 14,
   "id": "849866b2-5925-4d27-a21e-f40dbe7ccece",
   "metadata": {
    "execution": {
     "iopub.execute_input": "2024-01-07T17:15:04.016165Z",
     "iopub.status.busy": "2024-01-07T17:15:04.015702Z",
     "iopub.status.idle": "2024-01-07T17:15:17.946919Z",
     "shell.execute_reply": "2024-01-07T17:15:17.946249Z",
     "shell.execute_reply.started": "2024-01-07T17:15:04.016133Z"
    },
    "tags": []
   },
   "outputs": [
    {
     "data": {
      "text/html": [
       "<div>\n",
       "<style scoped>\n",
       "    .dataframe tbody tr th:only-of-type {\n",
       "        vertical-align: middle;\n",
       "    }\n",
       "\n",
       "    .dataframe tbody tr th {\n",
       "        vertical-align: top;\n",
       "    }\n",
       "\n",
       "    .dataframe thead th {\n",
       "        text-align: right;\n",
       "    }\n",
       "</style>\n",
       "<table border=\"1\" class=\"dataframe\">\n",
       "  <thead>\n",
       "    <tr style=\"text-align: right;\">\n",
       "      <th></th>\n",
       "      <th>uid</th>\n",
       "      <th>owner_name</th>\n",
       "      <th>element_type</th>\n",
       "    </tr>\n",
       "  </thead>\n",
       "  <tbody>\n",
       "    <tr>\n",
       "      <th>0</th>\n",
       "      <td>1000</td>\n",
       "      <td>vastdata</td>\n",
       "      <td>FILE</td>\n",
       "    </tr>\n",
       "    <tr>\n",
       "      <th>1</th>\n",
       "      <td>1000</td>\n",
       "      <td>vastdata</td>\n",
       "      <td>FILE</td>\n",
       "    </tr>\n",
       "    <tr>\n",
       "      <th>2</th>\n",
       "      <td>1000</td>\n",
       "      <td>vastdata</td>\n",
       "      <td>FILE</td>\n",
       "    </tr>\n",
       "    <tr>\n",
       "      <th>3</th>\n",
       "      <td>1000</td>\n",
       "      <td>vastdata</td>\n",
       "      <td>FILE</td>\n",
       "    </tr>\n",
       "    <tr>\n",
       "      <th>4</th>\n",
       "      <td>1000</td>\n",
       "      <td>vastdata</td>\n",
       "      <td>FILE</td>\n",
       "    </tr>\n",
       "    <tr>\n",
       "      <th>...</th>\n",
       "      <td>...</td>\n",
       "      <td>...</td>\n",
       "      <td>...</td>\n",
       "    </tr>\n",
       "    <tr>\n",
       "      <th>477787</th>\n",
       "      <td>1000</td>\n",
       "      <td>vastdata</td>\n",
       "      <td>FILE</td>\n",
       "    </tr>\n",
       "    <tr>\n",
       "      <th>477788</th>\n",
       "      <td>1000</td>\n",
       "      <td>vastdata</td>\n",
       "      <td>FILE</td>\n",
       "    </tr>\n",
       "    <tr>\n",
       "      <th>477789</th>\n",
       "      <td>1000</td>\n",
       "      <td>vastdata</td>\n",
       "      <td>FILE</td>\n",
       "    </tr>\n",
       "    <tr>\n",
       "      <th>477790</th>\n",
       "      <td>1000</td>\n",
       "      <td>vastdata</td>\n",
       "      <td>FILE</td>\n",
       "    </tr>\n",
       "    <tr>\n",
       "      <th>477791</th>\n",
       "      <td>1000</td>\n",
       "      <td>vastdata</td>\n",
       "      <td>FILE</td>\n",
       "    </tr>\n",
       "  </tbody>\n",
       "</table>\n",
       "<p>477792 rows × 3 columns</p>\n",
       "</div>"
      ],
      "text/plain": [
       "         uid owner_name element_type\n",
       "0       1000   vastdata         FILE\n",
       "1       1000   vastdata         FILE\n",
       "2       1000   vastdata         FILE\n",
       "3       1000   vastdata         FILE\n",
       "4       1000   vastdata         FILE\n",
       "...      ...        ...          ...\n",
       "477787  1000   vastdata         FILE\n",
       "477788  1000   vastdata         FILE\n",
       "477789  1000   vastdata         FILE\n",
       "477790  1000   vastdata         FILE\n",
       "477791  1000   vastdata         FILE\n",
       "\n",
       "[477792 rows x 3 columns]"
      ]
     },
     "metadata": {},
     "output_type": "display_data"
    }
   ],
   "source": [
    "field_names = ['uid', 'owner_name', 'element_type']\n",
    "filters = {\n",
    "    'element_type': ['eq FILE', 'eq TABLE', 'eq DIR'],\n",
    "    'uid': ['eq 500', 'eq 1000']\n",
    "}\n",
    "table = vastdb_session.query('vast-big-catalog-bucket', 'vast_big_catalog_schema', 'vast_big_catalog_table', filters=filters, field_names=field_names, num_sub_splits=8)\n",
    "df = table.to_pandas()\n",
    "display(df)"
   ]
  },
  {
   "cell_type": "markdown",
   "id": "564b73e1-d500-4966-bb9e-3c748376dc6d",
   "metadata": {},
   "source": [
    "### Query for Objects Based on User and Specific Extensions\n"
   ]
  },
  {
   "cell_type": "code",
   "execution_count": 16,
   "id": "d51e1b67-c914-4897-b643-dfbcbb76611a",
   "metadata": {
    "execution": {
     "iopub.execute_input": "2024-01-07T17:15:49.116646Z",
     "iopub.status.busy": "2024-01-07T17:15:49.116090Z",
     "iopub.status.idle": "2024-01-07T17:15:58.231989Z",
     "shell.execute_reply": "2024-01-07T17:15:58.231109Z",
     "shell.execute_reply.started": "2024-01-07T17:15:49.116618Z"
    },
    "tags": []
   },
   "outputs": [
    {
     "data": {
      "text/html": [
       "<div>\n",
       "<style scoped>\n",
       "    .dataframe tbody tr th:only-of-type {\n",
       "        vertical-align: middle;\n",
       "    }\n",
       "\n",
       "    .dataframe tbody tr th {\n",
       "        vertical-align: top;\n",
       "    }\n",
       "\n",
       "    .dataframe thead th {\n",
       "        text-align: right;\n",
       "    }\n",
       "</style>\n",
       "<table border=\"1\" class=\"dataframe\">\n",
       "  <thead>\n",
       "    <tr style=\"text-align: right;\">\n",
       "      <th></th>\n",
       "      <th>uid</th>\n",
       "      <th>extension</th>\n",
       "      <th>size</th>\n",
       "    </tr>\n",
       "  </thead>\n",
       "  <tbody>\n",
       "    <tr>\n",
       "      <th>0</th>\n",
       "      <td>1000</td>\n",
       "      <td>log</td>\n",
       "      <td>45511</td>\n",
       "    </tr>\n",
       "    <tr>\n",
       "      <th>1</th>\n",
       "      <td>1000</td>\n",
       "      <td>log</td>\n",
       "      <td>4050387</td>\n",
       "    </tr>\n",
       "    <tr>\n",
       "      <th>2</th>\n",
       "      <td>1000</td>\n",
       "      <td>log</td>\n",
       "      <td>1730</td>\n",
       "    </tr>\n",
       "    <tr>\n",
       "      <th>3</th>\n",
       "      <td>1000</td>\n",
       "      <td>log</td>\n",
       "      <td>104</td>\n",
       "    </tr>\n",
       "    <tr>\n",
       "      <th>4</th>\n",
       "      <td>1000</td>\n",
       "      <td>log</td>\n",
       "      <td>240974</td>\n",
       "    </tr>\n",
       "    <tr>\n",
       "      <th>5</th>\n",
       "      <td>1000</td>\n",
       "      <td>log</td>\n",
       "      <td>47233</td>\n",
       "    </tr>\n",
       "    <tr>\n",
       "      <th>6</th>\n",
       "      <td>1000</td>\n",
       "      <td>log</td>\n",
       "      <td>73391</td>\n",
       "    </tr>\n",
       "    <tr>\n",
       "      <th>7</th>\n",
       "      <td>1000</td>\n",
       "      <td>log</td>\n",
       "      <td>77396</td>\n",
       "    </tr>\n",
       "    <tr>\n",
       "      <th>8</th>\n",
       "      <td>1000</td>\n",
       "      <td>log</td>\n",
       "      <td>47334</td>\n",
       "    </tr>\n",
       "    <tr>\n",
       "      <th>9</th>\n",
       "      <td>1000</td>\n",
       "      <td>log</td>\n",
       "      <td>40836</td>\n",
       "    </tr>\n",
       "    <tr>\n",
       "      <th>10</th>\n",
       "      <td>1000</td>\n",
       "      <td>log</td>\n",
       "      <td>31460</td>\n",
       "    </tr>\n",
       "    <tr>\n",
       "      <th>11</th>\n",
       "      <td>1000</td>\n",
       "      <td>log</td>\n",
       "      <td>1</td>\n",
       "    </tr>\n",
       "    <tr>\n",
       "      <th>12</th>\n",
       "      <td>1000</td>\n",
       "      <td>log</td>\n",
       "      <td>20002</td>\n",
       "    </tr>\n",
       "    <tr>\n",
       "      <th>13</th>\n",
       "      <td>1000</td>\n",
       "      <td>log</td>\n",
       "      <td>16541</td>\n",
       "    </tr>\n",
       "    <tr>\n",
       "      <th>14</th>\n",
       "      <td>1000</td>\n",
       "      <td>log</td>\n",
       "      <td>30185</td>\n",
       "    </tr>\n",
       "    <tr>\n",
       "      <th>15</th>\n",
       "      <td>1000</td>\n",
       "      <td>log</td>\n",
       "      <td>16649</td>\n",
       "    </tr>\n",
       "    <tr>\n",
       "      <th>16</th>\n",
       "      <td>1000</td>\n",
       "      <td>log</td>\n",
       "      <td>65283</td>\n",
       "    </tr>\n",
       "    <tr>\n",
       "      <th>17</th>\n",
       "      <td>1000</td>\n",
       "      <td>log</td>\n",
       "      <td>16591</td>\n",
       "    </tr>\n",
       "    <tr>\n",
       "      <th>18</th>\n",
       "      <td>1000</td>\n",
       "      <td>log</td>\n",
       "      <td>17126</td>\n",
       "    </tr>\n",
       "    <tr>\n",
       "      <th>19</th>\n",
       "      <td>1000</td>\n",
       "      <td>log</td>\n",
       "      <td>2297</td>\n",
       "    </tr>\n",
       "    <tr>\n",
       "      <th>20</th>\n",
       "      <td>1000</td>\n",
       "      <td>log</td>\n",
       "      <td>6602790</td>\n",
       "    </tr>\n",
       "    <tr>\n",
       "      <th>21</th>\n",
       "      <td>1000</td>\n",
       "      <td>log</td>\n",
       "      <td>2421070</td>\n",
       "    </tr>\n",
       "    <tr>\n",
       "      <th>22</th>\n",
       "      <td>1000</td>\n",
       "      <td>log</td>\n",
       "      <td>30947</td>\n",
       "    </tr>\n",
       "    <tr>\n",
       "      <th>23</th>\n",
       "      <td>1000</td>\n",
       "      <td>log</td>\n",
       "      <td>112871</td>\n",
       "    </tr>\n",
       "    <tr>\n",
       "      <th>24</th>\n",
       "      <td>1000</td>\n",
       "      <td>log</td>\n",
       "      <td>963022</td>\n",
       "    </tr>\n",
       "    <tr>\n",
       "      <th>25</th>\n",
       "      <td>1000</td>\n",
       "      <td>log</td>\n",
       "      <td>12696</td>\n",
       "    </tr>\n",
       "    <tr>\n",
       "      <th>26</th>\n",
       "      <td>1000</td>\n",
       "      <td>log</td>\n",
       "      <td>53285</td>\n",
       "    </tr>\n",
       "    <tr>\n",
       "      <th>27</th>\n",
       "      <td>1000</td>\n",
       "      <td>log</td>\n",
       "      <td>30947</td>\n",
       "    </tr>\n",
       "  </tbody>\n",
       "</table>\n",
       "</div>"
      ],
      "text/plain": [
       "     uid extension     size\n",
       "0   1000       log    45511\n",
       "1   1000       log  4050387\n",
       "2   1000       log     1730\n",
       "3   1000       log      104\n",
       "4   1000       log   240974\n",
       "5   1000       log    47233\n",
       "6   1000       log    73391\n",
       "7   1000       log    77396\n",
       "8   1000       log    47334\n",
       "9   1000       log    40836\n",
       "10  1000       log    31460\n",
       "11  1000       log        1\n",
       "12  1000       log    20002\n",
       "13  1000       log    16541\n",
       "14  1000       log    30185\n",
       "15  1000       log    16649\n",
       "16  1000       log    65283\n",
       "17  1000       log    16591\n",
       "18  1000       log    17126\n",
       "19  1000       log     2297\n",
       "20  1000       log  6602790\n",
       "21  1000       log  2421070\n",
       "22  1000       log    30947\n",
       "23  1000       log   112871\n",
       "24  1000       log   963022\n",
       "25  1000       log    12696\n",
       "26  1000       log    53285\n",
       "27  1000       log    30947"
      ]
     },
     "metadata": {},
     "output_type": "display_data"
    }
   ],
   "source": [
    "field_names = ['uid', 'extension', 'size']\n",
    "filters = {\n",
    "    'uid': ['eq 1000', 'eq 555'],\n",
    "    'extension': ['eq log', 'eq ldb']  # looking for log and ldb files\n",
    "}\n",
    "table = vastdb_session.query('vast-big-catalog-bucket', 'vast_big_catalog_schema', 'vast_big_catalog_table', filters=filters, field_names=field_names, num_sub_splits=8)\n",
    "df = table.to_pandas()\n",
    "display(df)"
   ]
  },
  {
   "cell_type": "markdown",
   "id": "2e7740e8-fd42-4d2a-a855-7770cebcd952",
   "metadata": {},
   "source": [
    "### Query for Specific File Types with Size Constraints\n"
   ]
  },
  {
   "cell_type": "code",
   "execution_count": 63,
   "id": "e9559300-f61c-4f1d-8e2d-9a9405eba046",
   "metadata": {
    "execution": {
     "iopub.execute_input": "2024-03-13T14:40:26.847113Z",
     "iopub.status.busy": "2024-03-13T14:40:26.846153Z",
     "iopub.status.idle": "2024-03-13T14:40:27.158238Z",
     "shell.execute_reply": "2024-03-13T14:40:27.157615Z",
     "shell.execute_reply.started": "2024-03-13T14:40:26.847053Z"
    },
    "tags": []
   },
   "outputs": [
    {
     "data": {
      "text/html": [
       "<div>\n",
       "<style scoped>\n",
       "    .dataframe tbody tr th:only-of-type {\n",
       "        vertical-align: middle;\n",
       "    }\n",
       "\n",
       "    .dataframe tbody tr th {\n",
       "        vertical-align: top;\n",
       "    }\n",
       "\n",
       "    .dataframe thead th {\n",
       "        text-align: right;\n",
       "    }\n",
       "</style>\n",
       "<table border=\"1\" class=\"dataframe\">\n",
       "  <thead>\n",
       "    <tr style=\"text-align: right;\">\n",
       "      <th></th>\n",
       "      <th>element_type</th>\n",
       "      <th>size</th>\n",
       "      <th>name</th>\n",
       "    </tr>\n",
       "  </thead>\n",
       "  <tbody>\n",
       "    <tr>\n",
       "      <th>0</th>\n",
       "      <td>FILE</td>\n",
       "      <td>442558237</td>\n",
       "      <td>2012-02.data.parquet</td>\n",
       "    </tr>\n",
       "    <tr>\n",
       "      <th>1</th>\n",
       "      <td>FILE</td>\n",
       "      <td>16777216</td>\n",
       "      <td>upload</td>\n",
       "    </tr>\n",
       "    <tr>\n",
       "      <th>2</th>\n",
       "      <td>FILE</td>\n",
       "      <td>146758259</td>\n",
       "      <td>2018-04.data.parquet</td>\n",
       "    </tr>\n",
       "    <tr>\n",
       "      <th>3</th>\n",
       "      <td>FILE</td>\n",
       "      <td>144467145</td>\n",
       "      <td>2018-10.data.parquet</td>\n",
       "    </tr>\n",
       "    <tr>\n",
       "      <th>4</th>\n",
       "      <td>FILE</td>\n",
       "      <td>390453487</td>\n",
       "      <td>2013-09.data.parquet</td>\n",
       "    </tr>\n",
       "    <tr>\n",
       "      <th>...</th>\n",
       "      <td>...</td>\n",
       "      <td>...</td>\n",
       "      <td>...</td>\n",
       "    </tr>\n",
       "    <tr>\n",
       "      <th>158</th>\n",
       "      <td>FILE</td>\n",
       "      <td>67108864</td>\n",
       "      <td>upload</td>\n",
       "    </tr>\n",
       "    <tr>\n",
       "      <th>159</th>\n",
       "      <td>FILE</td>\n",
       "      <td>346955670</td>\n",
       "      <td>2014-01.data.parquet</td>\n",
       "    </tr>\n",
       "    <tr>\n",
       "      <th>160</th>\n",
       "      <td>FILE</td>\n",
       "      <td>376498312</td>\n",
       "      <td>2013-01.data.parquet</td>\n",
       "    </tr>\n",
       "    <tr>\n",
       "      <th>161</th>\n",
       "      <td>FILE</td>\n",
       "      <td>145782225</td>\n",
       "      <td>2017-11.data.parquet</td>\n",
       "    </tr>\n",
       "    <tr>\n",
       "      <th>162</th>\n",
       "      <td>FILE</td>\n",
       "      <td>67108864</td>\n",
       "      <td>upload</td>\n",
       "    </tr>\n",
       "  </tbody>\n",
       "</table>\n",
       "<p>163 rows × 3 columns</p>\n",
       "</div>"
      ],
      "text/plain": [
       "    element_type       size                  name\n",
       "0           FILE  442558237  2012-02.data.parquet\n",
       "1           FILE   16777216                upload\n",
       "2           FILE  146758259  2018-04.data.parquet\n",
       "3           FILE  144467145  2018-10.data.parquet\n",
       "4           FILE  390453487  2013-09.data.parquet\n",
       "..           ...        ...                   ...\n",
       "158         FILE   67108864                upload\n",
       "159         FILE  346955670  2014-01.data.parquet\n",
       "160         FILE  376498312  2013-01.data.parquet\n",
       "161         FILE  145782225  2017-11.data.parquet\n",
       "162         FILE   67108864                upload\n",
       "\n",
       "[163 rows x 3 columns]"
      ]
     },
     "metadata": {},
     "output_type": "display_data"
    }
   ],
   "source": [
    "field_names = ['element_type', 'size', 'name']\n",
    "filters = {\n",
    "    'element_type': ['eq FILE'],\n",
    "    'size': ['gt 50000', 'lt 1000000']  # size between 50 KB and 1 MB\n",
    "}\n",
    "table = vastdb_session.query('vast-big-catalog-bucket', 'vast_big_catalog_schema', 'vast_big_catalog_table', filters=filters, field_names=field_names, num_sub_splits=8)\n",
    "df = table.to_pandas()\n",
    "display(df)"
   ]
  },
  {
   "cell_type": "markdown",
   "id": "89e13b22-f553-4297-97eb-4bbffa29dbb6",
   "metadata": {},
   "source": [
    "### Query for Large TABLE Objects by Specific Users\n"
   ]
  },
  {
   "cell_type": "code",
   "execution_count": null,
   "id": "d64c6421-e98e-43dc-99f1-6d53e621f9dc",
   "metadata": {},
   "outputs": [],
   "source": []
  },
  {
   "cell_type": "code",
   "execution_count": null,
   "id": "342c2c1d-125d-4bb2-a315-881097d54a2f",
   "metadata": {},
   "outputs": [],
   "source": [
    "field_names = ['uid', 'owner_name', 'size', 'element_type']\n",
    "filters = {\n",
    "    'uid': ['eq 555'],\n",
    "    'element_type': ['eq TABLE'],\n",
    "    'size': ['gt 10000000']  # greater than 10 MB\n",
    "}\n",
    "table = vastdb_session.query('vast-big-catalog-bucket', 'vast_big_catalog_schema', 'vast_big_catalog_table', filters=filters, field_names=field_names, num_sub_splits=8)\n",
    "df = table.to_pandas()\n",
    "print(df)"
   ]
  },
  {
   "cell_type": "markdown",
   "id": "f7c3f493-1c54-4854-915b-d4f0b205a10f",
   "metadata": {},
   "source": [
    "### Timestamp Filtering\n",
    "Query by birthdate: VAST uses a “creation_time” column to indicate when a new element is created:\n",
    "This will output all objects linked after noon on September 1st. It will not output files that have been moved to a new path.\n",
    "\n",
    "NOTE : Same method can be applied for acces-time (atime), modification-time (mtime) & metadata-update-times (ctime).\n"
   ]
  },
  {
   "cell_type": "code",
   "execution_count": null,
   "id": "3879a1eb-0054-4f9d-bf82-56e2e28d7d36",
   "metadata": {
    "execution": {
     "iopub.status.busy": "2024-01-07T17:22:31.820836Z",
     "iopub.status.idle": "2024-01-07T17:22:31.821106Z",
     "shell.execute_reply": "2024-01-07T17:22:31.820978Z",
     "shell.execute_reply.started": "2024-01-07T17:22:31.820965Z"
    },
    "tags": []
   },
   "outputs": [],
   "source": [
    "# i.e: SELECT CONCAT(parent_path, name) FROM vast_big_catalog_table WHERE creation_time > TIMESTAMP '2023-09-01 12:00:01'\n",
    "\n",
    "# Set the timestamp for comparison\n",
    "timestamp_birthdate = pd.Timestamp('2023-09-01 12:00:01')\n",
    "\n",
    "# Convert the timestamp to an integer\n",
    "timestamp_birthdate_int = int(timestamp_birthdate.timestamp())\n",
    "\n",
    "# Query the database\n",
    "field_names = ['creation_time', 'parent_path', 'name']\n",
    "filters = {'creation_time': [f'gt {timestamp_birthdate_int}']}\n",
    "table = vastdb_session.query('vast-big-catalog-bucket', 'vast_big_catalog_schema', 'vast_big_catalog_table', filters=filters, field_names=field_names, num_sub_splits=8)\n",
    "df = table.to_pandas()\n",
    "\n",
    "# Filter and concatenate paths\n",
    "df_filtered = df[df['creation_time'] > timestamp_birthdate]\n",
    "df_filtered['full_path'] = df_filtered['parent_path'] + df_filtered['name']\n",
    "\n",
    "# Print result\n",
    "print(\"Objects created after 2023-09-01 12:00:01:\")\n",
    "display(df_filtered['full_path'])"
   ]
  },
  {
   "cell_type": "markdown",
   "id": "06619495-76dd-4a59-bb03-b59263a021b6",
   "metadata": {},
   "source": [
    "### Reporting\n",
    "Simple queries to tell you basic statistics on a section of the namespace\n",
    "Report statistics on parts of the namespace - Summarizing files of a certain type (FILE), belonging to a specific user (uid=555), and located in a certain path (/parquet-files-bucket)"
   ]
  },
  {
   "cell_type": "code",
   "execution_count": 62,
   "id": "9b56e481-bd85-4bdf-860a-e84a052c60d6",
   "metadata": {
    "execution": {
     "iopub.execute_input": "2024-03-13T14:40:16.363361Z",
     "iopub.status.busy": "2024-03-13T14:40:16.362672Z",
     "iopub.status.idle": "2024-03-13T14:40:16.587776Z",
     "shell.execute_reply": "2024-03-13T14:40:16.586697Z",
     "shell.execute_reply.started": "2024-03-13T14:40:16.363275Z"
    },
    "tags": []
   },
   "outputs": [
    {
     "name": "stdout",
     "output_type": "stream",
     "text": [
      "No data returned from query. Please check filters and field names.\n"
     ]
    }
   ],
   "source": [
    "import numpy as np\n",
    "\n",
    "# Query the database\n",
    "field_names = ['uid', 'used', 'size']\n",
    "filters = {\n",
    "    'search_path': ['eq /nyc-taxi'],\n",
    "    'element_type': ['eq FILE']\n",
    "}\n",
    "table = vastdb_session.query('vast-big-catalog-bucket', 'vast_big_catalog_schema', 'vast_big_catalog_table', filters=filters, field_names=field_names, num_sub_splits=8)\n",
    "df = table.to_pandas()\n",
    "\n",
    "# Check if DataFrame is empty\n",
    "if df.empty:\n",
    "    print(\"No data returned from query. Please check filters and field names.\")\n",
    "else:\n",
    "    # Perform aggregations\n",
    "    users_count = df['uid'].nunique()\n",
    "    files_count = len(df)\n",
    "    kb_used_sum = df['used'].sum() / 1000\n",
    "    avg_size_kb = df['size'].mean() / 1000\n",
    "\n",
    "    # Formatting results\n",
    "    formatted_results = {\n",
    "        'users': f\"{users_count:,d}\",\n",
    "        'Files': f\"{files_count:,d}\",\n",
    "        'KB_Used': f\"{kb_used_sum:,.0f}\",\n",
    "        'Avg_Size_KB': f\"{avg_size_kb:,.2f}\"\n",
    "    }\n",
    "\n",
    "    # Print formatted results\n",
    "    print(\"Aggregated Results:\")\n",
    "    print(formatted_results)"
   ]
  },
  {
   "cell_type": "markdown",
   "id": "3950611c-084d-44fc-9663-ac72c1a2d5fe",
   "metadata": {},
   "source": [
    "### Capacity Grouping & Usage report\n",
    "Here’s a report on all the users on the system:\n",
    "Get Files across whole system('/'), group by owner_name, sum files, total and average size in kilobytes, oldest creation time, and most recent access time for each file owner.\n",
    "Note - display is a IPython function which aggregates results in table format\n"
   ]
  },
  {
   "cell_type": "code",
   "execution_count": 59,
   "id": "5e79f3de-a52b-4154-85dc-540deed1b05f",
   "metadata": {
    "execution": {
     "iopub.execute_input": "2024-03-13T14:39:35.083562Z",
     "iopub.status.busy": "2024-03-13T14:39:35.082222Z",
     "iopub.status.idle": "2024-03-13T14:39:35.386189Z",
     "shell.execute_reply": "2024-03-13T14:39:35.385190Z",
     "shell.execute_reply.started": "2024-03-13T14:39:35.083499Z"
    },
    "tags": []
   },
   "outputs": [
    {
     "data": {
      "text/html": [
       "<div>\n",
       "<style scoped>\n",
       "    .dataframe tbody tr th:only-of-type {\n",
       "        vertical-align: middle;\n",
       "    }\n",
       "\n",
       "    .dataframe tbody tr th {\n",
       "        vertical-align: top;\n",
       "    }\n",
       "\n",
       "    .dataframe thead th {\n",
       "        text-align: right;\n",
       "    }\n",
       "</style>\n",
       "<table border=\"1\" class=\"dataframe\">\n",
       "  <thead>\n",
       "    <tr style=\"text-align: right;\">\n",
       "      <th></th>\n",
       "      <th>Files</th>\n",
       "      <th>KB_Used</th>\n",
       "      <th>Avg_Size_KB</th>\n",
       "      <th>Oldest_data</th>\n",
       "      <th>Last_access</th>\n",
       "    </tr>\n",
       "    <tr>\n",
       "      <th>owner_name</th>\n",
       "      <th></th>\n",
       "      <th></th>\n",
       "      <th></th>\n",
       "      <th></th>\n",
       "      <th></th>\n",
       "    </tr>\n",
       "  </thead>\n",
       "  <tbody>\n",
       "    <tr>\n",
       "      <th>0</th>\n",
       "      <td>40</td>\n",
       "      <td>0</td>\n",
       "      <td>0.00</td>\n",
       "      <td>2024-03-05 15:21:31.916288773</td>\n",
       "      <td>2024-03-05 15:25:42.213137875</td>\n",
       "    </tr>\n",
       "    <tr>\n",
       "      <th>trinos3</th>\n",
       "      <td>123</td>\n",
       "      <td>30,963,037</td>\n",
       "      <td>251,732.01</td>\n",
       "      <td>2024-03-05 15:00:39.594759193</td>\n",
       "      <td>2024-03-05 15:25:42.864619921</td>\n",
       "    </tr>\n",
       "  </tbody>\n",
       "</table>\n",
       "</div>"
      ],
      "text/plain": [
       "           Files     KB_Used Avg_Size_KB                   Oldest_data  \\\n",
       "owner_name                                                               \n",
       "0             40           0        0.00 2024-03-05 15:21:31.916288773   \n",
       "trinos3      123  30,963,037  251,732.01 2024-03-05 15:00:39.594759193   \n",
       "\n",
       "                             Last_access  \n",
       "owner_name                                \n",
       "0          2024-03-05 15:25:42.213137875  \n",
       "trinos3    2024-03-05 15:25:42.864619921  "
      ]
     },
     "metadata": {},
     "output_type": "display_data"
    }
   ],
   "source": [
    "from IPython.display import display\n",
    "import pandas as pd\n",
    "import numpy as np\n",
    "\n",
    "# Querying the database\n",
    "filters = {\n",
    "    'element_type': ['eq FILE'],\n",
    "    'search_path': ['eq /']\n",
    "}\n",
    "field_names = ['owner_name', 'used', 'size', 'creation_time', 'atime']\n",
    "\n",
    "table = vastdb_session.query('vast-big-catalog-bucket', 'vast_big_catalog_schema', 'vast_big_catalog_table', filters=filters, field_names=field_names, num_sub_splits=8)\n",
    "df = table.to_pandas()\n",
    "pd.options.display.max_columns = None\n",
    "\n",
    "# Aggregating data\n",
    "aggregated_data = df.groupby('owner_name').agg(\n",
    "    Files=('owner_name', 'count'),\n",
    "    KB_Used=('used', lambda x: np.sum(x)/1000),\n",
    "    Avg_Size_KB=('size', lambda x: np.mean(x)/1000),\n",
    "    Oldest_data=('creation_time', 'min'),\n",
    "    Last_access=('atime', 'max')\n",
    ")\n",
    "\n",
    "# Formatting results\n",
    "aggregated_data['Files'] = aggregated_data['Files'].apply(lambda x: f\"{x:,d}\")\n",
    "aggregated_data['KB_Used'] = aggregated_data['KB_Used'].apply(lambda x: f\"{x:,.0f}\")\n",
    "aggregated_data['Avg_Size_KB'] = aggregated_data['Avg_Size_KB'].apply(lambda x: f\"{x:,.2f}\")\n",
    "\n",
    "display(aggregated_data)"
   ]
  },
  {
   "cell_type": "markdown",
   "id": "3e535344-5ecc-4df9-b152-3b212543647e",
   "metadata": {},
   "source": [
    "### Catalog Snapshots Comparisons\n",
    "You can access catalog snapshot by navigating the schema space.\n",
    "The most obvious use of snapshot comparisons is delete detection, followed by move detection.\n",
    "Delete detection\n",
    "Query Returns: This script compares the current state with a specific historical snapshot, identifying files present in the current table but not in the snapshot, based on their element_type and search_path.\n",
    "Access to Snapshot: Access to a snapshot works by querying a specific schema directory (representing the snapshot) within the bucket\n"
   ]
  },
  {
   "cell_type": "code",
   "execution_count": null,
   "id": "deef4c85-5b1a-4998-8f15-bebbac388375",
   "metadata": {},
   "outputs": [],
   "source": [
    "def query_table(schema):\n",
    "    table = vastdb_session.query('vast-big-catalog-bucket', schema, 'vast_big_catalog_table', filters=filters, num_sub_splits=8)\n",
    "    df = table.to_pandas()\n",
    "    df['full_path'] = df['parent_path'] + df['name']\n",
    "    return set(df['full_path'])\n",
    "\n",
    "# Query Filters\n",
    "filters = {\n",
    "    'element_type': ['eq FILE'],\n",
    "    'search_path': ['eq /']\n",
    "}\n",
    "\n",
    "# Query the current table and the snapshot\n",
    "current_set = query_table('vast_big_catalog_schema')\n",
    "snapshot_set = query_table('.snapshot/bc_table_2023-12-10_13_53_36/vast_big_catalog_schema')\n",
    "\n",
    "# Find differences (Current Table vs Snapshot)\n",
    "difference = current_set - snapshot_set\n",
    "\n",
    "# Output\n",
    "if difference:\n",
    "    print(f\"[INFO] Found {len(difference)} files in the current table but not in the snapshot:\")\n",
    "    for item in difference:\n",
    "        print(item)\n",
    "else:\n",
    "    print(\"[INFO] No differences found\")"
   ]
  }
 ],
 "metadata": {
  "kernelspec": {
   "display_name": "Python 3 (ipykernel)",
   "language": "python",
   "name": "python3"
  },
  "language_info": {
   "codemirror_mode": {
    "name": "ipython",
    "version": 3
   },
   "file_extension": ".py",
   "mimetype": "text/x-python",
   "name": "python",
   "nbconvert_exporter": "python",
   "pygments_lexer": "ipython3",
   "version": "3.11.6"
  }
 },
 "nbformat": 4,
 "nbformat_minor": 5
}
