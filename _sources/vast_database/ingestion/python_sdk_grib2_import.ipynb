{
 "cells": [
  {
   "cell_type": "markdown",
   "id": "ee074109-4ba5-4511-af35-3be98df68432",
   "metadata": {},
   "source": [
    "# Python SDK - import Grib2\n",
    "\n",
    "## Download sample data"
   ]
  },
  {
   "cell_type": "code",
   "execution_count": 1,
   "id": "a2cd7024-8d5c-4bb9-bed9-52a236e63430",
   "metadata": {},
   "outputs": [
    {
     "name": "stdout",
     "output_type": "stream",
     "text": [
      "--2024-12-11 23:31:45--  https://dd.weather.gc.ca/model_gem_global/15km/grib2/lat_lon/00/000/CMC_glb_ABSV_ISBL_200_latlon.15x.15_2024121100_P000.grib2\n",
      "Resolving dd.weather.gc.ca (dd.weather.gc.ca)... 205.189.10.47\n",
      "Connecting to dd.weather.gc.ca (dd.weather.gc.ca)|205.189.10.47|:443... connected.\n",
      "HTTP request sent, awaiting response... 416 Requested Range Not Satisfiable\n",
      "\n",
      "    The file is already fully retrieved; nothing to do.\n",
      "\n"
     ]
    }
   ],
   "source": [
    "! wget -c https://dd.weather.gc.ca/model_gem_global/15km/grib2/lat_lon/00/000/CMC_glb_ABSV_ISBL_200_latlon.15x.15_2024121100_P000.grib2"
   ]
  },
  {
   "cell_type": "markdown",
   "id": "4fcf273d-d200-499a-b54e-f431a82f0008",
   "metadata": {},
   "source": [
    "## Convert to Parquet"
   ]
  },
  {
   "cell_type": "code",
   "execution_count": 2,
   "id": "9cd5d89d-eba7-4981-a6ea-11b4669827df",
   "metadata": {},
   "outputs": [],
   "source": [
    "! pip install --quiet cfgrib xarray pandas pyarrow"
   ]
  },
  {
   "cell_type": "code",
   "execution_count": 3,
   "id": "6ab00fe3-4e12-491d-b404-84906ffaf6b1",
   "metadata": {},
   "outputs": [
    {
     "name": "stdout",
     "output_type": "stream",
     "text": [
      "Saved to grib2.parquet\n"
     ]
    }
   ],
   "source": [
    "import cfgrib\n",
    "import xarray as xr\n",
    "import pandas as pd\n",
    "\n",
    "# Path to the GRIB2 file\n",
    "grib2_file = \"CMC_glb_ABSV_ISBL_200_latlon.15x.15_2024121100_P000.grib2\"\n",
    "\n",
    "# Read GRIB2 file using xarray and cfgrib\n",
    "ds = xr.open_dataset(grib2_file, engine=\"cfgrib\")\n",
    "\n",
    "# Convert to a Pandas DataFrame\n",
    "df = ds.to_dataframe().reset_index()\n",
    "\n",
    "# Save DataFrame to Parquet\n",
    "parquet_file = \"grib2.parquet\"\n",
    "df.to_parquet(parquet_file, engine=\"pyarrow\", index=False)\n",
    "\n",
    "print(f\"Saved to {parquet_file}\")\n"
   ]
  },
  {
   "cell_type": "markdown",
   "id": "816ba537-fda5-4c66-b1ce-e7fc8e6437e5",
   "metadata": {},
   "source": [
    "## Check for fields incompatible with Vast DB\n",
    "\n",
    "See: https://vast-data.github.io/data-platform-field-docs/vast_database/sdk_ref/verify_parquet.html"
   ]
  },
  {
   "cell_type": "code",
   "execution_count": 4,
   "id": "4a55a33e-cb7a-4888-8585-441299647e8e",
   "metadata": {},
   "outputs": [],
   "source": [
    "! pip install --upgrade --quiet git+https://github.com/snowch/vastdb_parq_schema_file.git --use-pep517"
   ]
  },
  {
   "cell_type": "code",
   "execution_count": 5,
   "id": "78717318-40ee-4210-95ff-0c21c51684db",
   "metadata": {},
   "outputs": [
    {
     "name": "stdout",
     "output_type": "stream",
     "text": [
      "Parquet schema:\n",
      "latitude: double\n",
      "longitude: double\n",
      "time: timestamp[ns]\n",
      "step: duration[ns]\n",
      "isobaricInhPa: double\n",
      "valid_time: timestamp[ns]\n",
      "absv: float\n",
      "-- schema metadata --\n",
      "pandas: '{\"index_columns\": [], \"column_indexes\": [], \"columns\": [{\"name\":' + 909\n",
      "Checking column types...\n",
      "Column 'time' has a non-matching type: TIMESTAMP[NS]\n",
      "Column 'step' has a non-matching type: DURATION[NS]\n",
      "Column 'valid_time' has a non-matching type: TIMESTAMP[NS]\n",
      "Column type check complete.\n"
     ]
    }
   ],
   "source": [
    "! parquet_checker grib2.parquet"
   ]
  },
  {
   "cell_type": "markdown",
   "id": "f17b4dcd-be9b-44a0-8fdf-0bbb481b6946",
   "metadata": {},
   "source": [
    "TIMESTAMP[NS] should be supported, but DURATION[NS] not - https://github.com/vast-data/vastdb_sdk/blob/main/docs/types.md"
   ]
  },
  {
   "cell_type": "markdown",
   "id": "3d1df1e7-d831-4b77-a37b-fbf40ed5694e",
   "metadata": {},
   "source": [
    "## Convert incompatible fields\n",
    "\n",
    "Convert to string for now"
   ]
  },
  {
   "cell_type": "code",
   "execution_count": 6,
   "id": "47b2b196-8b12-4d4f-8590-91e4e4fc7840",
   "metadata": {},
   "outputs": [],
   "source": [
    "import pyarrow as pa\n",
    "import pyarrow.parquet as pq\n",
    "\n",
    "def convert_parquet_fields_to_string(input_file, output_file, chunksize=1024):\n",
    "    \"\"\"\n",
    "    Convert DURATION[NS] fields to strings in a Parquet file.\n",
    "\n",
    "    Args:\n",
    "        input_file (str): Path to the input Parquet file.\n",
    "        output_file (str): Path to the output Parquet file.\n",
    "        chunksize (int): Number of rows per batch to process.\n",
    "    \"\"\"\n",
    "    print(f\"Converting DURATION[NS] to string in {input_file}\")\n",
    "\n",
    "    # Open the input Parquet file\n",
    "    parquet_file_obj = pq.ParquetFile(input_file)\n",
    "    schema = parquet_file_obj.schema_arrow\n",
    "\n",
    "    # Modify schema to change relevant fields to string\n",
    "    new_fields = [\n",
    "        pa.field(\n",
    "            field.name,\n",
    "            pa.string() if field.type == pa.duration(\"ns\") else field.type\n",
    "            # pa.string() if field.type in (pa.timestamp(\"ns\"), pa.duration(\"ns\")) else field.type\n",
    "        )\n",
    "        for field in schema\n",
    "    ]\n",
    "    new_schema = pa.schema(new_fields)\n",
    "\n",
    "    # Open a ParquetWriter for the output file\n",
    "    with pq.ParquetWriter(output_file, new_schema) as writer:\n",
    "        # Process the file in chunks\n",
    "        for batch in parquet_file_obj.iter_batches(batch_size=chunksize):\n",
    "            table = pa.Table.from_batches([batch], schema=schema)\n",
    "\n",
    "            # Cast DURATION[NS] columns to string\n",
    "            for col_name in table.column_names:\n",
    "                # if table.schema.field(col_name).type in (pa.timestamp(\"ns\"), pa.duration(\"ns\")):\n",
    "                if table.schema.field(col_name).type == pa.duration(\"ns\"):\n",
    "                    table = table.set_column(\n",
    "                        table.schema.get_field_index(col_name),\n",
    "                        col_name,\n",
    "                        table[col_name].cast(pa.string())\n",
    "                    )\n",
    "\n",
    "            # Write the modified table to the output file\n",
    "            writer.write_table(table)\n",
    "\n",
    "    print(f\"Converted file saved to {output_file}\")"
   ]
  },
  {
   "cell_type": "code",
   "execution_count": 7,
   "id": "08bb4308-0062-4271-9a4d-224ad9e64515",
   "metadata": {},
   "outputs": [
    {
     "name": "stdout",
     "output_type": "stream",
     "text": [
      "Converting DURATION[NS] to string in grib2.parquet\n",
      "Converted file saved to vastdb_compat.parquet\n"
     ]
    }
   ],
   "source": [
    "convert_parquet_fields_to_string('grib2.parquet', 'vastdb_compat.parquet', chunksize=1024)"
   ]
  },
  {
   "cell_type": "markdown",
   "id": "d779a897-f169-488e-b623-ab6f04d57f2d",
   "metadata": {},
   "source": [
    "## Re-check for incompatible fields"
   ]
  },
  {
   "cell_type": "code",
   "execution_count": 8,
   "id": "32ffcb36-a11b-4105-8671-649515f5dff0",
   "metadata": {},
   "outputs": [
    {
     "name": "stdout",
     "output_type": "stream",
     "text": [
      "Parquet schema:\n",
      "latitude: double\n",
      "longitude: double\n",
      "time: timestamp[ns]\n",
      "step: string\n",
      "isobaricInhPa: double\n",
      "valid_time: timestamp[ns]\n",
      "absv: float\n",
      "Checking column types...\n",
      "Column 'time' has a non-matching type: TIMESTAMP[NS]\n",
      "Column 'valid_time' has a non-matching type: TIMESTAMP[NS]\n",
      "Column type check complete.\n"
     ]
    }
   ],
   "source": [
    "! parquet_checker vastdb_compat.parquet"
   ]
  },
  {
   "cell_type": "markdown",
   "id": "bdd05502-c052-4c4e-bd34-09ce101fb5df",
   "metadata": {},
   "source": [
    "## Read parquet and write to Vast DB\n",
    "\n",
    "Code is from https://vast-data.github.io/data-platform-field-docs/vast_database/ingestion/python_sdk_parquet_import.html\n"
   ]
  },
  {
   "cell_type": "code",
   "execution_count": 9,
   "id": "9cdc1e01-706e-4578-bfa8-e59ef2b81aef",
   "metadata": {},
   "outputs": [],
   "source": [
    "! pip install --quiet --upgrade vastdb numpy pyarrow pandas"
   ]
  },
  {
   "cell_type": "code",
   "execution_count": null,
   "id": "d950f34c-ae10-4470-95f0-d4862765fe00",
   "metadata": {},
   "outputs": [],
   "source": [
    "import io\n",
    "import os\n",
    "import pyarrow as pa\n",
    "from pyarrow import csv as pa_csv\n",
    "import pyarrow.parquet as pq\n",
    "from io import StringIO\n",
    "import numpy as np\n",
    "import pandas as pd\n",
    "import vastdb\n",
    "from vastdb.config import QueryConfig\n",
    "\n",
    "def read_parquet(file_path):\n",
    "    \"\"\"Reads Parquet data from a file.\"\"\"\n",
    "    try:\n",
    "        return pq.read_table(file_path)\n",
    "    except Exception as e:\n",
    "        raise RuntimeError(f\"Error reading Parquet file: {e}\") from e\n",
    "\n",
    "def connect_to_vastdb(endpoint, access_key, secret_key):\n",
    "    \"\"\"Connects to VastDB.\"\"\"\n",
    "    try:\n",
    "        session = vastdb.connect(endpoint=endpoint, access=access_key, secret=secret_key)\n",
    "        print(\"Connected to VastDB\")\n",
    "        return session\n",
    "    except Exception as e:\n",
    "        raise RuntimeError(f\"Failed to connect to VastDB: {e}\") from e\n",
    "\n",
    "def write_to_vastdb(session, bucket_name, schema_name, table_name, pa_table):\n",
    "    \"\"\"Writes data to VastDB.\"\"\"\n",
    "    with session.transaction() as tx:\n",
    "        bucket = tx.bucket(bucket_name)\n",
    "        schema = bucket.schema(schema_name, fail_if_missing=False) or bucket.create_schema(schema_name)\n",
    "\n",
    "        table = schema.table(table_name, fail_if_missing=False) or schema.create_table(table_name, pa_table.schema)\n",
    "\n",
    "        columns_to_add = get_columns_to_add(table.arrow_schema, pa_table.schema)\n",
    "        for column in columns_to_add:\n",
    "            table.add_column(column)\n",
    "\n",
    "        table.insert(pa_table)\n",
    "\n",
    "def get_columns_to_add(existing_schema, desired_schema):\n",
    "    \"\"\"Identifies columns to add to an existing schema.\"\"\"\n",
    "    existing_fields = set(existing_schema.names)\n",
    "    desired_fields = set(desired_schema.names)\n",
    "    return [pa.schema([pa.field(name, desired_schema.field(name).type)]) for name in desired_fields - existing_fields]\n",
    "\n",
    "\n",
    "def query_vastdb(session, bucket_name, schema_name, table_name, limit=None):\n",
    "    \"\"\"Writes data to VastDB.\"\"\"\n",
    "    with session.transaction() as tx:\n",
    "        bucket = tx.bucket(bucket_name)\n",
    "        schema = bucket.schema(schema_name, fail_if_missing=True)\n",
    "        table = schema.table(table_name, fail_if_missing=True)\n",
    "\n",
    "        if limit:\n",
    "            # See: https://vast-data.github.io/data-platform-field-docs/vast_database/sdk_ref/limit_n.html\n",
    "            config = QueryConfig(\n",
    "                num_splits=1,                \t  # Manually specify 1 split\n",
    "                num_sub_splits=1,                 # Each split will be divided into 1 subsplits\n",
    "                limit_rows_per_sub_split=limit,   # Each subsplit will process 10 rows at a time\n",
    "            )\n",
    "            batches = table.select(config=config)\n",
    "            first_batch = next(batches)\n",
    "            return first_batch.to_pandas()\n",
    "        else:\n",
    "            return table.select().read_all().to_pandas()\n",
    "\n",
    "def drop_vastdb_table(session, bucket_name, schema_name, table_name):\n",
    "    \"\"\"Writes data to VastDB.\"\"\"\n",
    "    with session.transaction() as tx:\n",
    "        bucket = tx.bucket(bucket_name)\n",
    "        schema = bucket.schema(schema_name, fail_if_missing=False) or bucket.create_schema(schema_name)\n",
    "\n",
    "        table = schema.table(table_name, fail_if_missing=False)\n",
    "        if table:\n",
    "            table.drop()"
   ]
  },
  {
   "cell_type": "code",
   "execution_count": 11,
   "id": "31968017-a253-45ed-a3fc-8fae447e5ce7",
   "metadata": {},
   "outputs": [],
   "source": [
    "import os\n",
    "\n",
    "VASTDB_ENDPOINT = os.getenv(\"VASTDB_ENDPOINT\")\n",
    "VASTDB_ACCESS_KEY = os.getenv(\"VASTDB_ACCESS_KEY\")\n",
    "VASTDB_SECRET_KEY = os.getenv(\"VASTDB_SECRET_KEY\")\n",
    "\n",
    "# Use NYT BUCKET (DB) for now\n",
    "VASTDB_NYT_BUCKET=os.getenv(\"VASTDB_NYT_BUCKET\")\n",
    "schema_name = 'grib2'\n",
    "table_name = 'grib2'"
   ]
  },
  {
   "cell_type": "markdown",
   "id": "ea600b86-81e4-47ec-bae6-9e7d85fb2d0c",
   "metadata": {},
   "source": [
    "## Write to Vast DB"
   ]
  },
  {
   "cell_type": "code",
   "execution_count": 12,
   "id": "b6352ead-08a6-484f-b0ee-5c4325cd6e93",
   "metadata": {},
   "outputs": [
    {
     "name": "stdout",
     "output_type": "stream",
     "text": [
      "Connected to VastDB\n"
     ]
    }
   ],
   "source": [
    "session = connect_to_vastdb(VASTDB_ENDPOINT, VASTDB_ACCESS_KEY, VASTDB_SECRET_KEY)"
   ]
  },
  {
   "cell_type": "code",
   "execution_count": 13,
   "id": "73e72210-898a-44a7-a40d-1ec839c49b78",
   "metadata": {},
   "outputs": [],
   "source": [
    "pa_table = read_parquet('vastdb_compat.parquet')\n",
    "\n",
    "with session.transaction() as tx:\n",
    "    bucket = tx.bucket(VASTDB_NYT_BUCKET)\n",
    "    schema = bucket.schema(schema_name, fail_if_missing=False) or bucket.create_schema(schema_name)\n",
    "    table = schema.table(table_name, fail_if_missing=False) or schema.create_table(table_name, pa_table.schema)\n",
    "    if table:\n",
    "        table.drop()\n",
    "\n",
    "write_to_vastdb(session, VASTDB_NYT_BUCKET, schema_name, table_name, pa_table)"
   ]
  },
  {
   "cell_type": "markdown",
   "id": "4d3408ed-d91a-4e45-9c7f-c12225d9be1e",
   "metadata": {},
   "source": [
    "## Query grib2 data in Vast DB"
   ]
  },
  {
   "cell_type": "code",
   "execution_count": 14,
   "id": "44c846e9-872e-40fd-9473-d8d296bfe803",
   "metadata": {},
   "outputs": [
    {
     "data": {
      "text/html": [
       "<div>\n",
       "<style scoped>\n",
       "    .dataframe tbody tr th:only-of-type {\n",
       "        vertical-align: middle;\n",
       "    }\n",
       "\n",
       "    .dataframe tbody tr th {\n",
       "        vertical-align: top;\n",
       "    }\n",
       "\n",
       "    .dataframe thead th {\n",
       "        text-align: right;\n",
       "    }\n",
       "</style>\n",
       "<table border=\"1\" class=\"dataframe\">\n",
       "  <thead>\n",
       "    <tr style=\"text-align: right;\">\n",
       "      <th></th>\n",
       "      <th>latitude</th>\n",
       "      <th>longitude</th>\n",
       "      <th>time</th>\n",
       "      <th>step</th>\n",
       "      <th>isobaricInhPa</th>\n",
       "      <th>valid_time</th>\n",
       "      <th>absv</th>\n",
       "    </tr>\n",
       "  </thead>\n",
       "  <tbody>\n",
       "    <tr>\n",
       "      <th>0</th>\n",
       "      <td>-57.3</td>\n",
       "      <td>-16.80</td>\n",
       "      <td>2024-12-11</td>\n",
       "      <td>0</td>\n",
       "      <td>200.0</td>\n",
       "      <td>2024-12-11</td>\n",
       "      <td>-0.000118</td>\n",
       "    </tr>\n",
       "    <tr>\n",
       "      <th>1</th>\n",
       "      <td>-57.3</td>\n",
       "      <td>-16.65</td>\n",
       "      <td>2024-12-11</td>\n",
       "      <td>0</td>\n",
       "      <td>200.0</td>\n",
       "      <td>2024-12-11</td>\n",
       "      <td>-0.000119</td>\n",
       "    </tr>\n",
       "    <tr>\n",
       "      <th>2</th>\n",
       "      <td>-57.3</td>\n",
       "      <td>-16.50</td>\n",
       "      <td>2024-12-11</td>\n",
       "      <td>0</td>\n",
       "      <td>200.0</td>\n",
       "      <td>2024-12-11</td>\n",
       "      <td>-0.000119</td>\n",
       "    </tr>\n",
       "    <tr>\n",
       "      <th>3</th>\n",
       "      <td>-57.3</td>\n",
       "      <td>-16.35</td>\n",
       "      <td>2024-12-11</td>\n",
       "      <td>0</td>\n",
       "      <td>200.0</td>\n",
       "      <td>2024-12-11</td>\n",
       "      <td>-0.000119</td>\n",
       "    </tr>\n",
       "    <tr>\n",
       "      <th>4</th>\n",
       "      <td>-57.3</td>\n",
       "      <td>-16.20</td>\n",
       "      <td>2024-12-11</td>\n",
       "      <td>0</td>\n",
       "      <td>200.0</td>\n",
       "      <td>2024-12-11</td>\n",
       "      <td>-0.000118</td>\n",
       "    </tr>\n",
       "    <tr>\n",
       "      <th>...</th>\n",
       "      <td>...</td>\n",
       "      <td>...</td>\n",
       "      <td>...</td>\n",
       "      <td>...</td>\n",
       "      <td>...</td>\n",
       "      <td>...</td>\n",
       "      <td>...</td>\n",
       "    </tr>\n",
       "    <tr>\n",
       "      <th>2882395</th>\n",
       "      <td>73.8</td>\n",
       "      <td>-84.75</td>\n",
       "      <td>2024-12-11</td>\n",
       "      <td>0</td>\n",
       "      <td>200.0</td>\n",
       "      <td>2024-12-11</td>\n",
       "      <td>0.000173</td>\n",
       "    </tr>\n",
       "    <tr>\n",
       "      <th>2882396</th>\n",
       "      <td>73.8</td>\n",
       "      <td>-84.60</td>\n",
       "      <td>2024-12-11</td>\n",
       "      <td>0</td>\n",
       "      <td>200.0</td>\n",
       "      <td>2024-12-11</td>\n",
       "      <td>0.000174</td>\n",
       "    </tr>\n",
       "    <tr>\n",
       "      <th>2882397</th>\n",
       "      <td>73.8</td>\n",
       "      <td>-84.45</td>\n",
       "      <td>2024-12-11</td>\n",
       "      <td>0</td>\n",
       "      <td>200.0</td>\n",
       "      <td>2024-12-11</td>\n",
       "      <td>0.000174</td>\n",
       "    </tr>\n",
       "    <tr>\n",
       "      <th>2882398</th>\n",
       "      <td>73.8</td>\n",
       "      <td>-84.30</td>\n",
       "      <td>2024-12-11</td>\n",
       "      <td>0</td>\n",
       "      <td>200.0</td>\n",
       "      <td>2024-12-11</td>\n",
       "      <td>0.000174</td>\n",
       "    </tr>\n",
       "    <tr>\n",
       "      <th>2882399</th>\n",
       "      <td>73.8</td>\n",
       "      <td>-84.15</td>\n",
       "      <td>2024-12-11</td>\n",
       "      <td>0</td>\n",
       "      <td>200.0</td>\n",
       "      <td>2024-12-11</td>\n",
       "      <td>0.000173</td>\n",
       "    </tr>\n",
       "  </tbody>\n",
       "</table>\n",
       "<p>2882400 rows × 7 columns</p>\n",
       "</div>"
      ],
      "text/plain": [
       "         latitude  longitude       time step  isobaricInhPa valid_time  \\\n",
       "0           -57.3     -16.80 2024-12-11    0          200.0 2024-12-11   \n",
       "1           -57.3     -16.65 2024-12-11    0          200.0 2024-12-11   \n",
       "2           -57.3     -16.50 2024-12-11    0          200.0 2024-12-11   \n",
       "3           -57.3     -16.35 2024-12-11    0          200.0 2024-12-11   \n",
       "4           -57.3     -16.20 2024-12-11    0          200.0 2024-12-11   \n",
       "...           ...        ...        ...  ...            ...        ...   \n",
       "2882395      73.8     -84.75 2024-12-11    0          200.0 2024-12-11   \n",
       "2882396      73.8     -84.60 2024-12-11    0          200.0 2024-12-11   \n",
       "2882397      73.8     -84.45 2024-12-11    0          200.0 2024-12-11   \n",
       "2882398      73.8     -84.30 2024-12-11    0          200.0 2024-12-11   \n",
       "2882399      73.8     -84.15 2024-12-11    0          200.0 2024-12-11   \n",
       "\n",
       "             absv  \n",
       "0       -0.000118  \n",
       "1       -0.000119  \n",
       "2       -0.000119  \n",
       "3       -0.000119  \n",
       "4       -0.000118  \n",
       "...           ...  \n",
       "2882395  0.000173  \n",
       "2882396  0.000174  \n",
       "2882397  0.000174  \n",
       "2882398  0.000174  \n",
       "2882399  0.000173  \n",
       "\n",
       "[2882400 rows x 7 columns]"
      ]
     },
     "execution_count": 14,
     "metadata": {},
     "output_type": "execute_result"
    }
   ],
   "source": [
    "with session.transaction() as tx:\n",
    "    bucket = tx.bucket(VASTDB_NYT_BUCKET)\n",
    "    schema = bucket.schema(schema_name, fail_if_missing=False) or bucket.create_schema(schema_name)\n",
    "    table = schema.table(table_name, fail_if_missing=False) or schema.create_table(table_name, pa_table.schema)\n",
    "\n",
    "    df = table.select().read_all().to_pandas()\n",
    "\n",
    "df"
   ]
  },
  {
   "cell_type": "markdown",
   "id": "302d1300-bf52-443d-b828-6459802ecab6",
   "metadata": {},
   "source": [
    "## Statistical Summary"
   ]
  },
  {
   "cell_type": "code",
   "execution_count": 15,
   "id": "7b036944-4b91-4e3f-badb-985325850a1c",
   "metadata": {},
   "outputs": [
    {
     "data": {
      "text/html": [
       "<div>\n",
       "<style scoped>\n",
       "    .dataframe tbody tr th:only-of-type {\n",
       "        vertical-align: middle;\n",
       "    }\n",
       "\n",
       "    .dataframe tbody tr th {\n",
       "        vertical-align: top;\n",
       "    }\n",
       "\n",
       "    .dataframe thead th {\n",
       "        text-align: right;\n",
       "    }\n",
       "</style>\n",
       "<table border=\"1\" class=\"dataframe\">\n",
       "  <thead>\n",
       "    <tr style=\"text-align: right;\">\n",
       "      <th></th>\n",
       "      <th>latitude</th>\n",
       "      <th>longitude</th>\n",
       "      <th>time</th>\n",
       "      <th>isobaricInhPa</th>\n",
       "      <th>valid_time</th>\n",
       "      <th>absv</th>\n",
       "    </tr>\n",
       "  </thead>\n",
       "  <tbody>\n",
       "    <tr>\n",
       "      <th>count</th>\n",
       "      <td>2.882400e+06</td>\n",
       "      <td>2.882400e+06</td>\n",
       "      <td>2882400</td>\n",
       "      <td>2882400.0</td>\n",
       "      <td>2882400</td>\n",
       "      <td>2.882400e+06</td>\n",
       "    </tr>\n",
       "    <tr>\n",
       "      <th>mean</th>\n",
       "      <td>5.627306e-13</td>\n",
       "      <td>-7.500000e-02</td>\n",
       "      <td>2024-12-11 00:00:00</td>\n",
       "      <td>200.0</td>\n",
       "      <td>2024-12-11 00:00:00</td>\n",
       "      <td>-1.044999e-06</td>\n",
       "    </tr>\n",
       "    <tr>\n",
       "      <th>min</th>\n",
       "      <td>-9.000000e+01</td>\n",
       "      <td>-1.800000e+02</td>\n",
       "      <td>2024-12-11 00:00:00</td>\n",
       "      <td>200.0</td>\n",
       "      <td>2024-12-11 00:00:00</td>\n",
       "      <td>-5.594596e-04</td>\n",
       "    </tr>\n",
       "    <tr>\n",
       "      <th>25%</th>\n",
       "      <td>-4.500000e+01</td>\n",
       "      <td>-9.003750e+01</td>\n",
       "      <td>2024-12-11 00:00:00</td>\n",
       "      <td>200.0</td>\n",
       "      <td>2024-12-11 00:00:00</td>\n",
       "      <td>-1.144595e-04</td>\n",
       "    </tr>\n",
       "    <tr>\n",
       "      <th>50%</th>\n",
       "      <td>5.553891e-13</td>\n",
       "      <td>-7.500000e-02</td>\n",
       "      <td>2024-12-11 00:00:00</td>\n",
       "      <td>200.0</td>\n",
       "      <td>2024-12-11 00:00:00</td>\n",
       "      <td>-4.595337e-07</td>\n",
       "    </tr>\n",
       "    <tr>\n",
       "      <th>75%</th>\n",
       "      <td>4.500000e+01</td>\n",
       "      <td>8.988750e+01</td>\n",
       "      <td>2024-12-11 00:00:00</td>\n",
       "      <td>200.0</td>\n",
       "      <td>2024-12-11 00:00:00</td>\n",
       "      <td>1.150405e-04</td>\n",
       "    </tr>\n",
       "    <tr>\n",
       "      <th>max</th>\n",
       "      <td>9.000000e+01</td>\n",
       "      <td>1.798500e+02</td>\n",
       "      <td>2024-12-11 00:00:00</td>\n",
       "      <td>200.0</td>\n",
       "      <td>2024-12-11 00:00:00</td>\n",
       "      <td>5.095405e-04</td>\n",
       "    </tr>\n",
       "    <tr>\n",
       "      <th>std</th>\n",
       "      <td>5.200482e+01</td>\n",
       "      <td>1.039231e+02</td>\n",
       "      <td>NaN</td>\n",
       "      <td>0.0</td>\n",
       "      <td>NaN</td>\n",
       "      <td>1.168390e-04</td>\n",
       "    </tr>\n",
       "  </tbody>\n",
       "</table>\n",
       "</div>"
      ],
      "text/plain": [
       "           latitude     longitude                 time  isobaricInhPa  \\\n",
       "count  2.882400e+06  2.882400e+06              2882400      2882400.0   \n",
       "mean   5.627306e-13 -7.500000e-02  2024-12-11 00:00:00          200.0   \n",
       "min   -9.000000e+01 -1.800000e+02  2024-12-11 00:00:00          200.0   \n",
       "25%   -4.500000e+01 -9.003750e+01  2024-12-11 00:00:00          200.0   \n",
       "50%    5.553891e-13 -7.500000e-02  2024-12-11 00:00:00          200.0   \n",
       "75%    4.500000e+01  8.988750e+01  2024-12-11 00:00:00          200.0   \n",
       "max    9.000000e+01  1.798500e+02  2024-12-11 00:00:00          200.0   \n",
       "std    5.200482e+01  1.039231e+02                  NaN            0.0   \n",
       "\n",
       "                valid_time          absv  \n",
       "count              2882400  2.882400e+06  \n",
       "mean   2024-12-11 00:00:00 -1.044999e-06  \n",
       "min    2024-12-11 00:00:00 -5.594596e-04  \n",
       "25%    2024-12-11 00:00:00 -1.144595e-04  \n",
       "50%    2024-12-11 00:00:00 -4.595337e-07  \n",
       "75%    2024-12-11 00:00:00  1.150405e-04  \n",
       "max    2024-12-11 00:00:00  5.095405e-04  \n",
       "std                    NaN  1.168390e-04  "
      ]
     },
     "execution_count": 15,
     "metadata": {},
     "output_type": "execute_result"
    }
   ],
   "source": [
    "df.describe()"
   ]
  },
  {
   "cell_type": "code",
   "execution_count": 16,
   "id": "d6fa5b70-78ad-460d-828c-05f045b7699f",
   "metadata": {},
   "outputs": [
    {
     "data": {
      "text/plain": [
       "['0']"
      ]
     },
     "execution_count": 16,
     "metadata": {},
     "output_type": "execute_result"
    }
   ],
   "source": [
    "list(df['step'].drop_duplicates())"
   ]
  },
  {
   "cell_type": "markdown",
   "id": "afb27f47-ca87-437e-84f8-c5af3a520aa8",
   "metadata": {},
   "source": [
    "'step' appears to be convertible to a integer field type?"
   ]
  },
  {
   "cell_type": "code",
   "execution_count": null,
   "id": "85dcb84d-01b0-4d12-b25c-2b1d41b50f49",
   "metadata": {},
   "outputs": [],
   "source": []
  }
 ],
 "metadata": {
  "kernelspec": {
   "display_name": "Python 3 (ipykernel)",
   "language": "python",
   "name": "python3"
  },
  "language_info": {
   "codemirror_mode": {
    "name": "ipython",
    "version": 3
   },
   "file_extension": ".py",
   "mimetype": "text/x-python",
   "name": "python",
   "nbconvert_exporter": "python",
   "pygments_lexer": "ipython3",
   "version": "3.11.10"
  }
 },
 "nbformat": 4,
 "nbformat_minor": 5
}
