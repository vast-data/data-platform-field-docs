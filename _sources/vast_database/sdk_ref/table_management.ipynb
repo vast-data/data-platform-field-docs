{
 "cells": [
  {
   "cell_type": "markdown",
   "id": "2595e484-6eca-4e89-91b0-c6ce3a4ff205",
   "metadata": {
    "execution": {
     "iopub.execute_input": "2023-12-13T17:52:42.767830Z",
     "iopub.status.busy": "2023-12-13T17:52:42.767426Z",
     "iopub.status.idle": "2023-12-13T17:52:42.772609Z",
     "shell.execute_reply": "2023-12-13T17:52:42.771318Z",
     "shell.execute_reply.started": "2023-12-13T17:52:42.767797Z"
    },
    "tags": []
   },
   "source": [
    "# Table Management\n",
    "\n",
    "```{important}\n",
    "This notebook is in the process of being migrated to Vast Data Platform Field Docs. It will probably not run yet.\n",
    "```\n",
    "\n",
    "```{seealso}\n",
    "The Vast DB SDK API Documentation is available [here](https://vastdb-sdk.readthedocs.io).\n",
    "```\n",
    "\n",
    "The creation of any high-level entity (database, table, column) is a metadata operation. There is no pre-allocation of space for data. Top level objects in the element store are updated and any new data associated with them is ready to be linked when written.Creation\n",
    "The creation of any high-level entity (database, table, column) is a metadata operation. There is no pre-allocation of space for data. Top level objects in the element store are updated and any new data associated with them is ready to be linked when written.\n",
    "\n",
    "\n",
    "VAST DB provides support for the following data types: \n",
    "\n",
    "![image](./img/VAST-DB-Types.png)"
   ]
  },
  {
   "cell_type": "markdown",
   "id": "b20ef867",
   "metadata": {},
   "source": [
    "## Install sdk and connect to Vast DB\n",
    "\n",
    "Install vastdb library."
   ]
  },
  {
   "cell_type": "code",
   "execution_count": null,
   "id": "5175d1f1",
   "metadata": {},
   "outputs": [],
   "source": [
    "!pip install --quiet vastdb"
   ]
  },
  {
   "cell_type": "code",
   "execution_count": null,
   "id": "8b8e67ac",
   "metadata": {
    "tags": [
     "remove-cell"
    ]
   },
   "outputs": [],
   "source": [
    "\n",
    "# This cell is used for automated testing.  It will be removed when published.\n",
    "\n",
    "import os\n",
    "\n",
    "ENDPOINT = os.environ['ENDPOINT']\n",
    "ACCESS_KEY = os.environ['ACCESS_KEY']\n",
    "SECRET_KEY = os.environ['SECRET_KEY']\n",
    "DATABASE_NAME = os.environ['DATABASE_NAME']\n",
    "DATABASE_SCHEMA = os.environ['DATABASE_SCHEMA']\n",
    "TABLE_NAME = os.environ['TABLE_NAME']"
   ]
  },
  {
   "cell_type": "code",
   "execution_count": null,
   "id": "c973d738",
   "metadata": {},
   "outputs": [],
   "source": [
    "\n",
    "# Change these variables to reflect your environment, E.g. \n",
    "#\n",
    "# ENDPOINT = 'http://your_vast_endpoint:12345'\n",
    "# DATABASE_NAME = 'your_db'\n",
    "# ACCESS_KEY = 'your_access_key'\n",
    "# SECRET_KEY = 'your_secret_key'\n",
    "# DATABASE_SCHEMA = 'your_database_schema'\n",
    "#\n",
    "# This will be created:\n",
    "# TABLE_NAME='python_sdk_demo'"
   ]
  },
  {
   "cell_type": "markdown",
   "id": "23f91a39",
   "metadata": {},
   "source": [
    "Connect to Vast DB"
   ]
  },
  {
   "cell_type": "code",
   "execution_count": null,
   "id": "66bf1db9",
   "metadata": {},
   "outputs": [],
   "source": [
    "import vastdb\n",
    "\n",
    "session = vastdb.connect(\n",
    "    endpoint=ENDPOINT,\n",
    "    access=ACCESS_KEY,\n",
    "    secret=SECRET_KEY)"
   ]
  },
  {
   "cell_type": "markdown",
   "id": "710b01ba",
   "metadata": {},
   "source": [
    "## Table Management API"
   ]
  },
  {
   "cell_type": "markdown",
   "id": "7fe5b73e-079a-4cb9-8ac3-b461c89ac46d",
   "metadata": {},
   "source": [
    "### `create_table`\n",
    "- **Usage**: Create a new table in a specified schema.\n",
    "- **Parameters**:\n",
    "  - `table_name` (str): Name of the table to create.\n",
    "  - `columns` (pyarrow.Schema): Arrow Schema object ([pyarrow.Schema documentation](https://arrow.apache.org/docs/python/generated/pyarrow.Schema.html#pyarrow.Schema))\n",
    "  - `fail_if_missing`  (bool, opt, default=True) If True, fail with an exception if the schema doesn't exist, else return None\n",
    "  - `use_external_row_ids_allocation=False` (bool, opt, default=False) TBC"
   ]
  },
  {
   "cell_type": "code",
   "execution_count": null,
   "id": "c5b78a25-675e-40fe-84dc-8d2a7556f6a4",
   "metadata": {
    "tags": []
   },
   "outputs": [],
   "source": [
    "import pyarrow as pa\n",
    "from vastdb.errors import TableExists\n",
    "\n",
    "# Table schemas (don't confuse with database schema) are created using \n",
    "# PyArrow (pa)\n",
    "ARROW_SCHEMA = pa.schema([('column1', pa.int32()), ('column2', pa.string())])\n",
    "\n",
    "\n",
    "with session.transaction() as tx:\n",
    "    bucket = tx.bucket(DATABASE_NAME)\n",
    "\n",
    "    # first retrieve the schema\n",
    "    try:\n",
    "        schema = bucket.schema(name=DATABASE_SCHEMA, fail_if_missing=False)\n",
    "        print(schema)\n",
    "    except Exception as e:\n",
    "        print(\"Schema doesn't exist:\", e)\n",
    "\n",
    "    if schema:\n",
    "        try:\n",
    "            table = schema.create_table(table_name=TABLE_NAME, columns=ARROW_SCHEMA)\n",
    "            print(f\"Table created: {table.name}\")\n",
    "        except TableExists as e:\n",
    "            print(\"Couldn't create table because it already exists:\", e)\n",
    "        except Exception as e:\n",
    "            print(\"Couldn't create table:\", e)"
   ]
  },
  {
   "cell_type": "markdown",
   "id": "3de9106a",
   "metadata": {},
   "source": [
    "The cell below is a boilerplate code - it is hidden by default."
   ]
  },
  {
   "cell_type": "code",
   "execution_count": null,
   "id": "922d01cc",
   "metadata": {
    "tags": [
     "hide-cell"
    ]
   },
   "outputs": [],
   "source": [
    "def print_tables(database_name=DATABASE_NAME, schema_name=DATABASE_SCHEMA):\n",
    "    print(f\"Listing tables in: database='{database_name}' schema='{schema_name}'\")\n",
    "    with session.transaction() as tx:\n",
    "        schema = tx.bucket(database_name).schema(name=schema_name, fail_if_missing=False)\n",
    "        if not schema:\n",
    "            print(f\">>> Schema {schema_name} not found.\")\n",
    "            return\n",
    "            \n",
    "        if not schema.tables():\n",
    "            print(\">>> No tables found.\")\n",
    "        for table in schema.tables():\n",
    "            print(f\">>> Table: '{table.name}'\")"
   ]
  },
  {
   "cell_type": "code",
   "execution_count": null,
   "id": "3da7724f-b507-4498-9bd2-7f486b0040b8",
   "metadata": {},
   "outputs": [],
   "source": [
    "print_tables(database_name=DATABASE_NAME, schema_name=DATABASE_SCHEMA)"
   ]
  },
  {
   "cell_type": "markdown",
   "id": "0cbfa4c6-8f23-4d52-a5d3-d6e5cefa02eb",
   "metadata": {},
   "source": [
    "### `tables`\n",
    "- **Usage**: List all tables in a schema.\n",
    "- **Parameters**:\n",
    "  - `table_name` (str, optional, default=None): Only return tables matching the exact table_name."
   ]
  },
  {
   "cell_type": "code",
   "execution_count": null,
   "id": "6129a80e-eb0d-4a8f-8294-b4cb1eec7a3d",
   "metadata": {
    "tags": []
   },
   "outputs": [],
   "source": [
    "with session.transaction() as tx:\n",
    "    schema = tx.bucket(DATABASE_NAME).schema(DATABASE_SCHEMA)\n",
    "    table = schema.tables(table_name=TABLE_NAME)\n",
    "    print(table)"
   ]
  },
  {
   "cell_type": "code",
   "execution_count": null,
   "id": "02e7754d-5f6d-4732-91bb-c9dd37e5bbd2",
   "metadata": {},
   "outputs": [],
   "source": [
    "# what happens if the table doesn't exist?\n",
    "\n",
    "with session.transaction() as tx:\n",
    "    schema = tx.bucket(DATABASE_NAME).schema(DATABASE_SCHEMA)\n",
    "    table = schema.tables(table_name='non-existing-table')\n",
    "    print(table)"
   ]
  },
  {
   "cell_type": "code",
   "execution_count": null,
   "id": "7336636b-9aa6-43ec-a71b-398b5320ecce",
   "metadata": {},
   "outputs": [],
   "source": [
    "# For comparison let's list all the tables using our utility function\n",
    "# created earlier in this notebook.\n",
    "\n",
    "print_tables(database_name=DATABASE_NAME, schema_name=DATABASE_SCHEMA)"
   ]
  },
  {
   "cell_type": "markdown",
   "id": "b8c478ad-a41c-49bb-9a77-1cfb7fe6461e",
   "metadata": {},
   "source": [
    "### `get_stats`\n",
    "- **Usage**: Obtain statistics about a specific table.\n",
    "- **Parameters**:\n",
    "  - No parameters"
   ]
  },
  {
   "cell_type": "code",
   "execution_count": null,
   "id": "7ece19cd-cda6-4d0b-b25f-dcc586bc47f3",
   "metadata": {
    "tags": []
   },
   "outputs": [],
   "source": [
    "TABLE_NAME='pythonsdk'\n",
    "\n",
    "with session.transaction() as tx:\n",
    "    schema = tx.bucket(DATABASE_NAME).schema(DATABASE_SCHEMA)\n",
    "    table = schema.table(name=TABLE_NAME, fail_if_missing=False)\n",
    "    if table:\n",
    "        print(f\"Getting table stats {table.name}\")\n",
    "        print(table.get_stats())"
   ]
  },
  {
   "cell_type": "markdown",
   "id": "a06b743a-0723-4c8e-a924-11ae5cc4841f",
   "metadata": {
    "execution": {
     "iopub.execute_input": "2024-01-07T15:04:51.809211Z",
     "iopub.status.busy": "2024-01-07T15:04:51.808906Z",
     "iopub.status.idle": "2024-01-07T15:04:51.816437Z",
     "shell.execute_reply": "2024-01-07T15:04:51.815821Z",
     "shell.execute_reply.started": "2024-01-07T15:04:51.809186Z"
    },
    "tags": []
   },
   "source": [
    "### `drop`\n",
    "- **Usage**: Delete a table.\n",
    "- **Parameters**:\n",
    "  - No parameters"
   ]
  },
  {
   "cell_type": "code",
   "execution_count": null,
   "id": "cb12c50b-3942-42d2-bc86-38b1c962e37e",
   "metadata": {},
   "outputs": [],
   "source": [
    "# Create a table and then drop it.\n",
    "\n",
    "with session.transaction() as tx:\n",
    "    bucket = tx.bucket(DATABASE_NAME)\n",
    "\n",
    "    # first retrieve the schema\n",
    "    try:\n",
    "        schema = bucket.schema(name=DATABASE_SCHEMA, fail_if_missing=False)\n",
    "        print(schema)\n",
    "    except Exception as e:\n",
    "        print(\"Schema doesn't exist:\", e)\n",
    "\n",
    "    if schema:\n",
    "        try:\n",
    "            arrow_schema = pa.schema([('column1', pa.int32()), ('column2', pa.string())])\n",
    "            table = schema.create_table(table_name='TEMPORARY_TABLE', columns=arrow_schema)\n",
    "            print(f\"Table created: {table.name}\")\n",
    "        except TableExists as e:\n",
    "            print(\"Couldn't create table because it already exists:\", e)\n",
    "        except Exception as e:\n",
    "            print(\"Couldn't create table:\", e)"
   ]
  },
  {
   "cell_type": "code",
   "execution_count": null,
   "id": "54356dec-5e26-4222-8abe-ee80c67f6d8d",
   "metadata": {},
   "outputs": [],
   "source": [
    "# first let's list the tables\n",
    "print_tables(database_name=DATABASE_NAME, schema_name=DATABASE_SCHEMA)"
   ]
  },
  {
   "cell_type": "markdown",
   "id": "e0d67b33",
   "metadata": {},
   "source": [
    "Now drop the table."
   ]
  },
  {
   "cell_type": "code",
   "execution_count": null,
   "id": "e91d867a-3a77-46c6-9f56-18eab61c36eb",
   "metadata": {
    "tags": []
   },
   "outputs": [],
   "source": [
    "with session.transaction() as tx:\n",
    "    schema = tx.bucket(DATABASE_NAME).schema(DATABASE_SCHEMA)\n",
    "    table = schema.table(name='TEMPORARY_TABLE', fail_if_missing=False)\n",
    "    if table:\n",
    "        print(f\"Dropping table {table.name}\")\n",
    "        table.drop()"
   ]
  },
  {
   "cell_type": "markdown",
   "id": "67f42d15",
   "metadata": {},
   "source": [
    "Verify the table no longer exists."
   ]
  },
  {
   "cell_type": "code",
   "execution_count": null,
   "id": "3e192c1a-6313-409b-a7e2-fc04a0e7bdae",
   "metadata": {},
   "outputs": [],
   "source": [
    "print_tables(database_name=DATABASE_NAME, schema_name=DATABASE_SCHEMA)"
   ]
  }
 ],
 "metadata": {
  "kernelspec": {
   "display_name": "Python 3 (ipykernel)",
   "language": "python",
   "name": "python3"
  },
  "language_info": {
   "codemirror_mode": {
    "name": "ipython",
    "version": 3
   },
   "file_extension": ".py",
   "mimetype": "text/x-python",
   "name": "python",
   "nbconvert_exporter": "python",
   "pygments_lexer": "ipython3",
   "version": "3.11.9"
  },
  "toc-autonumbering": true,
  "toc-showcode": false,
  "toc-showmarkdowntxt": false,
  "toc-showtags": true
 },
 "nbformat": 4,
 "nbformat_minor": 5
}
