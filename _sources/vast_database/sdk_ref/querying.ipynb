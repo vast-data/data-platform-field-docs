{
 "cells": [
  {
   "cell_type": "markdown",
   "id": "353faac2",
   "metadata": {},
   "source": [
    "# Querying Data\n",
    "\n",
    "```{seealso}\n",
    "The Vast DB SDK API Documentation is available [here](https://vastdb-sdk.readthedocs.io).\n",
    "```"
   ]
  },
  {
   "cell_type": "markdown",
   "id": "31c480c3",
   "metadata": {},
   "source": [
    "```{important}\n",
    "This notebook is in the process of being migrated to Vast Data Platform Field Docs.  It will probably not run yet.\n",
    "```"
   ]
  },
  {
   "cell_type": "markdown",
   "id": "4571ca6c-2262-4200-ac2b-c2c80dc81122",
   "metadata": {
    "execution": {
     "iopub.execute_input": "2024-01-08T15:39:20.784588Z",
     "iopub.status.busy": "2024-01-08T15:39:20.784268Z",
     "iopub.status.idle": "2024-01-08T15:39:20.792184Z",
     "shell.execute_reply": "2024-01-08T15:39:20.791382Z",
     "shell.execute_reply.started": "2024-01-08T15:39:20.784562Z"
    },
    "tags": []
   },
   "source": [
    "## Query and Filter"
   ]
  },
  {
   "cell_type": "markdown",
   "id": "0431749e-d019-422f-9daa-2606c3bb9d08",
   "metadata": {
    "execution": {
     "iopub.execute_input": "2024-01-08T18:35:45.752131Z",
     "iopub.status.busy": "2024-01-08T18:35:45.742634Z",
     "iopub.status.idle": "2024-01-08T18:35:45.987730Z",
     "shell.execute_reply": "2024-01-08T18:35:45.967983Z",
     "shell.execute_reply.started": "2024-01-08T18:35:45.752089Z"
    },
    "tags": []
   },
   "source": [
    "**Filtering** \n",
    "VAST-DB Supports filtering using a complete set of predicates. These predicates can be used directly with the VAST-DB APIs or used by analytics engines that can “push down” operations to VAST-DB. \n",
    "\n",
    "\n",
    "**Filtering Mechanics**\n",
    "\n",
    "When searching for data, VAST-DB will use a distributed tree scan operation over range blocks in the element store, comparing the metadata in the bitmap blocks and eliminating blocks/sections of the tree based on min/max values. The search efficiency is directly related to the randomness of the column data referred to by the bitmap blocks. Best case scenario would be a search over a column whose values range linearly (greatest to least or least to greatest) relative to the keyspace without any overlap in the index blocks - reads of data blocks to find matching data are largely eliminated in this case. While the worst case would be a search on data that is random relative to the key space forcing reads on large sections of column data to perform comparisons. VAST-DB 5.0 will support sorted projections which will act similarly to indices to enable “best case” (ordered) scenarios on a given column or columns.\n",
    "\n",
    "\n",
    "![image](./img/VASTDB-SCHEMA.png)\n",
    "\n",
    "If we compare it with Parquet it allows us to store the data in much smaller elements and at a very fine granular level which is 4000x smaller compared to a standard parquet file with 128MB. \n",
    "\n",
    "![image](./img/VASTDB-SCHEMA2.png)\n",
    "\n",
    "The Data is distributed and sorted. We are keeping min and max stats and the count for each column. This allows us to allow for filter push downs and we are able to skip and reduce the amount of data that we have to transfer back to the query engine. \n",
    "\n",
    "\n",
    "![image](./img/VASTDB-PARQUET.png)\n",
    "\n"
   ]
  },
  {
   "cell_type": "markdown",
   "id": "c015d4d2-b459-4aba-a64c-bd54f0a92341",
   "metadata": {},
   "source": [
    "### `select`\n",
    "\n",
    "- **Usage**: Execute a data query on a specified table within a bucket and schema. This function allows for complex queries, including filters and projections, on the table data.\n",
    "- **Parameters**:\n",
    "  - `columns` (list[str], optional): List of column names to be included in the query. If None, all columns are included.\n",
    "  - `predicate` (dict, optional): A filter to apply to the query. See [filters-and-projections](https://github.com/vast-data/vastdb_sdk/blob/main/README.md#filters-and-projections) for more details.\n",
    "  - `config` (QueryConfig, optional): Configuration options for the query execution. If None, default configuration is used. See the source for [vastdb.table.QueryConfig](https://github.com/vast-data/vastdb_sdk/blob/main/vastdb/table.py).\n",
    "  - `internal_row_id` (bool, optional): If True, includes the internal row ID in the query.\n",
    "\n",
    "- **Returns**:\n",
    "  - `pa.RecordBatchReader`: A reader object that can be iterated to retrieve the query results as record batches.\n",
    " \n",
    "- **Raises**:\n",
    "  - `errors.TooLargeRequest`: If the serialized query data request size exceeds the maximum allowed size.\n",
    "  - `StoppedException`: If the stop event is set during the execution of the query."
   ]
  },
  {
   "cell_type": "markdown",
   "id": "3d049544-aab4-4f9c-b6ad-36bb10285fe3",
   "metadata": {
    "execution": {
     "iopub.execute_input": "2024-01-07T16:31:45.375506Z",
     "iopub.status.busy": "2024-01-07T16:31:45.374827Z",
     "iopub.status.idle": "2024-01-07T16:31:45.382918Z",
     "shell.execute_reply": "2024-01-07T16:31:45.381323Z",
     "shell.execute_reply.started": "2024-01-07T16:31:45.375444Z"
    },
    "tags": []
   },
   "source": [
    "## Create a table with Citizen information\n"
   ]
  },
  {
   "cell_type": "markdown",
   "id": "898967b3-33c9-4e01-96f6-79e7422d34f0",
   "metadata": {},
   "source": [
    "### Specify the Citizen Table\n"
   ]
  },
  {
   "cell_type": "code",
   "execution_count": 36,
   "id": "436acc97-8458-4c21-a72c-fd8087154efe",
   "metadata": {
    "tags": []
   },
   "outputs": [],
   "source": [
    "## Define the Table name for the citizen table\n",
    "\n",
    "TABLE_NAME='pythonsdkcitizen'"
   ]
  },
  {
   "cell_type": "markdown",
   "id": "a528df77-3845-4436-9ade-a4d248ff928d",
   "metadata": {},
   "source": [
    "### Define the Citizen Table\n"
   ]
  },
  {
   "cell_type": "code",
   "execution_count": 37,
   "id": "e323877d-c3a8-4626-a7cc-bb843e0ba60b",
   "metadata": {
    "tags": []
   },
   "outputs": [
    {
     "name": "stdout",
     "output_type": "stream",
     "text": [
      "Table created: pythonsdkcitizen\n"
     ]
    }
   ],
   "source": [
    "import pyarrow as pa\n",
    "from vastdb.errors import TableExists\n",
    "\n",
    "ARROW_SCHEMA = pa.schema([\n",
    "        ('Citizen_Age', pa.int64()),\n",
    "        ('Citizen_Name', pa.string()),\n",
    "        ('Citizen_experience', pa.float64()),\n",
    "        ('Is_married', pa.bool_()),\n",
    "    ])\n",
    "\n",
    "\n",
    "with session.transaction() as tx:\n",
    "    try:\n",
    "        schema = tx.bucket(DATABASE_NAME).schema(name=DATABASE_SCHEMA, fail_if_missing=False)\n",
    "        if schema:\n",
    "            try:\n",
    "                table = schema.create_table(table_name=TABLE_NAME, columns=ARROW_SCHEMA)\n",
    "                print(f\"Table created: {table.name}\")\n",
    "            except TableExists as e:\n",
    "                print(\"Couldn't create table because it already exists:\", e)\n",
    "            except Exception as e:\n",
    "                print(\"Couldn't create table:\", e)\n",
    "    except Exception as e:\n",
    "        print(\"Schema doesn't exist:\", e)"
   ]
  },
  {
   "cell_type": "markdown",
   "id": "790db8d8-b51e-4e88-a889-c7e5fb5ca061",
   "metadata": {},
   "source": [
    "### Insert rows into the Citizen Table\n"
   ]
  },
  {
   "cell_type": "code",
   "execution_count": 38,
   "id": "b3bd00df-b84f-4554-ad73-8b71bb0a6fd7",
   "metadata": {
    "tags": []
   },
   "outputs": [
    {
     "name": "stdout",
     "output_type": "stream",
     "text": [
      "Data inserted.\n"
     ]
    }
   ],
   "source": [
    "ROWS = { \n",
    "    'Citizen_Name': ['Alice', 'Bob', 'Koko', 'Menny'],\n",
    "    'Citizen_Age': [45, 38, 27, 51],\n",
    "    'Citizen_experience': [25.5, 17.9, 5.3, 28.2],\n",
    "    'Is_married': [True, False, False, True]\n",
    "}\n",
    "PA_RECORD_BATCH = pa.RecordBatch.from_pydict(ROWS)\n",
    "\n",
    "\n",
    "with session.transaction() as tx:\n",
    "    try:\n",
    "        schema = tx.bucket(DATABASE_NAME).schema(name=DATABASE_SCHEMA, fail_if_missing=False)\n",
    "        if schema:\n",
    "            try:\n",
    "                table = schema.table(name=TABLE_NAME)\n",
    "                table.insert(PA_RECORD_BATCH)\n",
    "                print(\"Data inserted.\")\n",
    "            except Exception as e:\n",
    "                print(\"Couldn't insert data:\", e)\n",
    "    except Exception as e:\n",
    "        print(\"Schema doesn't exist:\", e)"
   ]
  },
  {
   "cell_type": "markdown",
   "id": "306551ff-e283-45b2-98fe-de3fddc87899",
   "metadata": {},
   "source": [
    "This uses the [RecordBatch.from_pydict](https://arrow.apache.org/docs/python/generated/pyarrow.RecordBatch.html#pyarrow.RecordBatch.from_pydict) method.  See also:\n",
    "\n",
    "- [RecordBatch.from_arrays](https://arrow.apache.org/docs/python/generated/pyarrow.RecordBatch.html#pyarrow.RecordBatch.from_arrays)\n",
    "- [RecordBatch.from_pandas](https://arrow.apache.org/docs/python/generated/pyarrow.RecordBatch.html#pyarrow.RecordBatch.from_pandas)\n",
    "- [RecordBatch.from_pylist](https://arrow.apache.org/docs/python/generated/pyarrow.RecordBatch.html#pyarrow.RecordBatch.from_pylist)\n",
    "- [RecordBatch.from_struct_array](https://arrow.apache.org/docs/python/generated/pyarrow.RecordBatch.html#pyarrow.RecordBatch.from_struct_array)"
   ]
  },
  {
   "cell_type": "markdown",
   "id": "fe7829b5-0956-48a1-ba04-c257aa955fc0",
   "metadata": {
    "execution": {
     "iopub.execute_input": "2024-01-07T16:50:07.109721Z",
     "iopub.status.busy": "2024-01-07T16:50:07.109401Z",
     "iopub.status.idle": "2024-01-07T16:50:07.115485Z",
     "shell.execute_reply": "2024-01-07T16:50:07.113835Z",
     "shell.execute_reply.started": "2024-01-07T16:50:07.109695Z"
    },
    "tags": []
   },
   "source": [
    "## Query the table and list all rows for the Citizen Table\n"
   ]
  },
  {
   "cell_type": "code",
   "execution_count": 39,
   "id": "4d50f496-77f1-4526-bbb1-e961043ae08f",
   "metadata": {
    "tags": []
   },
   "outputs": [
    {
     "data": {
      "text/html": [
       "<div>\n",
       "<style scoped>\n",
       "    .dataframe tbody tr th:only-of-type {\n",
       "        vertical-align: middle;\n",
       "    }\n",
       "\n",
       "    .dataframe tbody tr th {\n",
       "        vertical-align: top;\n",
       "    }\n",
       "\n",
       "    .dataframe thead th {\n",
       "        text-align: right;\n",
       "    }\n",
       "</style>\n",
       "<table border=\"1\" class=\"dataframe\">\n",
       "  <thead>\n",
       "    <tr style=\"text-align: right;\">\n",
       "      <th></th>\n",
       "      <th>Citizen_Age</th>\n",
       "      <th>Citizen_Name</th>\n",
       "      <th>Citizen_experience</th>\n",
       "      <th>Is_married</th>\n",
       "    </tr>\n",
       "  </thead>\n",
       "  <tbody>\n",
       "    <tr>\n",
       "      <th>0</th>\n",
       "      <td>45</td>\n",
       "      <td>Alice</td>\n",
       "      <td>25.5</td>\n",
       "      <td>True</td>\n",
       "    </tr>\n",
       "    <tr>\n",
       "      <th>1</th>\n",
       "      <td>38</td>\n",
       "      <td>Bob</td>\n",
       "      <td>17.9</td>\n",
       "      <td>False</td>\n",
       "    </tr>\n",
       "    <tr>\n",
       "      <th>2</th>\n",
       "      <td>27</td>\n",
       "      <td>Koko</td>\n",
       "      <td>5.3</td>\n",
       "      <td>False</td>\n",
       "    </tr>\n",
       "    <tr>\n",
       "      <th>3</th>\n",
       "      <td>51</td>\n",
       "      <td>Menny</td>\n",
       "      <td>28.2</td>\n",
       "      <td>True</td>\n",
       "    </tr>\n",
       "  </tbody>\n",
       "</table>\n",
       "</div>"
      ],
      "text/plain": [
       "   Citizen_Age Citizen_Name  Citizen_experience  Is_married\n",
       "0           45        Alice                25.5        True\n",
       "1           38          Bob                17.9       False\n",
       "2           27         Koko                 5.3       False\n",
       "3           51        Menny                28.2        True"
      ]
     },
     "metadata": {},
     "output_type": "display_data"
    }
   ],
   "source": [
    "with session.transaction() as tx:\n",
    "    try:\n",
    "        schema = tx.bucket(DATABASE_NAME).schema(name=DATABASE_SCHEMA, fail_if_missing=False)\n",
    "        if schema:\n",
    "            try:\n",
    "                table = schema.table(name=TABLE_NAME)\n",
    "                reader = table.select()\n",
    "                pyarrow_table = pa.Table.from_batches(reader)\n",
    "                df = pyarrow_table.to_pandas()\n",
    "                display(df)\n",
    "            except Exception as e:\n",
    "                print(\"Couldn't select data:\", e)\n",
    "    except Exception as e:\n",
    "        print(\"Schema doesn't exist:\", e)"
   ]
  },
  {
   "cell_type": "markdown",
   "id": "2276007f-20ba-41db-8aa6-44b9a8905b3e",
   "metadata": {},
   "source": [
    "This uses the [Table.to_pandas](https://arrow.apache.org/docs/python/generated/pyarrow.Table.html#pyarrow.Table.to_pandas) method.  See also:\n",
    "\n",
    "- [Table.to_batches](https://arrow.apache.org/docs/python/generated/pyarrow.Table.html#pyarrow.Table.to_batches)\n",
    "- [Table.to_pydict](https://arrow.apache.org/docs/python/generated/pyarrow.Table.html#pyarrow.Table.to_pydict)\n",
    "- [Table.to_pylist](https://arrow.apache.org/docs/python/generated/pyarrow.Table.html#pyarrow.Table.to_pylist)\n",
    "- [Table.to_reader](https://arrow.apache.org/docs/python/generated/pyarrow.Table.html#pyarrow.Table.to_reader)\n",
    "- [Table.to_string](https://arrow.apache.org/docs/python/generated/pyarrow.Table.html#pyarrow.Table.to_string)\n",
    "- [Table.to_struct_array](https://arrow.apache.org/docs/python/generated/pyarrow.Table.html#pyarrow.Table.to_struct_array)"
   ]
  },
  {
   "cell_type": "markdown",
   "id": "332c4254-e0e2-46cc-9fb9-40d97ca613cd",
   "metadata": {},
   "source": [
    "## (Filter) Predicates in VastdbApi\n",
    "- You can use these predicates in the VastdbApi API:  \n",
    "\n",
    "  - **`eq`**: Equal -> `'column_name': ['eq value']`\n",
    "  - **`ge`**: Greater Than or Equal -> `'column_name': ['ge value']`\n",
    "  - **`gt`**: Greater Than -> `'column_name': ['gt value']`\n",
    "  - **`lt`**: Less Than -> `'column_name': ['lt value']`\n",
    "  - **`le`**: Less Than or Equal -> `'column_name': ['le value']`\n",
    "  - **`is_null`**: Checks for null values -> `'column_name': ['is_null']`\n",
    "  - **`is_not_null`**: Checks for non-null values -> `'column_name': ['is_not_null']`\n",
    "**Note:**\n",
    "  - If using pandas dataframe, pandas predicates can also be used. (Perfomance might be reflected because it's not API-native filters)\n",
    "    - **Example** [Query a table using Pandas predicates](#query-a-table-using-pandas-predicates)\n",
    "  "
   ]
  },
  {
   "cell_type": "markdown",
   "id": "5e955646-042a-49fa-9085-8da9e7a560da",
   "metadata": {},
   "source": [
    "## Filter Columns\n",
    "We want to filter and project only the following columns:\n",
    "- Citizen_Age\n",
    "- Citizen_Name\n",
    "- Citizen_experience"
   ]
  },
  {
   "cell_type": "code",
   "execution_count": 40,
   "id": "375236a8-bda8-4a51-9064-22d865045ddc",
   "metadata": {
    "tags": []
   },
   "outputs": [
    {
     "data": {
      "text/html": [
       "<div>\n",
       "<style scoped>\n",
       "    .dataframe tbody tr th:only-of-type {\n",
       "        vertical-align: middle;\n",
       "    }\n",
       "\n",
       "    .dataframe tbody tr th {\n",
       "        vertical-align: top;\n",
       "    }\n",
       "\n",
       "    .dataframe thead th {\n",
       "        text-align: right;\n",
       "    }\n",
       "</style>\n",
       "<table border=\"1\" class=\"dataframe\">\n",
       "  <thead>\n",
       "    <tr style=\"text-align: right;\">\n",
       "      <th></th>\n",
       "      <th>Citizen_Age</th>\n",
       "      <th>Citizen_Name</th>\n",
       "      <th>Citizen_experience</th>\n",
       "    </tr>\n",
       "  </thead>\n",
       "  <tbody>\n",
       "    <tr>\n",
       "      <th>0</th>\n",
       "      <td>45</td>\n",
       "      <td>Alice</td>\n",
       "      <td>25.5</td>\n",
       "    </tr>\n",
       "    <tr>\n",
       "      <th>1</th>\n",
       "      <td>38</td>\n",
       "      <td>Bob</td>\n",
       "      <td>17.9</td>\n",
       "    </tr>\n",
       "    <tr>\n",
       "      <th>2</th>\n",
       "      <td>27</td>\n",
       "      <td>Koko</td>\n",
       "      <td>5.3</td>\n",
       "    </tr>\n",
       "    <tr>\n",
       "      <th>3</th>\n",
       "      <td>51</td>\n",
       "      <td>Menny</td>\n",
       "      <td>28.2</td>\n",
       "    </tr>\n",
       "  </tbody>\n",
       "</table>\n",
       "</div>"
      ],
      "text/plain": [
       "   Citizen_Age Citizen_Name  Citizen_experience\n",
       "0           45        Alice                25.5\n",
       "1           38          Bob                17.9\n",
       "2           27         Koko                 5.3\n",
       "3           51        Menny                28.2"
      ]
     },
     "metadata": {},
     "output_type": "display_data"
    }
   ],
   "source": [
    "COLUMNS=['Citizen_Age', 'Citizen_Name', 'Citizen_experience']\n",
    "\n",
    "with session.transaction() as tx:\n",
    "    try:\n",
    "        schema = tx.bucket(DATABASE_NAME).schema(name=DATABASE_SCHEMA, fail_if_missing=False)\n",
    "        if schema:\n",
    "            try:\n",
    "                table = schema.table(name=TABLE_NAME)\n",
    "                reader = table.select(columns=COLUMNS)\n",
    "                pyarrow_table = pa.Table.from_batches(reader)\n",
    "                df = pyarrow_table.to_pandas()\n",
    "                display(df)\n",
    "            except Exception as e:\n",
    "                print(\"Couldn't select data:\", e)\n",
    "    except Exception as e:\n",
    "        print(\"Schema doesn't exist:\", e)"
   ]
  },
  {
   "cell_type": "markdown",
   "id": "d6e19d6d-4782-4562-ba88-d807b5ccdaa2",
   "metadata": {},
   "source": [
    "## Filter data and columns\n",
    "\n",
    "**(Citizen_Age > 37) AND (Citizen_experience <= 40) limit 10**\n"
   ]
  },
  {
   "cell_type": "code",
   "execution_count": 41,
   "id": "41b07fbd-9dcd-408d-86a4-610386598b65",
   "metadata": {
    "tags": []
   },
   "outputs": [
    {
     "data": {
      "text/html": [
       "<div>\n",
       "<style scoped>\n",
       "    .dataframe tbody tr th:only-of-type {\n",
       "        vertical-align: middle;\n",
       "    }\n",
       "\n",
       "    .dataframe tbody tr th {\n",
       "        vertical-align: top;\n",
       "    }\n",
       "\n",
       "    .dataframe thead th {\n",
       "        text-align: right;\n",
       "    }\n",
       "</style>\n",
       "<table border=\"1\" class=\"dataframe\">\n",
       "  <thead>\n",
       "    <tr style=\"text-align: right;\">\n",
       "      <th></th>\n",
       "      <th>Citizen_Age</th>\n",
       "      <th>Citizen_Name</th>\n",
       "      <th>Citizen_experience</th>\n",
       "    </tr>\n",
       "  </thead>\n",
       "  <tbody>\n",
       "    <tr>\n",
       "      <th>0</th>\n",
       "      <td>45</td>\n",
       "      <td>Alice</td>\n",
       "      <td>25.5</td>\n",
       "    </tr>\n",
       "    <tr>\n",
       "      <th>1</th>\n",
       "      <td>38</td>\n",
       "      <td>Bob</td>\n",
       "      <td>17.9</td>\n",
       "    </tr>\n",
       "    <tr>\n",
       "      <th>2</th>\n",
       "      <td>51</td>\n",
       "      <td>Menny</td>\n",
       "      <td>28.2</td>\n",
       "    </tr>\n",
       "  </tbody>\n",
       "</table>\n",
       "</div>"
      ],
      "text/plain": [
       "   Citizen_Age Citizen_Name  Citizen_experience\n",
       "0           45        Alice                25.5\n",
       "1           38          Bob                17.9\n",
       "2           51        Menny                28.2"
      ]
     },
     "metadata": {},
     "output_type": "display_data"
    }
   ],
   "source": [
    "from ibis import _\n",
    "\n",
    "PREDICATE = (_.Citizen_Age > 37) & (_.Citizen_experience <= 40)\n",
    "COLUMNS = ['Citizen_Age', 'Citizen_Name', 'Citizen_experience']\n",
    "\n",
    "with session.transaction() as tx:\n",
    "    try:\n",
    "        schema = tx.bucket(DATABASE_NAME).schema(name=DATABASE_SCHEMA, fail_if_missing=False)\n",
    "        if schema:\n",
    "            try:\n",
    "                table = schema.table(name=TABLE_NAME)\n",
    "                reader = table.select(columns=COLUMNS, predicate=PREDICATE)\n",
    "                pyarrow_table = pa.Table.from_batches(reader)\n",
    "                df = pyarrow_table.to_pandas()\n",
    "                display(df)\n",
    "            except Exception as e:\n",
    "                print(\"Couldn't select data:\", e)\n",
    "    except Exception as e:\n",
    "        print(\"Schema doesn't exist:\", e)"
   ]
  },
  {
   "cell_type": "markdown",
   "id": "67ec461b-5221-425f-bbb4-af64a763735b",
   "metadata": {},
   "source": [
    "**(Citizen_Age = 45) OR (Citizen_Age = 51)**\n"
   ]
  },
  {
   "cell_type": "code",
   "execution_count": 42,
   "id": "142ffb1d-48ac-4941-a374-796d995bc029",
   "metadata": {
    "tags": []
   },
   "outputs": [
    {
     "data": {
      "text/html": [
       "<div>\n",
       "<style scoped>\n",
       "    .dataframe tbody tr th:only-of-type {\n",
       "        vertical-align: middle;\n",
       "    }\n",
       "\n",
       "    .dataframe tbody tr th {\n",
       "        vertical-align: top;\n",
       "    }\n",
       "\n",
       "    .dataframe thead th {\n",
       "        text-align: right;\n",
       "    }\n",
       "</style>\n",
       "<table border=\"1\" class=\"dataframe\">\n",
       "  <thead>\n",
       "    <tr style=\"text-align: right;\">\n",
       "      <th></th>\n",
       "      <th>Citizen_Age</th>\n",
       "      <th>Citizen_Name</th>\n",
       "      <th>Citizen_experience</th>\n",
       "    </tr>\n",
       "  </thead>\n",
       "  <tbody>\n",
       "    <tr>\n",
       "      <th>0</th>\n",
       "      <td>45</td>\n",
       "      <td>Alice</td>\n",
       "      <td>25.5</td>\n",
       "    </tr>\n",
       "    <tr>\n",
       "      <th>1</th>\n",
       "      <td>51</td>\n",
       "      <td>Menny</td>\n",
       "      <td>28.2</td>\n",
       "    </tr>\n",
       "  </tbody>\n",
       "</table>\n",
       "</div>"
      ],
      "text/plain": [
       "   Citizen_Age Citizen_Name  Citizen_experience\n",
       "0           45        Alice                25.5\n",
       "1           51        Menny                28.2"
      ]
     },
     "metadata": {},
     "output_type": "display_data"
    }
   ],
   "source": [
    "from ibis import _\n",
    "\n",
    "PREDICATE = (_.Citizen_Age.isin([45,51]))\n",
    "COLUMNS = ['Citizen_Age', 'Citizen_Name', 'Citizen_experience']\n",
    "\n",
    "with session.transaction() as tx:\n",
    "    try:\n",
    "        schema = tx.bucket(DATABASE_NAME).schema(name=DATABASE_SCHEMA, fail_if_missing=False)\n",
    "        if schema:\n",
    "            try:\n",
    "                table = schema.table(name=TABLE_NAME)\n",
    "                reader = table.select(columns=COLUMNS, predicate=PREDICATE)\n",
    "                pyarrow_table = pa.Table.from_batches(reader)\n",
    "                df = pyarrow_table.to_pandas()\n",
    "                display(df)\n",
    "            except Exception as e:\n",
    "                print(\"Couldn't select data:\", e)\n",
    "    except Exception as e:\n",
    "        print(\"Schema doesn't exist:\", e)"
   ]
  },
  {
   "cell_type": "markdown",
   "id": "62fc5aec-d1eb-4564-894a-013276e2c8ca",
   "metadata": {},
   "source": [
    "**(Citizen_experience <= 28) AND (Citizen_Age between 30 to 60)**\n"
   ]
  },
  {
   "cell_type": "code",
   "execution_count": 43,
   "id": "5eb26822-66b6-45ea-87c1-257e0ea279c9",
   "metadata": {
    "tags": []
   },
   "outputs": [
    {
     "data": {
      "text/html": [
       "<div>\n",
       "<style scoped>\n",
       "    .dataframe tbody tr th:only-of-type {\n",
       "        vertical-align: middle;\n",
       "    }\n",
       "\n",
       "    .dataframe tbody tr th {\n",
       "        vertical-align: top;\n",
       "    }\n",
       "\n",
       "    .dataframe thead th {\n",
       "        text-align: right;\n",
       "    }\n",
       "</style>\n",
       "<table border=\"1\" class=\"dataframe\">\n",
       "  <thead>\n",
       "    <tr style=\"text-align: right;\">\n",
       "      <th></th>\n",
       "      <th>Citizen_Age</th>\n",
       "      <th>Citizen_Name</th>\n",
       "      <th>Citizen_experience</th>\n",
       "    </tr>\n",
       "  </thead>\n",
       "  <tbody>\n",
       "    <tr>\n",
       "      <th>0</th>\n",
       "      <td>51</td>\n",
       "      <td>Menny</td>\n",
       "      <td>28.2</td>\n",
       "    </tr>\n",
       "  </tbody>\n",
       "</table>\n",
       "</div>"
      ],
      "text/plain": [
       "   Citizen_Age Citizen_Name  Citizen_experience\n",
       "0           51        Menny                28.2"
      ]
     },
     "metadata": {},
     "output_type": "display_data"
    }
   ],
   "source": [
    "from ibis import _\n",
    "\n",
    "PREDICATE = (_.Citizen_experience >= 28) & (_.Citizen_Age >= 30) & (_.Citizen_Age <= 60)\n",
    "COLUMNS = ['Citizen_Age', 'Citizen_Name', 'Citizen_experience']\n",
    "\n",
    "with session.transaction() as tx:\n",
    "    try:\n",
    "        schema = tx.bucket(DATABASE_NAME).schema(name=DATABASE_SCHEMA, fail_if_missing=False)\n",
    "        if schema:\n",
    "            try:\n",
    "                table = schema.table(name=TABLE_NAME)\n",
    "                reader = table.select(columns=COLUMNS, predicate=PREDICATE)\n",
    "                pyarrow_table = pa.Table.from_batches(reader)\n",
    "                df = pyarrow_table.to_pandas()\n",
    "                display(df)\n",
    "            except Exception as e:\n",
    "                print(\"Couldn't select data:\", e)\n",
    "    except Exception as e:\n",
    "        print(\"Schema doesn't exist:\", e)"
   ]
  },
  {
   "cell_type": "markdown",
   "id": "120528df-ccf1-4a3a-888f-7e7f9d35b166",
   "metadata": {
    "execution": {
     "iopub.execute_input": "2024-01-08T11:31:59.762826Z",
     "iopub.status.busy": "2024-01-08T11:31:59.762526Z",
     "iopub.status.idle": "2024-01-08T11:31:59.767206Z",
     "shell.execute_reply": "2024-01-08T11:31:59.766578Z",
     "shell.execute_reply.started": "2024-01-08T11:31:59.762801Z"
    },
    "tags": []
   },
   "source": [
    "(query-a-table-using-pandas-predicates)=\n",
    "## Query a table using Pandas predicates\n",
    "\n",
    "This performs client side querying.\n"
   ]
  },
  {
   "cell_type": "code",
   "execution_count": 44,
   "id": "6768b4ce-84b8-43eb-ace9-fc85da4aadee",
   "metadata": {
    "tags": []
   },
   "outputs": [
    {
     "data": {
      "text/html": [
       "<div>\n",
       "<style scoped>\n",
       "    .dataframe tbody tr th:only-of-type {\n",
       "        vertical-align: middle;\n",
       "    }\n",
       "\n",
       "    .dataframe tbody tr th {\n",
       "        vertical-align: top;\n",
       "    }\n",
       "\n",
       "    .dataframe thead th {\n",
       "        text-align: right;\n",
       "    }\n",
       "</style>\n",
       "<table border=\"1\" class=\"dataframe\">\n",
       "  <thead>\n",
       "    <tr style=\"text-align: right;\">\n",
       "      <th></th>\n",
       "      <th>Citizen_Age</th>\n",
       "      <th>Citizen_Name</th>\n",
       "      <th>Citizen_experience</th>\n",
       "      <th>Is_married</th>\n",
       "    </tr>\n",
       "  </thead>\n",
       "  <tbody>\n",
       "    <tr>\n",
       "      <th>1</th>\n",
       "      <td>38</td>\n",
       "      <td>Bob</td>\n",
       "      <td>17.9</td>\n",
       "      <td>False</td>\n",
       "    </tr>\n",
       "  </tbody>\n",
       "</table>\n",
       "</div>"
      ],
      "text/plain": [
       "   Citizen_Age Citizen_Name  Citizen_experience  Is_married\n",
       "1           38          Bob                17.9       False"
      ]
     },
     "metadata": {},
     "output_type": "display_data"
    }
   ],
   "source": [
    "with session.transaction() as tx:\n",
    "    try:\n",
    "        schema = tx.bucket(DATABASE_NAME).schema(name=DATABASE_SCHEMA, fail_if_missing=False)\n",
    "        if schema:\n",
    "            try:\n",
    "                table = schema.table(name=TABLE_NAME)\n",
    "                reader = table.select()\n",
    "                pyarrow_table = pa.Table.from_batches(reader)\n",
    "                df = pyarrow_table.to_pandas()\n",
    "                # pandas client side querying\n",
    "                display(df[(df['Citizen_Age'] == 38) & (df['Citizen_experience'] > 2)].head(10))\n",
    "            except Exception as e:\n",
    "                print(\"Couldn't select data:\", e)\n",
    "    except Exception as e:\n",
    "        print(\"Schema doesn't exist:\", e)"
   ]
  }
 ],
 "metadata": {
  "kernelspec": {
   "display_name": "Python 3 (ipykernel)",
   "language": "python",
   "name": "python3"
  },
  "language_info": {
   "codemirror_mode": {
    "name": "ipython",
    "version": 3
   },
   "file_extension": ".py",
   "mimetype": "text/x-python",
   "name": "python",
   "nbconvert_exporter": "python",
   "pygments_lexer": "ipython3",
   "version": "3.11.9"
  },
  "toc-autonumbering": true,
  "toc-showcode": false,
  "toc-showmarkdowntxt": false,
  "toc-showtags": true
 },
 "nbformat": 4,
 "nbformat_minor": 5
}
