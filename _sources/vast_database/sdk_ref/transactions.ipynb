{
 "cells": [
  {
   "cell_type": "markdown",
   "id": "353faac2",
   "metadata": {},
   "source": [
    "# Transaction Management"
   ]
  },
  {
   "cell_type": "markdown",
   "id": "31c480c3",
   "metadata": {},
   "source": [
    "```{important}\n",
    "This notebook is in the process of being migrated to Vast Data Platform Field Docs.  It will probably not run yet.\n",
    "```\n",
    "\n",
    "```{seealso}\n",
    "The Vast DB SDK API Documentation is available [here](https://vastdb-sdk.readthedocs.io).\n",
    "```"
   ]
  },
  {
   "cell_type": "markdown",
   "id": "d518fce0-1b1a-432b-aad1-ceae1d4222a8",
   "metadata": {
    "execution": {
     "iopub.execute_input": "2023-12-13T18:05:51.170021Z",
     "iopub.status.busy": "2023-12-13T18:05:51.168878Z",
     "iopub.status.idle": "2023-12-13T18:05:51.175774Z",
     "shell.execute_reply": "2023-12-13T18:05:51.174755Z",
     "shell.execute_reply.started": "2023-12-13T18:05:51.169976Z"
    },
    "tags": []
   },
   "source": [
    "VAST-DB is ACID compliant. All operations in VAST-DB are transactions, thus the boundaries of these transactions can be moved at will to cover very complex activities. The nature of how data is managed in the metastore makes transaction and transaction roll-back very low-latency. These mechanics are covered in the “Element Store” section."
   ]
  },
  {
   "cell_type": "markdown",
   "id": "27e10b34",
   "metadata": {},
   "source": [
    "## Install sdk and connect to Vast DB\n",
    "\n",
    "Install vastdb library."
   ]
  },
  {
   "cell_type": "code",
   "execution_count": null,
   "id": "0ecbe997",
   "metadata": {},
   "outputs": [],
   "source": [
    "!pip install --quiet vastdb"
   ]
  },
  {
   "cell_type": "code",
   "execution_count": null,
   "id": "db32b8fa",
   "metadata": {
    "tags": [
     "remove-cell"
    ]
   },
   "outputs": [],
   "source": [
    "# This cell is used for automated testing.  It will be removed when published.\n",
    "\n",
    "import os\n",
    "\n",
    "ENDPOINT = os.environ['ENDPOINT']\n",
    "ACCESS_KEY = os.environ['ACCESS_KEY']\n",
    "SECRET_KEY = os.environ['SECRET_KEY']\n",
    "DATABASE_NAME = os.environ['DATABASE_NAME']"
   ]
  },
  {
   "cell_type": "code",
   "execution_count": null,
   "id": "b3c5fcf3",
   "metadata": {},
   "outputs": [],
   "source": [
    "# Change these variables to reflect your environment, E.g. \n",
    "#\n",
    "# ENDPOINT = 'http://your_vast_endpoint:12345'\n",
    "# DATABASE_NAME = 'your_db'\n",
    "# ACCESS_KEY = 'your_access_key'\n",
    "# SECRET_KEY = 'your_secret_key'"
   ]
  },
  {
   "cell_type": "markdown",
   "id": "dfe73bb3",
   "metadata": {},
   "source": [
    "Connect to Vast DB"
   ]
  },
  {
   "cell_type": "code",
   "execution_count": null,
   "id": "0683b33b",
   "metadata": {},
   "outputs": [],
   "source": [
    "import vastdb\n",
    "\n",
    "session = vastdb.connect(\n",
    "    endpoint=ENDPOINT,\n",
    "    access=ACCESS_KEY,\n",
    "    secret=SECRET_KEY)"
   ]
  },
  {
   "cell_type": "markdown",
   "id": "a1cad5d8",
   "metadata": {},
   "source": [
    "## Transactions"
   ]
  },
  {
   "cell_type": "code",
   "execution_count": 79,
   "id": "7a7cce1d-2754-4a7c-abba-6d19bae65070",
   "metadata": {
    "editable": true,
    "slideshow": {
     "slide_type": ""
    },
    "tags": [
     "raises-exception"
    ]
   },
   "outputs": [
    {
     "name": "stderr",
     "output_type": "stream",
     "text": [
      "rolling back txid=000030000000003a due to:\n",
      "Traceback (most recent call last):\n",
      "  File \"/tmp/ipykernel_1103/47924204.py\", line 8, in <module>\n",
      "    raise Exception(\"Forcing a failure inside the transaction - transaction should rollback\")\n",
      "Exception: Forcing a failure inside the transaction - transaction should rollback\n"
     ]
    },
    {
     "ename": "Exception",
     "evalue": "Forcing a failure inside the transaction - transaction should rollback",
     "output_type": "error",
     "traceback": [
      "\u001b[0;31m---------------------------------------------------------------------------\u001b[0m",
      "\u001b[0;31mException\u001b[0m                                 Traceback (most recent call last)",
      "Cell \u001b[0;32mIn[79], line 8\u001b[0m\n\u001b[1;32m      5\u001b[0m bucket \u001b[38;5;241m=\u001b[39m tx\u001b[38;5;241m.\u001b[39mbucket(DATABASE_NAME)\n\u001b[1;32m      6\u001b[0m bucket\u001b[38;5;241m.\u001b[39mcreate_schema(DATABASE_SCHEMA, fail_if_exists\u001b[38;5;241m=\u001b[39m\u001b[38;5;28;01mFalse\u001b[39;00m)\n\u001b[0;32m----> 8\u001b[0m \u001b[38;5;28;01mraise\u001b[39;00m \u001b[38;5;167;01mException\u001b[39;00m(\u001b[38;5;124m\"\u001b[39m\u001b[38;5;124mForcing a failure inside the transaction - transaction should rollback\u001b[39m\u001b[38;5;124m\"\u001b[39m)\n",
      "\u001b[0;31mException\u001b[0m: Forcing a failure inside the transaction - transaction should rollback"
     ]
    }
   ],
   "source": [
    "DATABASE_SCHEMA = 'this_should_never_get_created'\n",
    "\n",
    "with session.transaction() as tx:\n",
    "\n",
    "    bucket = tx.bucket(DATABASE_NAME)\n",
    "    bucket.create_schema(DATABASE_SCHEMA, fail_if_exists=False)\n",
    "\n",
    "    raise Exception(\"Forcing a failure inside the transaction - transaction should rollback\")\n",
    "    "
   ]
  },
  {
   "cell_type": "markdown",
   "id": "69d675ae-11a0-43dd-b3e9-65b487dc0fba",
   "metadata": {},
   "source": [
    "In the exception above, you should see `rolling back txid=...` indicating that the transaction was rolled back.\n",
    "\n",
    "Now let's print out the schemas to verify that it wasn't created:\n"
   ]
  },
  {
   "cell_type": "code",
   "execution_count": null,
   "id": "ec16d33d-3c68-415c-a4dd-d39be606498b",
   "metadata": {},
   "outputs": [],
   "source": [
    "with session.transaction() as tx:\n",
    "\n",
    "    bucket = tx.bucket(DATABASE_NAME)\n",
    "    schemas = bucket.schemas()\n",
    "    print(schemas)"
   ]
  },
  {
   "cell_type": "code",
   "execution_count": null,
   "id": "a8895d83-25a9-429c-a219-8712a5bf33eb",
   "metadata": {
    "editable": true,
    "slideshow": {
     "slide_type": ""
    },
    "tags": []
   },
   "outputs": [],
   "source": []
  }
 ],
 "metadata": {
  "kernelspec": {
   "display_name": "Python 3 (ipykernel)",
   "language": "python",
   "name": "python3"
  },
  "language_info": {
   "codemirror_mode": {
    "name": "ipython",
    "version": 3
   },
   "file_extension": ".py",
   "mimetype": "text/x-python",
   "name": "python",
   "nbconvert_exporter": "python",
   "pygments_lexer": "ipython3",
   "version": "3.11.9"
  },
  "toc-autonumbering": true,
  "toc-showcode": false,
  "toc-showmarkdowntxt": false,
  "toc-showtags": true
 },
 "nbformat": 4,
 "nbformat_minor": 5
}
