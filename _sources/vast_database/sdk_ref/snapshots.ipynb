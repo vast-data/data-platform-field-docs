{
 "cells": [
  {
   "cell_type": "markdown",
   "id": "353faac2",
   "metadata": {},
   "source": [
    "# Snapshots Management\n",
    "\n",
    "```{seealso}\n",
    "The Vast DB SDK API Documentation is available [here](https://vastdb-sdk.readthedocs.io).\n",
    "```"
   ]
  },
  {
   "cell_type": "markdown",
   "id": "31c480c3",
   "metadata": {},
   "source": [
    "```{important}\n",
    "This notebook is in the process of being migrated to Vast Data Platform Field Docs.  It will probably not run yet.\n",
    "```"
   ]
  },
  {
   "cell_type": "markdown",
   "id": "6041f48d",
   "metadata": {},
   "source": [
    "## Install sdk and connect to Vast DB\n",
    "\n",
    "Install vastdb library."
   ]
  },
  {
   "cell_type": "code",
   "execution_count": 2,
   "id": "3ec0ac90",
   "metadata": {},
   "outputs": [],
   "source": [
    "!pip install --quiet vastdb"
   ]
  },
  {
   "cell_type": "code",
   "execution_count": 3,
   "id": "e6bed0a0",
   "metadata": {
    "tags": [
     "remove-cell"
    ]
   },
   "outputs": [],
   "source": [
    "# This cell is used for automated testing.  It will be removed when published.\n",
    "\n",
    "import os\n",
    "\n",
    "ENDPOINT = os.environ['ENDPOINT']\n",
    "ACCESS_KEY = os.environ['ACCESS_KEY']\n",
    "SECRET_KEY = os.environ['SECRET_KEY']\n",
    "DATABASE_NAME = os.environ['DATABASE_NAME']"
   ]
  },
  {
   "cell_type": "code",
   "execution_count": null,
   "id": "6d3d7d2a",
   "metadata": {},
   "outputs": [],
   "source": [
    "# Change these variables to reflect your environment, E.g. \n",
    "#\n",
    "# ENDPOINT = 'http://your_vast_endpoint:12345'\n",
    "# DATABASE_NAME = 'your_db'\n",
    "# ACCESS_KEY = 'your_access_key'\n",
    "# SECRET_KEY = 'your_secret_key'"
   ]
  },
  {
   "cell_type": "markdown",
   "id": "8e364c9e",
   "metadata": {},
   "source": [
    "Connect to Vast DB"
   ]
  },
  {
   "cell_type": "code",
   "execution_count": 4,
   "id": "10d5cf46",
   "metadata": {},
   "outputs": [],
   "source": [
    "import vastdb\n",
    "\n",
    "session = vastdb.connect(\n",
    "    endpoint=ENDPOINT,\n",
    "    access=ACCESS_KEY,\n",
    "    secret=SECRET_KEY)"
   ]
  },
  {
   "cell_type": "markdown",
   "id": "22b1b779",
   "metadata": {},
   "source": [
    "## List Snapshots"
   ]
  },
  {
   "cell_type": "markdown",
   "id": "3a9d8e0a-a7fa-43ea-8819-65cfb3fe957d",
   "metadata": {
    "execution": {
     "iopub.execute_input": "2024-01-16T19:59:30.689008Z",
     "iopub.status.busy": "2024-01-16T19:59:30.688335Z",
     "iopub.status.idle": "2024-01-16T19:59:30.697292Z",
     "shell.execute_reply": "2024-01-16T19:59:30.696075Z",
     "shell.execute_reply.started": "2024-01-16T19:59:30.688980Z"
    },
    "tags": []
   },
   "source": [
    "### `snapshots`\n",
    "\n",
    "- **Usage**: Lists all snapshots of the current bucket. A snapshot is a read-only copy of a bucket at a certain point in time. This method returns a list of Bucket objects, each representing a snapshot.\n",
    "- **Parameters**:\n",
    "  - None\n",
    "- **Returns**:\n",
    "  - `List[Bucket]`: A list of Bucket objects representing the snapshots of the current bucket.\n",
    "- **Note**:\n",
    "  - The name of each snapshot is the name of the bucket followed by the snapshot name, separated by a slash.\n"
   ]
  },
  {
   "cell_type": "code",
   "execution_count": 6,
   "id": "1b89fa86-f8fd-47be-bb34-8653d1236324",
   "metadata": {
    "tags": []
   },
   "outputs": [
    {
     "name": "stdout",
     "output_type": "stream",
     "text": [
      "Bucket(name='vastdb/.snapshot/big_catalog_2024-10-13_17_53_23_UTC', tx=Transaction(id=0x0737700000000724))\n",
      "Bucket(name='vastdb/.snapshot/big_catalog_2024-10-13_17_54_23_UTC', tx=Transaction(id=0x0737700000000724))\n",
      "Bucket(name='vastdb/.snapshot/big_catalog_2024-10-13_17_55_23_UTC', tx=Transaction(id=0x0737700000000724))\n",
      "Bucket(name='vastdb/.snapshot/big_catalog_2024-10-13_17_56_23_UTC', tx=Transaction(id=0x0737700000000724))\n",
      "Bucket(name='vastdb/.snapshot/big_catalog_2024-10-13_17_57_23_UTC', tx=Transaction(id=0x0737700000000724))\n",
      "Bucket(name='vastdb/.snapshot/big_catalog_2024-10-13_17_58_23_UTC', tx=Transaction(id=0x0737700000000724))\n",
      "Bucket(name='vastdb/.snapshot/big_catalog_2024-10-13_17_59_23_UTC', tx=Transaction(id=0x0737700000000724))\n",
      "Bucket(name='vastdb/.snapshot/big_catalog_2024-10-13_18_00_23_UTC', tx=Transaction(id=0x0737700000000724))\n",
      "Bucket(name='vastdb/.snapshot/big_catalog_2024-10-13_18_01_23_UTC', tx=Transaction(id=0x0737700000000724))\n",
      "Bucket(name='vastdb/.snapshot/big_catalog_2024-10-13_18_02_23_UTC', tx=Transaction(id=0x0737700000000724))\n",
      "Bucket(name='vastdb/.snapshot/big_catalog_2024-10-13_18_03_23_UTC', tx=Transaction(id=0x0737700000000724))\n",
      "Bucket(name='vastdb/.snapshot/big_catalog_2024-10-13_18_04_23_UTC', tx=Transaction(id=0x0737700000000724))\n",
      "Bucket(name='vastdb/.snapshot/big_catalog_2024-10-13_18_05_23_UTC', tx=Transaction(id=0x0737700000000724))\n",
      "Bucket(name='vastdb/.snapshot/big_catalog_2024-10-13_18_06_23_UTC', tx=Transaction(id=0x0737700000000724))\n",
      "Bucket(name='vastdb/.snapshot/big_catalog_2024-10-13_18_07_23_UTC', tx=Transaction(id=0x0737700000000724))\n",
      "Bucket(name='vastdb/.snapshot/big_catalog_2024-10-13_18_08_23_UTC', tx=Transaction(id=0x0737700000000724))\n",
      "Bucket(name='vastdb/.snapshot/big_catalog_2024-10-13_18_09_23_UTC', tx=Transaction(id=0x0737700000000724))\n",
      "Bucket(name='vastdb/.snapshot/big_catalog_2024-10-13_18_10_23_UTC', tx=Transaction(id=0x0737700000000724))\n",
      "Bucket(name='vastdb/.snapshot/big_catalog_2024-10-13_18_11_23_UTC', tx=Transaction(id=0x0737700000000724))\n",
      "Bucket(name='vastdb/.snapshot/big_catalog_2024-10-13_18_12_23_UTC', tx=Transaction(id=0x0737700000000724))\n",
      "Bucket(name='vastdb/.snapshot/big_catalog_2024-10-13_18_13_23_UTC', tx=Transaction(id=0x0737700000000724))\n",
      "Bucket(name='vastdb/.snapshot/big_catalog_2024-10-13_18_14_23_UTC', tx=Transaction(id=0x0737700000000724))\n",
      "Bucket(name='vastdb/.snapshot/big_catalog_2024-10-13_18_15_23_UTC', tx=Transaction(id=0x0737700000000724))\n",
      "Bucket(name='vastdb/.snapshot/big_catalog_2024-10-13_18_16_23_UTC', tx=Transaction(id=0x0737700000000724))\n",
      "Bucket(name='vastdb/.snapshot/big_catalog_2024-10-13_18_17_23_UTC', tx=Transaction(id=0x0737700000000724))\n",
      "Bucket(name='vastdb/.snapshot/big_catalog_2024-10-13_18_18_23_UTC', tx=Transaction(id=0x0737700000000724))\n",
      "Bucket(name='vastdb/.snapshot/big_catalog_2024-10-13_18_19_23_UTC', tx=Transaction(id=0x0737700000000724))\n",
      "Bucket(name='vastdb/.snapshot/big_catalog_2024-10-13_18_20_23_UTC', tx=Transaction(id=0x0737700000000724))\n",
      "Bucket(name='vastdb/.snapshot/big_catalog_2024-10-13_18_21_23_UTC', tx=Transaction(id=0x0737700000000724))\n",
      "Bucket(name='vastdb/.snapshot/big_catalog_2024-10-13_18_22_23_UTC', tx=Transaction(id=0x0737700000000724))\n",
      "Bucket(name='vastdb/.snapshot/big_catalog_2024-10-13_18_23_23_UTC', tx=Transaction(id=0x0737700000000724))\n",
      "Bucket(name='vastdb/.snapshot/big_catalog_2024-10-13_18_24_23_UTC', tx=Transaction(id=0x0737700000000724))\n",
      "Bucket(name='vastdb/.snapshot/big_catalog_2024-10-13_18_25_23_UTC', tx=Transaction(id=0x0737700000000724))\n",
      "Bucket(name='vastdb/.snapshot/big_catalog_2024-10-13_18_26_23_UTC', tx=Transaction(id=0x0737700000000724))\n",
      "Bucket(name='vastdb/.snapshot/big_catalog_2024-10-13_18_27_23_UTC', tx=Transaction(id=0x0737700000000724))\n",
      "Bucket(name='vastdb/.snapshot/big_catalog_2024-10-13_18_28_23_UTC', tx=Transaction(id=0x0737700000000724))\n",
      "Bucket(name='vastdb/.snapshot/big_catalog_2024-10-13_18_29_23_UTC', tx=Transaction(id=0x0737700000000724))\n",
      "Bucket(name='vastdb/.snapshot/big_catalog_2024-10-13_18_30_23_UTC', tx=Transaction(id=0x0737700000000724))\n",
      "Bucket(name='vastdb/.snapshot/big_catalog_2024-10-13_18_31_23_UTC', tx=Transaction(id=0x0737700000000724))\n",
      "Bucket(name='vastdb/.snapshot/big_catalog_2024-10-13_18_32_23_UTC', tx=Transaction(id=0x0737700000000724))\n",
      "Bucket(name='vastdb/.snapshot/big_catalog_2024-10-13_18_33_23_UTC', tx=Transaction(id=0x0737700000000724))\n",
      "Bucket(name='vastdb/.snapshot/big_catalog_2024-10-13_18_34_23_UTC', tx=Transaction(id=0x0737700000000724))\n",
      "Bucket(name='vastdb/.snapshot/big_catalog_2024-10-13_18_35_23_UTC', tx=Transaction(id=0x0737700000000724))\n",
      "Bucket(name='vastdb/.snapshot/big_catalog_2024-10-13_18_36_23_UTC', tx=Transaction(id=0x0737700000000724))\n",
      "Bucket(name='vastdb/.snapshot/big_catalog_2024-10-13_18_37_23_UTC', tx=Transaction(id=0x0737700000000724))\n",
      "Bucket(name='vastdb/.snapshot/big_catalog_2024-10-13_18_38_23_UTC', tx=Transaction(id=0x0737700000000724))\n",
      "Bucket(name='vastdb/.snapshot/big_catalog_2024-10-13_18_39_23_UTC', tx=Transaction(id=0x0737700000000724))\n",
      "Bucket(name='vastdb/.snapshot/big_catalog_2024-10-13_18_40_23_UTC', tx=Transaction(id=0x0737700000000724))\n",
      "Bucket(name='vastdb/.snapshot/big_catalog_2024-10-13_18_41_23_UTC', tx=Transaction(id=0x0737700000000724))\n",
      "Bucket(name='vastdb/.snapshot/big_catalog_2024-10-13_18_42_23_UTC', tx=Transaction(id=0x0737700000000724))\n",
      "Bucket(name='vastdb/.snapshot/big_catalog_2024-10-13_18_43_23_UTC', tx=Transaction(id=0x0737700000000724))\n",
      "Bucket(name='vastdb/.snapshot/big_catalog_2024-10-13_18_44_23_UTC', tx=Transaction(id=0x0737700000000724))\n",
      "Bucket(name='vastdb/.snapshot/big_catalog_2024-10-13_18_45_23_UTC', tx=Transaction(id=0x0737700000000724))\n",
      "Bucket(name='vastdb/.snapshot/big_catalog_2024-10-13_18_46_23_UTC', tx=Transaction(id=0x0737700000000724))\n",
      "Bucket(name='vastdb/.snapshot/big_catalog_2024-10-13_18_47_23_UTC', tx=Transaction(id=0x0737700000000724))\n",
      "Bucket(name='vastdb/.snapshot/big_catalog_2024-10-13_18_48_23_UTC', tx=Transaction(id=0x0737700000000724))\n",
      "Bucket(name='vastdb/.snapshot/big_catalog_2024-10-13_18_49_23_UTC', tx=Transaction(id=0x0737700000000724))\n",
      "Bucket(name='vastdb/.snapshot/big_catalog_2024-10-13_18_50_23_UTC', tx=Transaction(id=0x0737700000000724))\n",
      "Bucket(name='vastdb/.snapshot/big_catalog_2024-10-13_18_51_23_UTC', tx=Transaction(id=0x0737700000000724))\n",
      "Bucket(name='vastdb/.snapshot/big_catalog_2024-10-13_18_52_23_UTC', tx=Transaction(id=0x0737700000000724))\n"
     ]
    }
   ],
   "source": [
    "with session.transaction() as tx:\n",
    "    try:\n",
    "        snapshots = tx.bucket(DATABASE_NAME).snapshots()\n",
    "        for s in snapshots:\n",
    "            print(s)\n",
    "    except Exception as e:\n",
    "        print(\"Issue retrieving snapshots:\", e)"
   ]
  },
  {
   "cell_type": "code",
   "execution_count": 7,
   "id": "13ba59a9",
   "metadata": {},
   "outputs": [
    {
     "name": "stdout",
     "output_type": "stream",
     "text": [
      "Issue retrieving snapshots: ('vastdb', '.snapshot/vastdb/.snapshot/big_catalog_2024-10-13_17_53_23_UTC')\n"
     ]
    }
   ],
   "source": [
    "with session.transaction() as tx:\n",
    "    try:\n",
    "        snapshots = tx.bucket(DATABASE_NAME).snapshot('.snapshot/big_catalog_2024-10-13_17_53_23_UTC')\n",
    "        for s in snapshots:\n",
    "            print(s)\n",
    "    except Exception as e:\n",
    "        print(\"Issue retrieving snapshots:\", e)"
   ]
  },
  {
   "cell_type": "markdown",
   "id": "1047071c-0ffb-460b-b6d0-9e6b1f1e4195",
   "metadata": {},
   "source": [
    "\n"
   ]
  }
 ],
 "metadata": {
  "kernelspec": {
   "display_name": "Python 3",
   "language": "python",
   "name": "python3"
  },
  "language_info": {
   "codemirror_mode": {
    "name": "ipython",
    "version": 3
   },
   "file_extension": ".py",
   "mimetype": "text/x-python",
   "name": "python",
   "nbconvert_exporter": "python",
   "pygments_lexer": "ipython3",
   "version": "3.10.14"
  },
  "toc-autonumbering": true,
  "toc-showcode": false,
  "toc-showmarkdowntxt": false,
  "toc-showtags": true
 },
 "nbformat": 4,
 "nbformat_minor": 5
}
