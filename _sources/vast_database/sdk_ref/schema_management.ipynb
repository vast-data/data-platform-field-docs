{
 "cells": [
  {
   "cell_type": "markdown",
   "id": "353faac2",
   "metadata": {},
   "source": [
    "# Scheme Management\n",
    "\n",
    "```{seealso}\n",
    "The Vast DB SDK API Documentation is available [here](https://vastdb-sdk.readthedocs.io).\n",
    "```\n",
    "\n",
    "## Introduction\n",
    "\n",
    "This notebook provides a comprehensive guide to managing schemas within your VAST Database using the Python SDK. We'll cover essential functions like creating new schemas, listing existing ones, retrieving specific schemas, renaming schemas, and deleting them.\n",
    "\n",
    "By following along, you'll gain the ability to effectively organize and access your data within VAST DB. The code examples demonstrate each function's usage with clear explanations, making it easy to integrate these operations into your workflow.\n"
   ]
  },
  {
   "cell_type": "markdown",
   "id": "c4dd58f6",
   "metadata": {},
   "source": [
    "## Install sdk and connect to Vast DB"
   ]
  },
  {
   "cell_type": "markdown",
   "id": "3bf57a59",
   "metadata": {},
   "source": [
    "Install vastdb library."
   ]
  },
  {
   "cell_type": "code",
   "execution_count": null,
   "id": "f3609f65",
   "metadata": {
    "vscode": {
     "languageId": "shellscript"
    }
   },
   "outputs": [],
   "source": [
    "!pip install --quiet vastdb"
   ]
  },
  {
   "cell_type": "code",
   "execution_count": null,
   "id": "bbccaa36",
   "metadata": {
    "tags": [
     "remove-cell"
    ]
   },
   "outputs": [],
   "source": [
    "# This cell is used for automated testing.  It will be removed when published.\n",
    "\n",
    "import os\n",
    "\n",
    "ENDPOINT = os.environ['ENDPOINT']\n",
    "ACCESS_KEY = os.environ['ACCESS_KEY']\n",
    "SECRET_KEY = os.environ['SECRET_KEY']\n",
    "DATABASE_NAME = os.environ['DATABASE_NAME']\n",
    "DATABASE_SCHEMA = os.environ['DATABASE_SCHEMA']"
   ]
  },
  {
   "cell_type": "code",
   "execution_count": null,
   "id": "07c8f0e7",
   "metadata": {},
   "outputs": [],
   "source": [
    "# Change these variables to reflect your environment, E.g. \n",
    "#\n",
    "# ENDPOINT = 'http://your_vast_endpoint:12345'\n",
    "# DATABASE_NAME = 'your_db'\n",
    "# ACCESS_KEY = 'your_access_key'\n",
    "# SECRET_KEY = 'your_secret_key'\n",
    "#\n",
    "# This will get created:\n",
    "# DATABASE_SCHEMA = 'your_database_schema'"
   ]
  },
  {
   "cell_type": "markdown",
   "id": "80228d9c",
   "metadata": {},
   "source": [
    "Connect to Vast DB:"
   ]
  },
  {
   "cell_type": "code",
   "execution_count": null,
   "id": "4bdd1aa5",
   "metadata": {},
   "outputs": [],
   "source": [
    "import vastdb\n",
    "\n",
    "session = vastdb.connect(\n",
    "    endpoint=ENDPOINT,\n",
    "    access=ACCESS_KEY,\n",
    "    secret=SECRET_KEY)"
   ]
  },
  {
   "cell_type": "markdown",
   "id": "c40aa944-33ec-457b-88d0-0d9d18d800f4",
   "metadata": {},
   "source": [
    "## Schema Management API\n",
    "\n",
    "### `create_schema`\n",
    "- **Usage**: Create a new schema (a container of tables) in a bucket..\n",
    "- **Parameters**:\n",
    "  - `name` (str): Name of the schema to create.\n",
    "  - `fail_if_exists` (bool, optional, default=True): If True, fail if the schema name already exists in the bucket\n"
   ]
  },
  {
   "cell_type": "code",
   "execution_count": 9,
   "id": "48508000-b173-4911-9ced-d97794bac39e",
   "metadata": {
    "tags": []
   },
   "outputs": [
    {
     "name": "stdout",
     "output_type": "stream",
     "text": [
      "Schema: python-sdk-schema\n"
     ]
    }
   ],
   "source": [
    "# Note that we use the fail_if_exists=False so that the command doesn't\n",
    "# return an error if the schema already exists\n",
    "with session.transaction() as tx:\n",
    "    bucket = tx.bucket(DATABASE_NAME)\n",
    "    schema = bucket.create_schema(DATABASE_SCHEMA, fail_if_exists=False)\n",
    "    print(f\"Schema: {schema.name}\")"
   ]
  },
  {
   "cell_type": "markdown",
   "id": "52919ab1-5059-4aaa-8d52-db1a2719da37",
   "metadata": {},
   "source": [
    "### `schemas`\n",
    "- **Usage**: List all schemas in a bucket.\n",
    "- **Parameters**:\n",
    "  - `batch_size` (int, optional): Maximum number of schemas to retrieve (default is `1000`)."
   ]
  },
  {
   "cell_type": "code",
   "execution_count": null,
   "id": "92cf4ffa-856f-46bc-94c7-2df44efdb6c3",
   "metadata": {
    "tags": []
   },
   "outputs": [],
   "source": [
    "# Print all schemas in the Database\n",
    "with session.transaction() as tx:\n",
    "    bucket = tx.bucket(DATABASE_NAME)\n",
    "    for schema in bucket.schemas():\n",
    "        print(schema)"
   ]
  },
  {
   "cell_type": "markdown",
   "id": "419b6490-3356-459f-8f08-0977f5bb539e",
   "metadata": {},
   "source": [
    "### `schema`\n",
    "- **Usage**: Get a specific schema (a container of tables) under this schema.\n",
    "- **Parameters**:\n",
    "  - `name` (str): Name of the schema to get.\n",
    "  - `fail_if_missing` (bool, optional, default=True): If True, fail with an exception if the schema doesn't exist, else return None\n"
   ]
  },
  {
   "cell_type": "code",
   "execution_count": null,
   "id": "9c038f6e-1243-4af5-b726-34285fbf551f",
   "metadata": {},
   "outputs": [],
   "source": [
    "schema_name='python-sdk1'\n",
    "\n",
    "with session.transaction() as tx:\n",
    "    bucket = tx.bucket(DATABASE_NAME)\n",
    "    try:\n",
    "        # here we select the schema we are interested in\n",
    "        schema = bucket.schema(name=DATABASE_SCHEMA)\n",
    "        print(schema)\n",
    "    except Exception as e:\n",
    "        print(\"Schema doesn't exist:\", e)"
   ]
  },
  {
   "cell_type": "markdown",
   "id": "f4d8ca56-2dc7-4e00-b20c-3c8127440c23",
   "metadata": {},
   "source": [
    "### `rename`\n",
    "- **Usage**: Rename this schema.\n",
    "- **Parameters**:\n",
    "  - `new_name` (str): New name for the schema."
   ]
  },
  {
   "cell_type": "code",
   "execution_count": null,
   "id": "b92e35d0-799f-404d-96dc-2a8f0034e87c",
   "metadata": {
    "tags": []
   },
   "outputs": [],
   "source": [
    "with session.transaction() as tx:\n",
    "    bucket = tx.bucket(DATABASE_NAME)\n",
    "    schema = bucket.create_schema(\n",
    "        f'{DATABASE_SCHEMA}_TEMPORARY_SCHEMA', \n",
    "        fail_if_exists=False)\n",
    "    \n",
    "    print(f\"Schema: {schema.name}\")"
   ]
  },
  {
   "cell_type": "code",
   "execution_count": null,
   "id": "2ac7f1e3-d92d-48ea-865c-32b9ec3973ae",
   "metadata": {},
   "outputs": [],
   "source": [
    "with session.transaction() as tx:\n",
    "    bucket = tx.bucket(DATABASE_NAME)\n",
    "    try:\n",
    "        schema = bucket.schema(\n",
    "            name=f'{DATABASE_SCHEMA}_TEMPORARY_SCHEMA', \n",
    "            fail_if_missing=False)\n",
    "        \n",
    "    except Exception as e:\n",
    "        print(\"Schema doesn't exist:\", e)\n",
    "\n",
    "    # if the schema exists, we can rename it\n",
    "    if schema:\n",
    "        try:\n",
    "            schema.rename(new_name=f'{DATABASE_SCHEMA}_TEMPORARY_SCHEMA')\n",
    "            print(\"Schema renamed\")\n",
    "        except Exception as e:\n",
    "            print(\"Unable to rename schema:\", e)"
   ]
  },
  {
   "cell_type": "code",
   "execution_count": null,
   "id": "3d78517c-a844-4a8f-a31e-81b591549981",
   "metadata": {},
   "outputs": [],
   "source": [
    "# verify the schema exists\n",
    "with session.transaction() as tx:\n",
    "    bucket = tx.bucket(DATABASE_NAME)\n",
    "    schema = bucket.schema(name='TEMPORARY_SCHEMA_RENAMED')\n",
    "    print(schema)"
   ]
  },
  {
   "cell_type": "markdown",
   "id": "ce6dc476-d9e1-4e79-846a-dfc097cd1be2",
   "metadata": {},
   "source": [
    "### `drop`\n",
    "- **Usage**: Delete a schema in a bucket.\n",
    "- **Parameters**:\n",
    "  - No parameters"
   ]
  },
  {
   "cell_type": "code",
   "execution_count": null,
   "id": "1f9641f0-2b1c-4daf-a3a8-0acf5156d0ea",
   "metadata": {
    "tags": []
   },
   "outputs": [],
   "source": [
    "# let's drop the schma we created in the previous step\n",
    "with session.transaction() as tx:\n",
    "    bucket = tx.bucket(DATABASE_NAME)\n",
    "\n",
    "    # first retrieve the schema\n",
    "    try:\n",
    "        schema = bucket.schema(\n",
    "            name=f'{DATABASE_SCHEMA}_TEMPORARY_SCHEMA', \n",
    "            fail_if_missing=False)\n",
    "        \n",
    "        print(schema)\n",
    "    except Exception as e:\n",
    "        print(\"Schema doesn't exist:\", e)\n",
    "\n",
    "    # then drop it\n",
    "    if schema:\n",
    "        try:\n",
    "            schema.drop()\n",
    "            print(\"Schema dropped\")\n",
    "        except Exception as e:\n",
    "            print(\"Unable to drop schema:\", e)"
   ]
  },
  {
   "cell_type": "code",
   "execution_count": null,
   "id": "b264cf8f-bb11-4f94-9713-5fcd450f5b5f",
   "metadata": {},
   "outputs": [],
   "source": [
    "# verify the schema names\n",
    "\n",
    "with session.transaction() as tx:\n",
    "    bucket = tx.bucket(DATABASE_NAME)\n",
    "    for schema in bucket.schemas():\n",
    "        print(schema)"
   ]
  }
 ],
 "metadata": {
  "kernelspec": {
   "display_name": "Python 3 (ipykernel)",
   "language": "python",
   "name": "python3"
  },
  "language_info": {
   "codemirror_mode": {
    "name": "ipython",
    "version": 3
   },
   "file_extension": ".py",
   "mimetype": "text/x-python",
   "name": "python",
   "nbconvert_exporter": "python",
   "pygments_lexer": "ipython3",
   "version": "3.11.9"
  },
  "toc-autonumbering": true,
  "toc-showcode": false,
  "toc-showmarkdowntxt": false,
  "toc-showtags": true
 },
 "nbformat": 4,
 "nbformat_minor": 5
}
