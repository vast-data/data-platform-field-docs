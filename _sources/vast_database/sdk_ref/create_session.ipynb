{
 "cells": [
  {
   "cell_type": "markdown",
   "id": "353faac2",
   "metadata": {},
   "source": [
    "# Create Session\n",
    "\n",
    "```{seealso}\n",
    "The Vast DB SDK API Documentation is available [here](https://vastdb-sdk.readthedocs.io).\n",
    "```\n",
    "\n",
    "## Introduction\n",
    "\n",
    "This notebook provides a foundational setup for interacting with a Vast DB database. We'll begin by installing and importing the necessary Vast DB SDK. Then, we'll establish a session with the database using your specific endpoint, access key, and secret key.\n",
    "\n",
    "By completing these steps, we'll have a solid starting point for exploring and working with Vast DB in subsequent sections of the notebook.\n",
    "\n",
    "\n"
   ]
  },
  {
   "cell_type": "markdown",
   "id": "07a603a6",
   "metadata": {},
   "source": [
    "## Prerequisites\n",
    "\n",
    "- Ensure you have followed the setup steps in the [Getting Started](../overview/getting_started.md) documentation."
   ]
  },
  {
   "cell_type": "markdown",
   "id": "9357dc7a-1add-4796-8e59-f898bf6aed90",
   "metadata": {
    "execution": {
     "iopub.execute_input": "2024-01-08T16:43:12.657340Z",
     "iopub.status.busy": "2024-01-08T16:43:12.657010Z",
     "iopub.status.idle": "2024-01-08T16:43:12.664384Z",
     "shell.execute_reply": "2024-01-08T16:43:12.663137Z",
     "shell.execute_reply.started": "2024-01-08T16:43:12.657316Z"
    },
    "tags": []
   },
   "source": [
    "## Install and import the Vast DB SDK\n",
    "\n",
    "Before doing anything else, we need to import the vastdb api library."
   ]
  },
  {
   "cell_type": "code",
   "execution_count": 1,
   "id": "2c0d604c-205e-4e2d-a981-97c3e0e2bc4b",
   "metadata": {
    "tags": []
   },
   "outputs": [],
   "source": [
    "!pip install --quiet vastdb"
   ]
  },
  {
   "cell_type": "markdown",
   "id": "cfce07fc",
   "metadata": {},
   "source": [
    "Next we need to import the vastdb library."
   ]
  },
  {
   "cell_type": "code",
   "execution_count": 2,
   "id": "3cb11256-28ee-429c-a921-3047939add25",
   "metadata": {},
   "outputs": [],
   "source": [
    "import vastdb"
   ]
  },
  {
   "cell_type": "markdown",
   "id": "c2c998ff-7574-41c3-8a6b-2d42f52149cf",
   "metadata": {
    "execution": {
     "iopub.execute_input": "2023-12-13T17:41:25.026702Z",
     "iopub.status.busy": "2023-12-13T17:41:25.026008Z",
     "iopub.status.idle": "2023-12-13T17:41:25.034449Z",
     "shell.execute_reply": "2023-12-13T17:41:25.033736Z",
     "shell.execute_reply.started": "2023-12-13T17:41:25.026652Z"
    },
    "tags": []
   },
   "source": [
    "## Creating the initial session\n",
    "\n",
    "You need to change these to reflect your environment."
   ]
  },
  {
   "cell_type": "code",
   "execution_count": 3,
   "id": "632935e0",
   "metadata": {
    "tags": [
     "remove-cell"
    ]
   },
   "outputs": [],
   "source": [
    "# This cell is used for automated testing.  It will be removed when published.\n",
    "\n",
    "import os\n",
    "\n",
    "ENDPOINT = os.environ['ENDPOINT']\n",
    "ACCESS_KEY = os.environ['ACCESS_KEY']\n",
    "SECRET_KEY = os.environ['SECRET_KEY']\n",
    "DATABASE_NAME = os.environ['DATABASE_NAME']"
   ]
  },
  {
   "cell_type": "code",
   "execution_count": null,
   "id": "15ee99f9",
   "metadata": {},
   "outputs": [],
   "source": [
    "# Change these variables to reflect your environment, E.g. \n",
    "#\n",
    "# ENDPOINT = 'http://your_vast_endpoint:12345'\n",
    "# DATABASE_NAME = 'your_db'\n",
    "# ACCESS_KEY = 'your_access_key'\n",
    "# SECRET_KEY = 'your_secret_key'"
   ]
  },
  {
   "cell_type": "markdown",
   "id": "d55320b8",
   "metadata": {},
   "source": [
    "We can then connect to the database."
   ]
  },
  {
   "cell_type": "code",
   "execution_count": 5,
   "id": "6b96e742-6fef-40ab-afc8-e0299ed5373f",
   "metadata": {},
   "outputs": [],
   "source": [
    "import vastdb\n",
    "\n",
    "session = vastdb.connect(\n",
    "    endpoint=ENDPOINT,\n",
    "    access=ACCESS_KEY,\n",
    "    secret=SECRET_KEY)"
   ]
  },
  {
   "cell_type": "markdown",
   "id": "4629438b",
   "metadata": {},
   "source": [
    "It can be useful to know the Vast Database cluster version.  Let's print it out."
   ]
  },
  {
   "cell_type": "code",
   "execution_count": null,
   "id": "229eb7d8",
   "metadata": {},
   "outputs": [],
   "source": [
    "print(\"Vast Cluster version: \", session.api.vast_version)"
   ]
  },
  {
   "cell_type": "markdown",
   "id": "ca4854c2",
   "metadata": {},
   "source": [
    "Finally test we can access the database and print out the schemas."
   ]
  },
  {
   "cell_type": "code",
   "execution_count": null,
   "id": "232afd12",
   "metadata": {},
   "outputs": [],
   "source": [
    "with session.transaction() as tx:\n",
    "    bucket = tx.bucket(DATABASE_NAME)\n",
    "\n",
    "    schemas = bucket.schemas()\n",
    "    for s in schemas:\n",
    "        print(s)"
   ]
  }
 ],
 "metadata": {
  "kernelspec": {
   "display_name": "Python 3",
   "language": "python",
   "name": "python3"
  },
  "language_info": {
   "codemirror_mode": {
    "name": "ipython",
    "version": 3
   },
   "file_extension": ".py",
   "mimetype": "text/x-python",
   "name": "python",
   "nbconvert_exporter": "python",
   "pygments_lexer": "ipython3",
   "version": "3.10.14"
  },
  "toc-autonumbering": true,
  "toc-showcode": false,
  "toc-showmarkdowntxt": false,
  "toc-showtags": true
 },
 "nbformat": 4,
 "nbformat_minor": 5
}
