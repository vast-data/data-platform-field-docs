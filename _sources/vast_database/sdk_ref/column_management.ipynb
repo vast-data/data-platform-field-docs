{
 "cells": [
  {
   "cell_type": "markdown",
   "id": "aa51e0b5-3c08-4af6-a8d4-df7f12c103ab",
   "metadata": {
    "execution": {
     "iopub.execute_input": "2023-12-13T18:00:32.088087Z",
     "iopub.status.busy": "2023-12-13T18:00:32.087794Z",
     "iopub.status.idle": "2023-12-13T18:00:32.093068Z",
     "shell.execute_reply": "2023-12-13T18:00:32.091856Z",
     "shell.execute_reply.started": "2023-12-13T18:00:32.088064Z"
    },
    "tags": []
   },
   "source": [
    "# Column Management\n",
    "\n",
    "```{important}\n",
    "This notebook is in the process of being migrated to Vast Data Platform Field Docs. It will probably not run yet.\n",
    "```\n",
    "\n",
    "```{seealso}\n",
    "The Vast DB SDK API Documentation is available [here](https://vastdb-sdk.readthedocs.io).\n",
    "```\n",
    "\n",
    "Adding a column in VAST is a transactional metadata operation that does not result in any data updates or allocations in main storage. Since VAST-DB is a columnar data store, there is no impact on subsequent inserts or updates but there is also no provision for default values during column addition. Column removals are transactional and will operate similarly to data delete operations. The column is tombstoned and becomes immediately inaccessible. Async tasks then take over and rewrite/unlink data chunks as necessary in main storage. A column removal can imply a lot of background activity, similar to a large delete, relative to the amount of data in that column (sparsity, data size, etc).  Note that this asynchronous activity is budgeted for by the system to minimize impact.\n",
    "\n"
   ]
  },
  {
   "cell_type": "markdown",
   "id": "b20ef867",
   "metadata": {},
   "source": [
    "## Install sdk and connect to Vast DB\n",
    "\n",
    "Install vastdb library."
   ]
  },
  {
   "cell_type": "code",
   "execution_count": null,
   "id": "5175d1f1",
   "metadata": {},
   "outputs": [],
   "source": [
    "!pip install --quiet vastdb"
   ]
  },
  {
   "cell_type": "code",
   "execution_count": null,
   "id": "8b8e67ac",
   "metadata": {
    "tags": [
     "remove-cell"
    ]
   },
   "outputs": [],
   "source": [
    "\n",
    "# This cell is used for automated testing.  It will be removed when published.\n",
    "\n",
    "import os\n",
    "\n",
    "ENDPOINT = os.environ['ENDPOINT']\n",
    "ACCESS_KEY = os.environ['ACCESS_KEY']\n",
    "SECRET_KEY = os.environ['SECRET_KEY']\n",
    "DATABASE_NAME = os.environ['DATABASE_NAME']\n",
    "DATABASE_SCHEMA = os.environ['DATABASE_SCHEMA']\n",
    "TABLE_NAME = os.environ['TABLE_NAME']"
   ]
  },
  {
   "cell_type": "code",
   "execution_count": null,
   "id": "c973d738",
   "metadata": {},
   "outputs": [],
   "source": [
    "\n",
    "# Change these variables to reflect your environment, E.g. \n",
    "#\n",
    "# ENDPOINT = 'http://your_vast_endpoint:12345'\n",
    "# DATABASE_NAME = 'your_db'\n",
    "# ACCESS_KEY = 'your_access_key'\n",
    "# SECRET_KEY = 'your_secret_key'\n",
    "# DATABASE_SCHEMA = 'your_database_schema'\n",
    "#\n",
    "# This will be created:\n",
    "# TABLE_NAME='TEMPORARY_TABLE'"
   ]
  },
  {
   "cell_type": "markdown",
   "id": "23f91a39",
   "metadata": {},
   "source": [
    "Connect to Vast DB"
   ]
  },
  {
   "cell_type": "code",
   "execution_count": null,
   "id": "66bf1db9",
   "metadata": {},
   "outputs": [],
   "source": [
    "import vastdb\n",
    "\n",
    "session = vastdb.connect(\n",
    "    endpoint=ENDPOINT,\n",
    "    access=ACCESS_KEY,\n",
    "    secret=SECRET_KEY)"
   ]
  },
  {
   "cell_type": "markdown",
   "id": "f23ddcd0",
   "metadata": {},
   "source": [
    "## Column Management API"
   ]
  },
  {
   "cell_type": "markdown",
   "id": "a0b425ee-d645-4287-8ef6-6f44b8e47340",
   "metadata": {},
   "source": [
    "### `columns`\n",
    "- **Usage**: List all columns of a table.\n",
    "- **Parameters**:\n",
    "  - No parameters"
   ]
  },
  {
   "cell_type": "markdown",
   "id": "7b1f9524",
   "metadata": {},
   "source": [
    "Create a table for our column management examples."
   ]
  },
  {
   "cell_type": "code",
   "execution_count": null,
   "id": "3c58a946",
   "metadata": {
    "tags": [
     "hide-cell"
    ]
   },
   "outputs": [],
   "source": [
    "import pyarrow as pa\n",
    "from vastdb.errors import TableExists\n",
    "\n",
    "# Table schemas (don't confuse with database schema) are created using \n",
    "# PyArrow (pa)\n",
    "ARROW_SCHEMA = pa.schema([('column1', pa.int32()), ('column2', pa.string())])\n",
    "\n",
    "\n",
    "with session.transaction() as tx:\n",
    "    bucket = tx.bucket(DATABASE_NAME)\n",
    "\n",
    "    # first retrieve the schema\n",
    "    try:\n",
    "        schema = bucket.schema(name=DATABASE_SCHEMA, fail_if_missing=False)\n",
    "        print(schema)\n",
    "    except Exception as e:\n",
    "        print(\"Schema doesn't exist:\", e)\n",
    "\n",
    "    if schema:\n",
    "        try:\n",
    "            table = schema.create_table(table_name=TABLE_NAME, columns=ARROW_SCHEMA)\n",
    "            print(f\"Table created: {table.name}\")\n",
    "        except TableExists as e:\n",
    "            print(\"Couldn't create table because it already exists:\", e)\n",
    "        except Exception as e:\n",
    "            print(\"Couldn't create table:\", e)"
   ]
  },
  {
   "cell_type": "markdown",
   "id": "59c53185",
   "metadata": {},
   "source": [
    "Create a utility function to print columns."
   ]
  },
  {
   "cell_type": "code",
   "execution_count": 27,
   "id": "1c6ca268-a2da-425c-8aa0-62c24499d2c3",
   "metadata": {
    "scrolled": true,
    "tags": [
     "hide-cell"
    ]
   },
   "outputs": [],
   "source": [
    "def print_columns(database_name, schema_name, table_name):\n",
    "    with session.transaction() as tx:\n",
    "        schema = tx.bucket(database_name).schema(schema_name)\n",
    "        table = schema.table(name=table_name, fail_if_missing=False)\n",
    "        if table:\n",
    "            columns = table.columns()\n",
    "            print(columns)\n",
    "        else:\n",
    "            print(f\"Couldn't find the table {table_name}.\")"
   ]
  },
  {
   "cell_type": "code",
   "execution_count": null,
   "id": "f9eed0bf-9163-4725-a236-9122c46b099f",
   "metadata": {},
   "outputs": [],
   "source": [
    "print_columns(DATABASE_NAME, DATABASE_SCHEMA, TABLE_NAME)"
   ]
  },
  {
   "cell_type": "markdown",
   "id": "5d9f690b-1a78-4129-93a8-a5bf238c8c0a",
   "metadata": {},
   "source": [
    "### `add_columns`\n",
    "- **Usage**: Add new columns to an existing table.\n",
    "- **Parameters**:\n",
    "  - `new_column` (Apache Arrow Schema): Schema of the columns to add.\n"
   ]
  },
  {
   "cell_type": "code",
   "execution_count": null,
   "id": "52970015-1974-481a-a120-ba95aa4d945a",
   "metadata": {},
   "outputs": [],
   "source": [
    "# verify the table exists\n",
    "print_columns(DATABASE_NAME, DATABASE_SCHEMA, TABLE_NAME)"
   ]
  },
  {
   "cell_type": "code",
   "execution_count": 30,
   "id": "dd423b56-cff6-4365-a888-f2a82ddc228e",
   "metadata": {},
   "outputs": [],
   "source": [
    "# let's create a utility method to check if a column exists\n",
    "def column_exists(table, column_name):\n",
    "    if table:\n",
    "        try:\n",
    "            # field(column_name) is a pyarrow method\n",
    "            # https://arrow.apache.org/docs/python/generated/pyarrow.Schema.html#pyarrow.Schema.field\n",
    "            cols = table.columns()\n",
    "            cols.field(column_name)\n",
    "            return True\n",
    "        except KeyError:\n",
    "            return False\n",
    "        except Exception as e:\n",
    "            raise e\n",
    "    else:\n",
    "        return False"
   ]
  },
  {
   "cell_type": "code",
   "execution_count": null,
   "id": "168a5862-2f6f-4eb5-97b6-437d5e71e1e4",
   "metadata": {
    "tags": []
   },
   "outputs": [],
   "source": [
    "import pyarrow as pa\n",
    "\n",
    "NEW_COLUMN_NAME = 'new_column'\n",
    "NEW_COLUMNS = pa.schema([(NEW_COLUMN_NAME, pa.int64())])\n",
    "\n",
    "with session.transaction() as tx:\n",
    "    schema = tx.bucket(DATABASE_NAME).schema(DATABASE_SCHEMA)\n",
    "    table = schema.table(name=TABLE_NAME, fail_if_missing=False)\n",
    "    if table:\n",
    "        try:\n",
    "            if column_exists(table, NEW_COLUMN_NAME):\n",
    "                print(\"Skipping.  Column already exists.\")\n",
    "            else:\n",
    "                print(f\"Adding column to {table.name}\")\n",
    "                table.add_column(new_column=NEW_COLUMNS)\n",
    "        except Exception as e:\n",
    "            print(\"Couldn't add column - verify that it doesn't already exist\")\n",
    "            print(e)\n",
    "    else:\n",
    "        print(f\"Couldn't find the table {TABLE_NAME}.\")"
   ]
  },
  {
   "cell_type": "code",
   "execution_count": null,
   "id": "38d6ae11-fa00-4607-a015-1726b95b1d73",
   "metadata": {},
   "outputs": [],
   "source": [
    "print_columns(DATABASE_NAME, DATABASE_SCHEMA, TABLE_NAME)"
   ]
  },
  {
   "cell_type": "markdown",
   "id": "79b9372e-9fb1-42cc-af31-6e596f4e99a8",
   "metadata": {},
   "source": [
    "### `rename_column`\n",
    "- **Usage**: Rename a column in a table.\n",
    "- **Parameters**:\n",
    "  - `current_column_name` (str): The name of the column.\n",
    "  - `new_column_name` (str, optional): New column name (default is an empty string `\"\"`)."
   ]
  },
  {
   "cell_type": "markdown",
   "id": "42b3ef31-0381-4165-80d7-a670c70dca1f",
   "metadata": {},
   "source": [
    "#### Alter and rename the Column\n"
   ]
  },
  {
   "cell_type": "code",
   "execution_count": null,
   "id": "30d8753c-0ff6-44e8-92fa-a37882786003",
   "metadata": {
    "tags": []
   },
   "outputs": [],
   "source": [
    "CUR_COLUMN_NAME = 'new_column'\n",
    "NEW_COLUMN_NAME = 'renamed_new_column'\n",
    "\n",
    "with session.transaction() as tx:\n",
    "    schema = tx.bucket(DATABASE_NAME).schema(DATABASE_SCHEMA)\n",
    "    table = schema.table(name=TABLE_NAME, fail_if_missing=False)\n",
    "    if table:\n",
    "        try:\n",
    "            if column_exists(table, NEW_COLUMN_NAME):\n",
    "                print(\"Skipping.  Column already exists.\")\n",
    "            else:\n",
    "                print(f\"Adding column to {table.name}\")\n",
    "                table.rename_column(current_column_name=CUR_COLUMN_NAME, new_column_name=NEW_COLUMN_NAME)\n",
    "        except Exception as e:\n",
    "            print(\"Couldn't add column - verify that it doesn't already exist\")\n",
    "            print(e)\n",
    "    else:\n",
    "        print(f\"Couldn't find the table {TABLE_NAME}.\")\n"
   ]
  },
  {
   "cell_type": "markdown",
   "id": "cccb2fcf-c09c-490c-b080-8b52cfded466",
   "metadata": {},
   "source": [
    "#### Validate that the name of the column has changed\n"
   ]
  },
  {
   "cell_type": "code",
   "execution_count": null,
   "id": "e4063494-e12a-44e4-9b97-2098414cfdc4",
   "metadata": {
    "tags": []
   },
   "outputs": [],
   "source": [
    "print_columns(DATABASE_NAME, DATABASE_SCHEMA, TABLE_NAME)"
   ]
  },
  {
   "cell_type": "markdown",
   "id": "0b41eb35-f8f0-4c56-91ba-7c895f925774",
   "metadata": {},
   "source": [
    "### `drop_column`\n",
    "- **Usage**: Remove columns from a table.\n",
    "- **Parameters**:\n",
    "  - `column_to_drop` (Apache Arrow Schema): Schema of the columns to remove.\n"
   ]
  },
  {
   "cell_type": "code",
   "execution_count": null,
   "id": "6726f70b-d7cf-4e0b-98aa-abd99e314780",
   "metadata": {
    "tags": []
   },
   "outputs": [],
   "source": [
    "COLUMN_NAME = 'renamed_new_column'\n",
    "COLUMN_TO_DROP = pa.schema([(COLUMN_NAME, pa.int64())])\n",
    "\n",
    "with session.transaction() as tx:\n",
    "    schema = tx.bucket(DATABASE_NAME).schema(DATABASE_SCHEMA)\n",
    "    table = schema.table(name=TABLE_NAME, fail_if_missing=False)\n",
    "    if table:\n",
    "        try:\n",
    "            if not column_exists(table, COLUMN_NAME):\n",
    "                print(\"Skipping.  Column doesn't exists.\")\n",
    "            else:\n",
    "                print(f\"Dropping column from {table.name}\")\n",
    "                table.drop_column(column_to_drop=COLUMN_TO_DROP)\n",
    "        except Exception as e:\n",
    "            print(\"Couldn't add column - verify that it doesn't already exist\")\n",
    "            print(e)\n",
    "    else:\n",
    "        print(f\"Couldn't find the table {TABLE_NAME}.\")\n"
   ]
  }
 ],
 "metadata": {
  "kernelspec": {
   "display_name": "Python 3 (ipykernel)",
   "language": "python",
   "name": "python3"
  },
  "language_info": {
   "codemirror_mode": {
    "name": "ipython",
    "version": 3
   },
   "file_extension": ".py",
   "mimetype": "text/x-python",
   "name": "python",
   "nbconvert_exporter": "python",
   "pygments_lexer": "ipython3",
   "version": "3.11.9"
  },
  "toc-autonumbering": true,
  "toc-showcode": false,
  "toc-showmarkdowntxt": false,
  "toc-showtags": true
 },
 "nbformat": 4,
 "nbformat_minor": 5
}
