{
 "cells": [
  {
   "cell_type": "markdown",
   "id": "353faac2",
   "metadata": {},
   "source": [
    "# Importing Files using Pandas\n",
    "\n",
    "```{important}\n",
    "This notebook is in the process of being migrated to Vast Data Platform Field Docs.  It will probably not run yet.\n",
    "```\n",
    "\n",
    "```{seealso}\n",
    "The Vast DB SDK API Documentation is available [here](https://vastdb-sdk.readthedocs.io).\n",
    "```"
   ]
  },
  {
   "cell_type": "markdown",
   "id": "9357dc7a-1add-4796-8e59-f898bf6aed90",
   "metadata": {
    "execution": {
     "iopub.execute_input": "2024-01-08T16:43:12.657340Z",
     "iopub.status.busy": "2024-01-08T16:43:12.657010Z",
     "iopub.status.idle": "2024-01-08T16:43:12.664384Z",
     "shell.execute_reply": "2024-01-08T16:43:12.663137Z",
     "shell.execute_reply.started": "2024-01-08T16:43:12.657316Z"
    },
    "tags": []
   },
   "source": [
    "## Install and Import the Vast DB SDK\n",
    "\n",
    "Before doing anything else, we need to import the vastdb api library.\n",
    "\n",
    "Note that we also import annotations.  This mode makes Python's behavior more strict, including raising errors for some cases where variables are accidentally undefined."
   ]
  },
  {
   "cell_type": "code",
   "execution_count": 1,
   "id": "2c0d604c-205e-4e2d-a981-97c3e0e2bc4b",
   "metadata": {
    "tags": []
   },
   "outputs": [
    {
     "name": "stdout",
     "output_type": "stream",
     "text": [
      "\u001b[?25hDownloading markdown_it_py-3.0.0-py3-none-any.whl (87 kB)\n",
      "\u001b[2K   \u001b[90m━━━━━━━━━━━━━━━━━━━━━━━━━━━━━━━━━━━━━━━━\u001b[0m \u001b[32m87.5/87.5 kB\u001b[0m \u001b[31m6.8 MB/s\u001b[0m eta \u001b[36m0:00:00\u001b[0m\n",
      "\u001b[?25hDownloading mdurl-0.1.2-py3-none-any.whl (10.0 kB)\n",
      "Installing collected packages: flatbuffers, xmltodict, sqlglot, parsy, mdurl, jmespath, bidict, backoff, atpublic, markdown-it-py, botocore, aws-requests-auth, s3transfer, rich, ibis-framework, boto3, vastdb\n",
      "Successfully installed atpublic-4.1.0 aws-requests-auth-0.4.3 backoff-2.2.1 bidict-0.23.1 boto3-1.34.126 botocore-1.34.126 flatbuffers-24.3.25 ibis-framework-9.0.0 jmespath-1.0.1 markdown-it-py-3.0.0 mdurl-0.1.2 parsy-2.1 rich-13.7.1 s3transfer-0.10.1 sqlglot-23.12.2 vastdb-0.1.7 xmltodict-0.13.0\n"
     ]
    }
   ],
   "source": [
    "!pip install vastdb | tail -5"
   ]
  },
  {
   "cell_type": "code",
   "execution_count": 2,
   "id": "3cb11256-28ee-429c-a921-3047939add25",
   "metadata": {},
   "outputs": [],
   "source": [
    "import vastdb\n",
    "from __future__ import annotations  # Enable stricter type checking"
   ]
  },
  {
   "cell_type": "markdown",
   "id": "c2c998ff-7574-41c3-8a6b-2d42f52149cf",
   "metadata": {
    "execution": {
     "iopub.execute_input": "2023-12-13T17:41:25.026702Z",
     "iopub.status.busy": "2023-12-13T17:41:25.026008Z",
     "iopub.status.idle": "2023-12-13T17:41:25.034449Z",
     "shell.execute_reply": "2023-12-13T17:41:25.033736Z",
     "shell.execute_reply.started": "2023-12-13T17:41:25.026652Z"
    },
    "tags": []
   },
   "source": [
    "## Creating the initial session\n",
    "\n",
    "In the code below, we read the connection details from environment variables to enable automated teesting of the notebook.\n",
    "\n",
    "Change these to reflect your environment, e.g.\n",
    "\n",
    "```python\n",
    "ENDPOINT = 'http://your_vast_endpoint:12345'\n",
    "DATABASE_NAME = ...\n",
    "```"
   ]
  },
  {
   "cell_type": "code",
   "execution_count": 3,
   "id": "632935e0",
   "metadata": {},
   "outputs": [],
   "source": [
    "import os\n",
    "\n",
    "ENDPOINT = os.environ['ENDPOINT']\n",
    "ACCESS_KEY = os.environ['ACCESS_KEY']\n",
    "SECRET_KEY = os.environ['SECRET_KEY']\n",
    "\n",
    "DATABASE_NAME = os.environ['DATABASE_NAME']\n",
    "\n",
    "# Schema and Table will get created if they doesn't exist \n",
    "DATABASE_SCHEMA = os.environ['DATABASE_SCHEMA']\n",
    "TABLE_NAME = os.environ['TABLE_NAME']\n",
    "\n",
    "# S3 File Details\n",
    "BUCKET_NAME = os.environ['BUCKET_NAME']\n",
    "LOCAL_FILE_PATH = 'flights.parquet'\n",
    "S3_FILE_KEY = 'pythonsdk/import/flights.parquet'"
   ]
  },
  {
   "cell_type": "code",
   "execution_count": 4,
   "id": "43a3c320-a409-403e-87b1-215bb15839ff",
   "metadata": {},
   "outputs": [],
   "source": [
    "print(f\"\"\"\n",
    "{ENDPOINT=} \n",
    "{ACCESS_KEY=}\n",
    "---\n",
    "{DATABASE_NAME=}\n",
    "{DATABASE_SCHEMA=}\n",
    "{TABLE_NAME=}\n",
    "---\n",
    "{BUCKET_NAME=}\n",
    "{LOCAL_FILE_PATH=}\n",
    "{S3_FILE_KEY=}\n",
    "\"\"\")"
   ]
  },
  {
   "cell_type": "code",
   "execution_count": 5,
   "id": "6b96e742-6fef-40ab-afc8-e0299ed5373f",
   "metadata": {},
   "outputs": [],
   "source": [
    "import pyarrow as pa\n",
    "import vastdb\n",
    "import os\n",
    "\n",
    "session = vastdb.connect(\n",
    "    endpoint=ENDPOINT,\n",
    "    access=ACCESS_KEY,\n",
    "    secret=SECRET_KEY)"
   ]
  },
  {
   "cell_type": "code",
   "execution_count": 6,
   "id": "229eb7d8",
   "metadata": {},
   "outputs": [
    {
     "name": "stdout",
     "output_type": "stream",
     "text": [
      "Vast Cluster version:  (5, 1, 0, 131)\n"
     ]
    }
   ],
   "source": [
    "print(\"Vast Cluster version: \", session.api.vast_version)"
   ]
  },
  {
   "cell_type": "markdown",
   "id": "f05e23f3-f1bc-43bd-8308-a63f0625735e",
   "metadata": {
    "execution": {
     "iopub.execute_input": "2024-01-16T20:41:32.103006Z",
     "iopub.status.busy": "2024-01-16T20:41:32.102020Z",
     "iopub.status.idle": "2024-01-16T20:41:32.109022Z",
     "shell.execute_reply": "2024-01-16T20:41:32.108340Z",
     "shell.execute_reply.started": "2024-01-16T20:41:32.102920Z"
    },
    "tags": []
   },
   "source": [
    "## Import Parquet Files\n",
    "\n",
    "The following example will use Pandas to load a local parquet file and insert the data into a VAST DB table"
   ]
  },
  {
   "cell_type": "code",
   "execution_count": 70,
   "id": "07509215-187f-4369-8097-0b6faddb1a7c",
   "metadata": {},
   "outputs": [],
   "source": [
    "# Set your parameters and credentials\n",
    "\n",
    "TABLE_NAME = 'flights'"
   ]
  },
  {
   "cell_type": "code",
   "execution_count": 71,
   "id": "badad29f-1ab6-4bb1-853b-a98d926a718b",
   "metadata": {},
   "outputs": [
    {
     "name": "stdout",
     "output_type": "stream",
     "text": [
      "LOCAL_FILE_PATH='flights.parquet'\n"
     ]
    }
   ],
   "source": [
    "# print parquet file name\n",
    "print(f\"{LOCAL_FILE_PATH=}\")"
   ]
  },
  {
   "cell_type": "code",
   "execution_count": 72,
   "id": "3d4df1b0-1a6f-448c-ae56-e5290b6842e1",
   "metadata": {},
   "outputs": [],
   "source": [
    "import pandas as pd\n",
    "import pyarrow.parquet as pq\n",
    "\n",
    "DF = pd.read_parquet(LOCAL_FILE_PATH)\n",
    "\n",
    "# Read Parquet file directly into PyArrow table\n",
    "ARROW_TABLE = pq.read_table(LOCAL_FILE_PATH)\n",
    "ARROW_SCHEMA = ARROW_TABLE.schema"
   ]
  },
  {
   "cell_type": "code",
   "execution_count": 73,
   "id": "2c8b725a-d0be-455c-8e13-9ab306a16094",
   "metadata": {},
   "outputs": [],
   "source": [
    "def create_table(database_name, database_schema, table_name, arrow_schema):\n",
    "    \n",
    "    with session.transaction() as tx:\n",
    "        bucket = tx.bucket(database_name)\n",
    "    \n",
    "        # first retrieve the schema\n",
    "        try:\n",
    "            schema = bucket.schema(name=database_schema, fail_if_missing=False)\n",
    "            print(schema)\n",
    "        except Exception as e:\n",
    "            print(\"Schema doesn't exist:\", e)\n",
    "    \n",
    "        if schema:\n",
    "            try:\n",
    "                table = schema.create_table(table_name=table_name, columns=arrow_schema)\n",
    "                print(f\"Table created: {table.name}\")\n",
    "            except TableExists as e:\n",
    "                print(\"Couldn't create table because it already exists:\", e)\n",
    "            except Exception as e:\n",
    "                print(\"Couldn't create table:\", e)"
   ]
  },
  {
   "cell_type": "code",
   "execution_count": 74,
   "id": "6716dcf0-8fdd-44fc-ac4c-fcd1163282de",
   "metadata": {},
   "outputs": [
    {
     "name": "stdout",
     "output_type": "stream",
     "text": [
      "Schema(name='python-sdk-schema', bucket=Bucket(name='demo-database', tx=Transaction(id=0x0000300000000036)))\n",
      "Table created: flights\n"
     ]
    }
   ],
   "source": [
    "create_table(DATABASE_NAME, DATABASE_SCHEMA, TABLE_NAME, ARROW_SCHEMA)"
   ]
  },
  {
   "cell_type": "code",
   "execution_count": 75,
   "id": "8fb8c681-9e18-4823-a623-f82025c8924b",
   "metadata": {},
   "outputs": [],
   "source": [
    "def insert_dataframe_to_database(database_name, database_schema, table_name, record_batch):\n",
    "    with session.transaction() as tx:\n",
    "        try:\n",
    "            schema = tx.bucket(database_name).schema(name=database_schema, fail_if_missing=False)\n",
    "            if schema:\n",
    "                try:\n",
    "                    table = schema.table(name=table_name)\n",
    "                    table.insert(record_batch)\n",
    "                    print(\"Data inserted.\")\n",
    "                except Exception as e:\n",
    "                    print(\"Couldn't insert data:\", e)\n",
    "        except Exception as e:\n",
    "            print(\"Schema doesn't exist:\", e)"
   ]
  },
  {
   "cell_type": "code",
   "execution_count": 76,
   "id": "d15efafe-b52e-4de5-bdb9-3343d2c3217d",
   "metadata": {},
   "outputs": [
    {
     "name": "stdout",
     "output_type": "stream",
     "text": [
      "Data inserted.\n"
     ]
    }
   ],
   "source": [
    "RECORD_BATCH = pa.RecordBatch.from_pandas(DF)\n",
    "\n",
    "insert_dataframe_to_database(DATABASE_NAME, DATABASE_SCHEMA, TABLE_NAME, RECORD_BATCH)"
   ]
  },
  {
   "cell_type": "code",
   "execution_count": 77,
   "id": "80f716c1-238b-43a0-99fe-18688e1737df",
   "metadata": {},
   "outputs": [
    {
     "name": "stdout",
     "output_type": "stream",
     "text": [
      "Listing rows in flights\n"
     ]
    },
    {
     "data": {
      "text/html": [
       "<div>\n",
       "<style scoped>\n",
       "    .dataframe tbody tr th:only-of-type {\n",
       "        vertical-align: middle;\n",
       "    }\n",
       "\n",
       "    .dataframe tbody tr th {\n",
       "        vertical-align: top;\n",
       "    }\n",
       "\n",
       "    .dataframe thead th {\n",
       "        text-align: right;\n",
       "    }\n",
       "</style>\n",
       "<table border=\"1\" class=\"dataframe\">\n",
       "  <thead>\n",
       "    <tr style=\"text-align: right;\">\n",
       "      <th></th>\n",
       "      <th>FL_DATE</th>\n",
       "      <th>DEP_DELAY</th>\n",
       "      <th>ARR_DELAY</th>\n",
       "      <th>AIR_TIME</th>\n",
       "      <th>DISTANCE</th>\n",
       "      <th>DEP_TIME</th>\n",
       "      <th>ARR_TIME</th>\n",
       "    </tr>\n",
       "  </thead>\n",
       "  <tbody>\n",
       "    <tr>\n",
       "      <th>0</th>\n",
       "      <td>2006-01-01</td>\n",
       "      <td>5</td>\n",
       "      <td>19</td>\n",
       "      <td>350</td>\n",
       "      <td>2475</td>\n",
       "      <td>9.083333</td>\n",
       "      <td>12.483334</td>\n",
       "    </tr>\n",
       "    <tr>\n",
       "      <th>1</th>\n",
       "      <td>2006-01-02</td>\n",
       "      <td>167</td>\n",
       "      <td>216</td>\n",
       "      <td>343</td>\n",
       "      <td>2475</td>\n",
       "      <td>11.783334</td>\n",
       "      <td>15.766666</td>\n",
       "    </tr>\n",
       "    <tr>\n",
       "      <th>2</th>\n",
       "      <td>2006-01-03</td>\n",
       "      <td>-7</td>\n",
       "      <td>-2</td>\n",
       "      <td>344</td>\n",
       "      <td>2475</td>\n",
       "      <td>8.883333</td>\n",
       "      <td>12.133333</td>\n",
       "    </tr>\n",
       "    <tr>\n",
       "      <th>3</th>\n",
       "      <td>2006-01-04</td>\n",
       "      <td>-5</td>\n",
       "      <td>-13</td>\n",
       "      <td>331</td>\n",
       "      <td>2475</td>\n",
       "      <td>8.916667</td>\n",
       "      <td>11.950000</td>\n",
       "    </tr>\n",
       "    <tr>\n",
       "      <th>4</th>\n",
       "      <td>2006-01-05</td>\n",
       "      <td>-3</td>\n",
       "      <td>-17</td>\n",
       "      <td>321</td>\n",
       "      <td>2475</td>\n",
       "      <td>8.950000</td>\n",
       "      <td>11.883333</td>\n",
       "    </tr>\n",
       "    <tr>\n",
       "      <th>...</th>\n",
       "      <td>...</td>\n",
       "      <td>...</td>\n",
       "      <td>...</td>\n",
       "      <td>...</td>\n",
       "      <td>...</td>\n",
       "      <td>...</td>\n",
       "      <td>...</td>\n",
       "    </tr>\n",
       "    <tr>\n",
       "      <th>999995</th>\n",
       "      <td>2006-01-19</td>\n",
       "      <td>5</td>\n",
       "      <td>4</td>\n",
       "      <td>244</td>\n",
       "      <td>1781</td>\n",
       "      <td>15.000000</td>\n",
       "      <td>17.350000</td>\n",
       "    </tr>\n",
       "    <tr>\n",
       "      <th>999996</th>\n",
       "      <td>2006-01-20</td>\n",
       "      <td>14</td>\n",
       "      <td>12</td>\n",
       "      <td>240</td>\n",
       "      <td>1781</td>\n",
       "      <td>15.150000</td>\n",
       "      <td>17.483334</td>\n",
       "    </tr>\n",
       "    <tr>\n",
       "      <th>999997</th>\n",
       "      <td>2006-01-21</td>\n",
       "      <td>9</td>\n",
       "      <td>12</td>\n",
       "      <td>241</td>\n",
       "      <td>1781</td>\n",
       "      <td>15.066667</td>\n",
       "      <td>17.483334</td>\n",
       "    </tr>\n",
       "    <tr>\n",
       "      <th>999998</th>\n",
       "      <td>2006-01-22</td>\n",
       "      <td>-2</td>\n",
       "      <td>8</td>\n",
       "      <td>242</td>\n",
       "      <td>1781</td>\n",
       "      <td>14.883333</td>\n",
       "      <td>17.416666</td>\n",
       "    </tr>\n",
       "    <tr>\n",
       "      <th>999999</th>\n",
       "      <td>2006-01-23</td>\n",
       "      <td>1</td>\n",
       "      <td>-12</td>\n",
       "      <td>232</td>\n",
       "      <td>1781</td>\n",
       "      <td>14.933333</td>\n",
       "      <td>17.083334</td>\n",
       "    </tr>\n",
       "  </tbody>\n",
       "</table>\n",
       "<p>1000000 rows × 7 columns</p>\n",
       "</div>"
      ],
      "text/plain": [
       "           FL_DATE  DEP_DELAY  ARR_DELAY  AIR_TIME  DISTANCE   DEP_TIME  \\\n",
       "0       2006-01-01          5         19       350      2475   9.083333   \n",
       "1       2006-01-02        167        216       343      2475  11.783334   \n",
       "2       2006-01-03         -7         -2       344      2475   8.883333   \n",
       "3       2006-01-04         -5        -13       331      2475   8.916667   \n",
       "4       2006-01-05         -3        -17       321      2475   8.950000   \n",
       "...            ...        ...        ...       ...       ...        ...   \n",
       "999995  2006-01-19          5          4       244      1781  15.000000   \n",
       "999996  2006-01-20         14         12       240      1781  15.150000   \n",
       "999997  2006-01-21          9         12       241      1781  15.066667   \n",
       "999998  2006-01-22         -2          8       242      1781  14.883333   \n",
       "999999  2006-01-23          1        -12       232      1781  14.933333   \n",
       "\n",
       "         ARR_TIME  \n",
       "0       12.483334  \n",
       "1       15.766666  \n",
       "2       12.133333  \n",
       "3       11.950000  \n",
       "4       11.883333  \n",
       "...           ...  \n",
       "999995  17.350000  \n",
       "999996  17.483334  \n",
       "999997  17.483334  \n",
       "999998  17.416666  \n",
       "999999  17.083334  \n",
       "\n",
       "[1000000 rows x 7 columns]"
      ]
     },
     "metadata": {},
     "output_type": "display_data"
    }
   ],
   "source": [
    "with session.transaction() as tx:\n",
    "    try:\n",
    "        schema = tx.bucket(DATABASE_NAME).schema(name=DATABASE_SCHEMA, fail_if_missing=False)\n",
    "        if schema:\n",
    "            try:\n",
    "                table = schema.table(name=TABLE_NAME)\n",
    "                reader = table.select()\n",
    "                pyarrow_table = pa.Table.from_batches(reader)\n",
    "                df = pyarrow_table.to_pandas()\n",
    "                print(f\"Listing rows in {TABLE_NAME}\")\n",
    "                display(df)\n",
    "            except Exception as e:\n",
    "                print(\"Couldn't select data:\", e)\n",
    "    except Exception as e:\n",
    "        print(\"Schema doesn't exist:\", e)"
   ]
  }
 ],
 "metadata": {
  "kernelspec": {
   "display_name": "Python 3 (ipykernel)",
   "language": "python",
   "name": "python3"
  },
  "language_info": {
   "codemirror_mode": {
    "name": "ipython",
    "version": 3
   },
   "file_extension": ".py",
   "mimetype": "text/x-python",
   "name": "python",
   "nbconvert_exporter": "python",
   "pygments_lexer": "ipython3",
   "version": "3.11.9"
  },
  "toc-autonumbering": true,
  "toc-showcode": false,
  "toc-showmarkdowntxt": false,
  "toc-showtags": true
 },
 "nbformat": 4,
 "nbformat_minor": 5
}
