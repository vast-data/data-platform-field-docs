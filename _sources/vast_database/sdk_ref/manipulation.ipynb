{
 "cells": [
  {
   "cell_type": "markdown",
   "id": "353faac2",
   "metadata": {},
   "source": [
    "# Manipulating Data\n",
    "\n",
    "```{seealso}\n",
    "The Vast DB SDK API Documentation is available [here](https://vastdb-sdk.readthedocs.io).\n",
    "```"
   ]
  },
  {
   "cell_type": "markdown",
   "id": "31c480c3",
   "metadata": {},
   "source": [
    "```{important}\n",
    "This notebook is in the process of being migrated to Vast Data Platform Field Docs.  It will probably not run yet.\n",
    "```"
   ]
  },
  {
   "cell_type": "markdown",
   "id": "192aa680-2d77-429d-88fb-9d22c4e1d5ef",
   "metadata": {
    "execution": {
     "iopub.execute_input": "2024-01-08T15:44:57.593263Z",
     "iopub.status.busy": "2024-01-08T15:44:57.591934Z",
     "iopub.status.idle": "2024-01-08T15:44:57.599783Z",
     "shell.execute_reply": "2024-01-08T15:44:57.598109Z",
     "shell.execute_reply.started": "2024-01-08T15:44:57.593196Z"
    },
    "tags": []
   },
   "source": [
    "CRUD operations in VAST-DB are designed to be low-latency to the user while improving the overall performance of the system by implementing background operations in such a way that unnecessary I/O is minimized or eliminated."
   ]
  },
  {
   "cell_type": "markdown",
   "id": "4badcf55-df92-4492-a2d1-beff4d7103b9",
   "metadata": {},
   "source": [
    "## `insert`\n",
    "\n",
    "Row inserts into VAST-DB first occur into storage-class memory as discrete operations. While some combining of rows may occur when inserts are done very close together in time, it’s easier to think of a single SQL insert command as resulting in data chunks written to SCM.\n",
    "\n",
    "<!-- ![image](./img/VAST-Insert.png) -->\n",
    "\n",
    "This insert occurs according to isolation rules: clients that are part of the insert transaction are exposed to the new data immediately. Clients that begin a transaction after the insert transaction is committed are then exposed to the data. As inserts and other ingest transactions occur, asynchronous tasks will trigger, combining all of these discrete objects in SCM, and writing them to read-intensive NVMe along with updates to the associated metadata structures upstream of it.\n",
    "\n",
    "Row inserts into VAST-DB first occur into storage-class memory as discrete operations. While some combining of rows may occur when inserts are done very close together in time, it’s easier to think of a single SQL insert command as resulting in data chunks written to SCM.\n",
    "\n",
    "- **Usage**: Inserts a RecordBatch into this table.\n",
    "- **Parameters**:\n",
    "  - `rows` (pa.RecordBatch): The record batch to be inserted into the table.\n",
    "- **Raises**:\n",
    "  - `errors.NotSupportedCommand`: If the operation is not supported on the current table.\n",
    "  - `errors.TooWideRow`: If the row to be inserted is too wide.\n",
    "- **Returns**:\n",
    "  - `pa.ChunkedArray`: An array of internal row IDs of the inserted rows, if the feature is supported by the server.\n",
    "  - `None`: If the feature of returning row IDs is not supported by the server.\n",
    "- **Note**:\n",
    "        If a row is too wide to be inserted, the method falls back to inserting in column batches."
   ]
  },
  {
   "cell_type": "markdown",
   "id": "4a72da16-1e39-485f-b1e5-11f55025df0b",
   "metadata": {},
   "source": [
    "### Show table"
   ]
  },
  {
   "cell_type": "code",
   "execution_count": 45,
   "id": "bb576f4e-a5a3-4883-a019-f96132cd5678",
   "metadata": {
    "tags": []
   },
   "outputs": [
    {
     "name": "stdout",
     "output_type": "stream",
     "text": [
      "Listing rows in: Database='demo-database' Schema='python-sdk-schema' Table='pythonsdkcitizen'\n"
     ]
    },
    {
     "data": {
      "text/html": [
       "<div>\n",
       "<style scoped>\n",
       "    .dataframe tbody tr th:only-of-type {\n",
       "        vertical-align: middle;\n",
       "    }\n",
       "\n",
       "    .dataframe tbody tr th {\n",
       "        vertical-align: top;\n",
       "    }\n",
       "\n",
       "    .dataframe thead th {\n",
       "        text-align: right;\n",
       "    }\n",
       "</style>\n",
       "<table border=\"1\" class=\"dataframe\">\n",
       "  <thead>\n",
       "    <tr style=\"text-align: right;\">\n",
       "      <th></th>\n",
       "      <th>Citizen_Age</th>\n",
       "      <th>Citizen_Name</th>\n",
       "      <th>Citizen_experience</th>\n",
       "      <th>Is_married</th>\n",
       "    </tr>\n",
       "  </thead>\n",
       "  <tbody>\n",
       "    <tr>\n",
       "      <th>0</th>\n",
       "      <td>45</td>\n",
       "      <td>Alice</td>\n",
       "      <td>25.5</td>\n",
       "      <td>True</td>\n",
       "    </tr>\n",
       "    <tr>\n",
       "      <th>1</th>\n",
       "      <td>38</td>\n",
       "      <td>Bob</td>\n",
       "      <td>17.9</td>\n",
       "      <td>False</td>\n",
       "    </tr>\n",
       "    <tr>\n",
       "      <th>2</th>\n",
       "      <td>27</td>\n",
       "      <td>Koko</td>\n",
       "      <td>5.3</td>\n",
       "      <td>False</td>\n",
       "    </tr>\n",
       "    <tr>\n",
       "      <th>3</th>\n",
       "      <td>51</td>\n",
       "      <td>Menny</td>\n",
       "      <td>28.2</td>\n",
       "      <td>True</td>\n",
       "    </tr>\n",
       "  </tbody>\n",
       "</table>\n",
       "</div>"
      ],
      "text/plain": [
       "   Citizen_Age Citizen_Name  Citizen_experience  Is_married\n",
       "0           45        Alice                25.5        True\n",
       "1           38          Bob                17.9       False\n",
       "2           27         Koko                 5.3       False\n",
       "3           51        Menny                28.2        True"
      ]
     },
     "metadata": {},
     "output_type": "display_data"
    }
   ],
   "source": [
    "def list_rows():\n",
    "    print(f\"Listing rows in: Database='{DATABASE_NAME}' Schema='{DATABASE_SCHEMA}' Table='{TABLE_NAME}'\")\n",
    "    with session.transaction() as tx:\n",
    "        try:\n",
    "            schema = tx.bucket(DATABASE_NAME).schema(name=DATABASE_SCHEMA, fail_if_missing=False)\n",
    "            if schema:\n",
    "                try:\n",
    "                    table = schema.table(name=TABLE_NAME)\n",
    "                    reader = table.select()\n",
    "                    pyarrow_table = pa.Table.from_batches(reader)\n",
    "                    df = pyarrow_table.to_pandas()\n",
    "                    display(df)\n",
    "                except Exception as e:\n",
    "                    print(\"Couldn't select data:\", e)\n",
    "        except Exception as e:\n",
    "            print(\"Schema doesn't exist:\", e)\n",
    "\n",
    "list_rows()"
   ]
  },
  {
   "cell_type": "markdown",
   "id": "dfd07b4c-58f4-4747-a44a-bf94b63f0cc4",
   "metadata": {
    "execution": {
     "iopub.execute_input": "2024-01-08T12:43:09.408053Z",
     "iopub.status.busy": "2024-01-08T12:43:09.406506Z",
     "iopub.status.idle": "2024-01-08T12:43:09.413468Z",
     "shell.execute_reply": "2024-01-08T12:43:09.412407Z",
     "shell.execute_reply.started": "2024-01-08T12:43:09.407990Z"
    },
    "tags": []
   },
   "source": [
    "### Insert the Record"
   ]
  },
  {
   "cell_type": "code",
   "execution_count": 46,
   "id": "c1213ce6-816b-4b87-a877-327dd5c52d5e",
   "metadata": {
    "tags": []
   },
   "outputs": [
    {
     "name": "stdout",
     "output_type": "stream",
     "text": [
      "Data inserted.\n"
     ]
    }
   ],
   "source": [
    "ROWS = { \n",
    "    'Citizen_Name': ['Alice','Bob'], 'Citizen_Age': [25,24]\n",
    "}\n",
    "PA_RECORD_BATCH = pa.RecordBatch.from_pydict(ROWS)\n",
    "\n",
    "\n",
    "with session.transaction() as tx:\n",
    "    try:\n",
    "        schema = tx.bucket(DATABASE_NAME).schema(name=DATABASE_SCHEMA, fail_if_missing=False)\n",
    "        if schema:\n",
    "            try:\n",
    "                table = schema.table(name=TABLE_NAME)\n",
    "                table.insert(PA_RECORD_BATCH)\n",
    "                print(\"Data inserted.\")\n",
    "            except Exception as e:\n",
    "                print(\"Couldn't insert data:\", e)\n",
    "    except Exception as e:\n",
    "        print(\"Schema doesn't exist:\", e)"
   ]
  },
  {
   "cell_type": "markdown",
   "id": "968d1e42-1597-43ad-b5c4-98496e299e5e",
   "metadata": {},
   "source": [
    "### Show that the record was inserted"
   ]
  },
  {
   "cell_type": "code",
   "execution_count": 47,
   "id": "757ee9f2-77f0-4e24-8d20-bec380e76f93",
   "metadata": {
    "tags": []
   },
   "outputs": [
    {
     "name": "stdout",
     "output_type": "stream",
     "text": [
      "Listing rows in: Database='demo-database' Schema='python-sdk-schema' Table='pythonsdkcitizen'\n"
     ]
    },
    {
     "data": {
      "text/html": [
       "<div>\n",
       "<style scoped>\n",
       "    .dataframe tbody tr th:only-of-type {\n",
       "        vertical-align: middle;\n",
       "    }\n",
       "\n",
       "    .dataframe tbody tr th {\n",
       "        vertical-align: top;\n",
       "    }\n",
       "\n",
       "    .dataframe thead th {\n",
       "        text-align: right;\n",
       "    }\n",
       "</style>\n",
       "<table border=\"1\" class=\"dataframe\">\n",
       "  <thead>\n",
       "    <tr style=\"text-align: right;\">\n",
       "      <th></th>\n",
       "      <th>Citizen_Age</th>\n",
       "      <th>Citizen_Name</th>\n",
       "      <th>Citizen_experience</th>\n",
       "      <th>Is_married</th>\n",
       "    </tr>\n",
       "  </thead>\n",
       "  <tbody>\n",
       "    <tr>\n",
       "      <th>0</th>\n",
       "      <td>45</td>\n",
       "      <td>Alice</td>\n",
       "      <td>25.5</td>\n",
       "      <td>True</td>\n",
       "    </tr>\n",
       "    <tr>\n",
       "      <th>1</th>\n",
       "      <td>38</td>\n",
       "      <td>Bob</td>\n",
       "      <td>17.9</td>\n",
       "      <td>False</td>\n",
       "    </tr>\n",
       "    <tr>\n",
       "      <th>2</th>\n",
       "      <td>27</td>\n",
       "      <td>Koko</td>\n",
       "      <td>5.3</td>\n",
       "      <td>False</td>\n",
       "    </tr>\n",
       "    <tr>\n",
       "      <th>3</th>\n",
       "      <td>51</td>\n",
       "      <td>Menny</td>\n",
       "      <td>28.2</td>\n",
       "      <td>True</td>\n",
       "    </tr>\n",
       "    <tr>\n",
       "      <th>4</th>\n",
       "      <td>25</td>\n",
       "      <td>Alice</td>\n",
       "      <td>NaN</td>\n",
       "      <td>None</td>\n",
       "    </tr>\n",
       "    <tr>\n",
       "      <th>5</th>\n",
       "      <td>24</td>\n",
       "      <td>Bob</td>\n",
       "      <td>NaN</td>\n",
       "      <td>None</td>\n",
       "    </tr>\n",
       "  </tbody>\n",
       "</table>\n",
       "</div>"
      ],
      "text/plain": [
       "   Citizen_Age Citizen_Name  Citizen_experience Is_married\n",
       "0           45        Alice                25.5       True\n",
       "1           38          Bob                17.9      False\n",
       "2           27         Koko                 5.3      False\n",
       "3           51        Menny                28.2       True\n",
       "4           25        Alice                 NaN       None\n",
       "5           24          Bob                 NaN       None"
      ]
     },
     "metadata": {},
     "output_type": "display_data"
    }
   ],
   "source": [
    "list_rows()"
   ]
  },
  {
   "cell_type": "markdown",
   "id": "0188fb4c-991d-40e4-ac06-b0cc52611fc7",
   "metadata": {},
   "source": [
    "## `update`\n",
    "\n",
    "An update to a row results in new data written to SCM where metadata objects associated with the table are updated to link the newly written data in favor of the old (according to transaction isolation rules). Asynchronous tasks then combine all of the updates and rewrite data chunks in main storage as necessary to house updated data. \n",
    "\n",
    "<!-- ![image](./img/VAST-Updates.png) -->\n",
    "\n",
    "\n",
    "\n",
    "An additional async task (called snap delete) will unlink chunks if they are part of an existing snapshot or if they are needed inside or outside of an ongoing transaction.\n",
    "\n",
    "- **Usage**: Updates a subset of cells in this table.\n",
    "- **Parameters**:\n",
    "  - `rows` (Union[pa.RecordBatch, pa.Table]): The rows to be updated. Must include a special field named `$row_id` of uint64 type.\n",
    "  - `columns` (Optional[List[str]]): The subset of columns to be updated. If None, all columns are updated.\n",
    "- **Raises**:\n",
    "  - `errors.NotSupportedCommand`: If the operation is not supported on the current table.\n",
    "  - `errors.MissingRowIdColumn`: If the `$row_id` field is missing from the rows.\n",
    "- **Note**:\n",
    "  -  This function assumes that the `$row_id` field is part of the input rows. The `$row_id` field is used to specify the row IDs to be updated."
   ]
  },
  {
   "cell_type": "markdown",
   "id": "e917c355-ffcf-4778-ac70-636e7f5ab432",
   "metadata": {
    "execution": {
     "iopub.execute_input": "2024-01-08T12:44:26.263715Z",
     "iopub.status.busy": "2024-01-08T12:44:26.261989Z",
     "iopub.status.idle": "2024-01-08T12:44:26.270384Z",
     "shell.execute_reply": "2024-01-08T12:44:26.268699Z",
     "shell.execute_reply.started": "2024-01-08T12:44:26.263648Z"
    },
    "tags": []
   },
   "source": [
    "### list the table"
   ]
  },
  {
   "cell_type": "code",
   "execution_count": 48,
   "id": "4739cd41-0ce1-40ce-ad88-922a28fa00d6",
   "metadata": {
    "tags": []
   },
   "outputs": [
    {
     "name": "stdout",
     "output_type": "stream",
     "text": [
      "Listing rows in: Database='demo-database' Schema='python-sdk-schema' Table='pythonsdkcitizen'\n"
     ]
    },
    {
     "data": {
      "text/html": [
       "<div>\n",
       "<style scoped>\n",
       "    .dataframe tbody tr th:only-of-type {\n",
       "        vertical-align: middle;\n",
       "    }\n",
       "\n",
       "    .dataframe tbody tr th {\n",
       "        vertical-align: top;\n",
       "    }\n",
       "\n",
       "    .dataframe thead th {\n",
       "        text-align: right;\n",
       "    }\n",
       "</style>\n",
       "<table border=\"1\" class=\"dataframe\">\n",
       "  <thead>\n",
       "    <tr style=\"text-align: right;\">\n",
       "      <th></th>\n",
       "      <th>Citizen_Age</th>\n",
       "      <th>Citizen_Name</th>\n",
       "      <th>Citizen_experience</th>\n",
       "      <th>Is_married</th>\n",
       "    </tr>\n",
       "  </thead>\n",
       "  <tbody>\n",
       "    <tr>\n",
       "      <th>0</th>\n",
       "      <td>45</td>\n",
       "      <td>Alice</td>\n",
       "      <td>25.5</td>\n",
       "      <td>True</td>\n",
       "    </tr>\n",
       "    <tr>\n",
       "      <th>1</th>\n",
       "      <td>38</td>\n",
       "      <td>Bob</td>\n",
       "      <td>17.9</td>\n",
       "      <td>False</td>\n",
       "    </tr>\n",
       "    <tr>\n",
       "      <th>2</th>\n",
       "      <td>27</td>\n",
       "      <td>Koko</td>\n",
       "      <td>5.3</td>\n",
       "      <td>False</td>\n",
       "    </tr>\n",
       "    <tr>\n",
       "      <th>3</th>\n",
       "      <td>51</td>\n",
       "      <td>Menny</td>\n",
       "      <td>28.2</td>\n",
       "      <td>True</td>\n",
       "    </tr>\n",
       "    <tr>\n",
       "      <th>4</th>\n",
       "      <td>25</td>\n",
       "      <td>Alice</td>\n",
       "      <td>NaN</td>\n",
       "      <td>None</td>\n",
       "    </tr>\n",
       "    <tr>\n",
       "      <th>5</th>\n",
       "      <td>24</td>\n",
       "      <td>Bob</td>\n",
       "      <td>NaN</td>\n",
       "      <td>None</td>\n",
       "    </tr>\n",
       "  </tbody>\n",
       "</table>\n",
       "</div>"
      ],
      "text/plain": [
       "   Citizen_Age Citizen_Name  Citizen_experience Is_married\n",
       "0           45        Alice                25.5       True\n",
       "1           38          Bob                17.9      False\n",
       "2           27         Koko                 5.3      False\n",
       "3           51        Menny                28.2       True\n",
       "4           25        Alice                 NaN       None\n",
       "5           24          Bob                 NaN       None"
      ]
     },
     "metadata": {},
     "output_type": "display_data"
    }
   ],
   "source": [
    "list_rows()"
   ]
  },
  {
   "cell_type": "markdown",
   "id": "f7d6ef67-a4c8-46cf-844e-2a746207dc52",
   "metadata": {},
   "source": [
    "### Update the Citizen_experience and Is_married status for Alice & Bob \n"
   ]
  },
  {
   "cell_type": "code",
   "execution_count": 49,
   "id": "c3cdfc3f-abf0-4c1e-8b80-416683d489d5",
   "metadata": {
    "tags": []
   },
   "outputs": [
    {
     "name": "stdout",
     "output_type": "stream",
     "text": [
      "Data updated.\n"
     ]
    }
   ],
   "source": [
    "# Define the fields and their types\n",
    "FIELDS = [\n",
    "    (\"$row_id\", pa.uint64()),\n",
    "    (\"Citizen_experience\", pa.float64()),\n",
    "    (\"Is_married\", pa.bool_())\n",
    "]\n",
    "\n",
    "# Define the values for each field\n",
    "VALUES = [\n",
    "    [4, 5],  # values for \"$row_id\"\n",
    "    [43, 28],  # values for \"Citizen_experience\"\n",
    "    [False, True]  # values for \"Is_married\"\n",
    "]\n",
    "\n",
    "# Create a record batch\n",
    "RECORD_BATCH = pa.record_batch(VALUES, schema=pa.schema(FIELDS))\n",
    "\n",
    "with session.transaction() as tx:\n",
    "    try:\n",
    "        schema = tx.bucket(DATABASE_NAME).schema(name=DATABASE_SCHEMA, fail_if_missing=False)\n",
    "        if schema:\n",
    "            try:\n",
    "                table = schema.table(name=TABLE_NAME)\n",
    "                \n",
    "                # Update the table\n",
    "                table.update(RECORD_BATCH)\n",
    "                \n",
    "                print(\"Data updated.\")\n",
    "            except Exception as e:\n",
    "                print(\"Couldn't insert data:\", e)\n",
    "    except Exception as e:\n",
    "        print(\"Schema doesn't exist:\", e)\n"
   ]
  },
  {
   "cell_type": "markdown",
   "id": "4b12149f-9ea8-494a-a087-44a86f3f5d00",
   "metadata": {},
   "source": [
    "### validate the updates for Alice & Bob "
   ]
  },
  {
   "cell_type": "code",
   "execution_count": 50,
   "id": "96ecb602-9399-44a8-baad-371c4bad28ae",
   "metadata": {
    "tags": []
   },
   "outputs": [
    {
     "name": "stdout",
     "output_type": "stream",
     "text": [
      "Listing rows in: Database='demo-database' Schema='python-sdk-schema' Table='pythonsdkcitizen'\n"
     ]
    },
    {
     "data": {
      "text/html": [
       "<div>\n",
       "<style scoped>\n",
       "    .dataframe tbody tr th:only-of-type {\n",
       "        vertical-align: middle;\n",
       "    }\n",
       "\n",
       "    .dataframe tbody tr th {\n",
       "        vertical-align: top;\n",
       "    }\n",
       "\n",
       "    .dataframe thead th {\n",
       "        text-align: right;\n",
       "    }\n",
       "</style>\n",
       "<table border=\"1\" class=\"dataframe\">\n",
       "  <thead>\n",
       "    <tr style=\"text-align: right;\">\n",
       "      <th></th>\n",
       "      <th>Citizen_Age</th>\n",
       "      <th>Citizen_Name</th>\n",
       "      <th>Citizen_experience</th>\n",
       "      <th>Is_married</th>\n",
       "    </tr>\n",
       "  </thead>\n",
       "  <tbody>\n",
       "    <tr>\n",
       "      <th>0</th>\n",
       "      <td>45</td>\n",
       "      <td>Alice</td>\n",
       "      <td>25.5</td>\n",
       "      <td>True</td>\n",
       "    </tr>\n",
       "    <tr>\n",
       "      <th>1</th>\n",
       "      <td>38</td>\n",
       "      <td>Bob</td>\n",
       "      <td>17.9</td>\n",
       "      <td>False</td>\n",
       "    </tr>\n",
       "    <tr>\n",
       "      <th>2</th>\n",
       "      <td>27</td>\n",
       "      <td>Koko</td>\n",
       "      <td>5.3</td>\n",
       "      <td>False</td>\n",
       "    </tr>\n",
       "    <tr>\n",
       "      <th>3</th>\n",
       "      <td>51</td>\n",
       "      <td>Menny</td>\n",
       "      <td>28.2</td>\n",
       "      <td>True</td>\n",
       "    </tr>\n",
       "    <tr>\n",
       "      <th>4</th>\n",
       "      <td>25</td>\n",
       "      <td>Alice</td>\n",
       "      <td>43.0</td>\n",
       "      <td>False</td>\n",
       "    </tr>\n",
       "    <tr>\n",
       "      <th>5</th>\n",
       "      <td>24</td>\n",
       "      <td>Bob</td>\n",
       "      <td>28.0</td>\n",
       "      <td>True</td>\n",
       "    </tr>\n",
       "  </tbody>\n",
       "</table>\n",
       "</div>"
      ],
      "text/plain": [
       "   Citizen_Age Citizen_Name  Citizen_experience  Is_married\n",
       "0           45        Alice                25.5        True\n",
       "1           38          Bob                17.9       False\n",
       "2           27         Koko                 5.3       False\n",
       "3           51        Menny                28.2        True\n",
       "4           25        Alice                43.0       False\n",
       "5           24          Bob                28.0        True"
      ]
     },
     "metadata": {},
     "output_type": "display_data"
    }
   ],
   "source": [
    "list_rows()"
   ]
  },
  {
   "cell_type": "markdown",
   "id": "26fca02f-787f-4d0c-b55f-5be8808f171c",
   "metadata": {},
   "source": [
    "## `delete`\n",
    "\n",
    "Row-level deletes work similarly to updates. Table metadata is updated, logically removing the row (tombstoning it).\n",
    "Eventually asynchronous processes will then relocate (rewrite and unlink) data as necessary to reclaim space in main storage - taking care to account for ongoing transactions and snapshots.\n",
    "\n",
    "<!-- ![image](./img/VAST-Deletes.png) -->\n",
    "\n",
    "- **Usage**: Deletes a subset of rows in this table.\n",
    "- **Parameters**:\n",
    "  - `rows` (Union[pa.RecordBatch, pa.Table]): The rows to be deleted. Must include a special field named `$row_id` of uint64 type.\n",
    "- **Raises**:\n",
    "  - `errors.NotSupportedCommand`: If the operation is not supported on the current table.\n",
    "  - `errors.MissingRowIdColumn`: If the `$row_id` field is missing from the rows.\n",
    "- **Note**:\n",
    "  - This function assumes that the `$row_id` field is part of the input rows. The `$row_id` field is used to specify the row IDs to be deleted."
   ]
  },
  {
   "cell_type": "markdown",
   "id": "3bdaca45-22fe-492a-8551-492980a3299c",
   "metadata": {},
   "source": [
    "### List the rows in the table "
   ]
  },
  {
   "cell_type": "code",
   "execution_count": 51,
   "id": "a98d5d83-393b-408a-bc24-b68ca43488e4",
   "metadata": {
    "tags": []
   },
   "outputs": [
    {
     "name": "stdout",
     "output_type": "stream",
     "text": [
      "Listing rows in: Database='demo-database' Schema='python-sdk-schema' Table='pythonsdkcitizen'\n"
     ]
    },
    {
     "data": {
      "text/html": [
       "<div>\n",
       "<style scoped>\n",
       "    .dataframe tbody tr th:only-of-type {\n",
       "        vertical-align: middle;\n",
       "    }\n",
       "\n",
       "    .dataframe tbody tr th {\n",
       "        vertical-align: top;\n",
       "    }\n",
       "\n",
       "    .dataframe thead th {\n",
       "        text-align: right;\n",
       "    }\n",
       "</style>\n",
       "<table border=\"1\" class=\"dataframe\">\n",
       "  <thead>\n",
       "    <tr style=\"text-align: right;\">\n",
       "      <th></th>\n",
       "      <th>Citizen_Age</th>\n",
       "      <th>Citizen_Name</th>\n",
       "      <th>Citizen_experience</th>\n",
       "      <th>Is_married</th>\n",
       "    </tr>\n",
       "  </thead>\n",
       "  <tbody>\n",
       "    <tr>\n",
       "      <th>0</th>\n",
       "      <td>45</td>\n",
       "      <td>Alice</td>\n",
       "      <td>25.5</td>\n",
       "      <td>True</td>\n",
       "    </tr>\n",
       "    <tr>\n",
       "      <th>1</th>\n",
       "      <td>38</td>\n",
       "      <td>Bob</td>\n",
       "      <td>17.9</td>\n",
       "      <td>False</td>\n",
       "    </tr>\n",
       "    <tr>\n",
       "      <th>2</th>\n",
       "      <td>27</td>\n",
       "      <td>Koko</td>\n",
       "      <td>5.3</td>\n",
       "      <td>False</td>\n",
       "    </tr>\n",
       "    <tr>\n",
       "      <th>3</th>\n",
       "      <td>51</td>\n",
       "      <td>Menny</td>\n",
       "      <td>28.2</td>\n",
       "      <td>True</td>\n",
       "    </tr>\n",
       "    <tr>\n",
       "      <th>4</th>\n",
       "      <td>25</td>\n",
       "      <td>Alice</td>\n",
       "      <td>43.0</td>\n",
       "      <td>False</td>\n",
       "    </tr>\n",
       "    <tr>\n",
       "      <th>5</th>\n",
       "      <td>24</td>\n",
       "      <td>Bob</td>\n",
       "      <td>28.0</td>\n",
       "      <td>True</td>\n",
       "    </tr>\n",
       "  </tbody>\n",
       "</table>\n",
       "</div>"
      ],
      "text/plain": [
       "   Citizen_Age Citizen_Name  Citizen_experience  Is_married\n",
       "0           45        Alice                25.5        True\n",
       "1           38          Bob                17.9       False\n",
       "2           27         Koko                 5.3       False\n",
       "3           51        Menny                28.2        True\n",
       "4           25        Alice                43.0       False\n",
       "5           24          Bob                28.0        True"
      ]
     },
     "metadata": {},
     "output_type": "display_data"
    }
   ],
   "source": [
    "list_rows()"
   ]
  },
  {
   "cell_type": "markdown",
   "id": "6c691af4-1a5a-4fa4-b514-9e262ebfc912",
   "metadata": {},
   "source": [
    "### Delete the Row for Bob\n"
   ]
  },
  {
   "cell_type": "code",
   "execution_count": 52,
   "id": "99b4eb18-67da-4fed-a06e-0653d984e43f",
   "metadata": {
    "tags": []
   },
   "outputs": [
    {
     "name": "stdout",
     "output_type": "stream",
     "text": [
      "Records to delete (note we ran select with `internal_row_id=True`) ...\n"
     ]
    },
    {
     "data": {
      "text/html": [
       "<div>\n",
       "<style scoped>\n",
       "    .dataframe tbody tr th:only-of-type {\n",
       "        vertical-align: middle;\n",
       "    }\n",
       "\n",
       "    .dataframe tbody tr th {\n",
       "        vertical-align: top;\n",
       "    }\n",
       "\n",
       "    .dataframe thead th {\n",
       "        text-align: right;\n",
       "    }\n",
       "</style>\n",
       "<table border=\"1\" class=\"dataframe\">\n",
       "  <thead>\n",
       "    <tr style=\"text-align: right;\">\n",
       "      <th></th>\n",
       "      <th>Citizen_Age</th>\n",
       "      <th>Citizen_Name</th>\n",
       "      <th>Citizen_experience</th>\n",
       "      <th>$row_id</th>\n",
       "    </tr>\n",
       "  </thead>\n",
       "  <tbody>\n",
       "    <tr>\n",
       "      <th>0</th>\n",
       "      <td>38</td>\n",
       "      <td>Bob</td>\n",
       "      <td>17.9</td>\n",
       "      <td>1</td>\n",
       "    </tr>\n",
       "  </tbody>\n",
       "</table>\n",
       "</div>"
      ],
      "text/plain": [
       "   Citizen_Age Citizen_Name  Citizen_experience  $row_id\n",
       "0           38          Bob                17.9        1"
      ]
     },
     "metadata": {},
     "output_type": "display_data"
    },
    {
     "name": "stdout",
     "output_type": "stream",
     "text": [
      "Deleting rows\n"
     ]
    }
   ],
   "source": [
    "PREDICATE = (_.Citizen_Name == 'Bob') & (_.Is_married == True)\n",
    "COLUMNS = ['Citizen_Age', 'Citizen_Name', 'Citizen_experience']\n",
    "\n",
    "with session.transaction() as tx:\n",
    "    try:\n",
    "        schema = tx.bucket(DATABASE_NAME).schema(name=DATABASE_SCHEMA, fail_if_missing=False)\n",
    "        if schema:\n",
    "            try:\n",
    "                table = schema.table(name=TABLE_NAME)\n",
    "\n",
    "                # IMPORTANT: internal_row_id=True\n",
    "                reader = table.select(columns=COLUMNS, predicate=PREDICATE, internal_row_id=True)\n",
    "                \n",
    "                pyarrow_table = reader.read_all()\n",
    "                if pyarrow_table.num_rows == 0:\n",
    "                    print(f\"No records found.\")\n",
    "                else:\n",
    "                    print(\"Records to delete (note we ran select with `internal_row_id=True`) ...\")\n",
    "                    display(pyarrow_table.to_pandas())\n",
    "    \n",
    "                    print(\"Deleting rows\");\n",
    "                    table.delete(pyarrow_table)\n",
    "            except Exception as e:\n",
    "                import sys, traceback\n",
    "                traceback.print_exc(file=sys.stdout)\n",
    "                print(\"Exception encountered:\", e)\n",
    "    except Exception as e:\n",
    "        print(\"Schema doesn't exist:\", e)\n"
   ]
  },
  {
   "cell_type": "code",
   "execution_count": 53,
   "id": "d563e4cd-6503-4ade-b66c-58f1e05a5573",
   "metadata": {},
   "outputs": [
    {
     "name": "stdout",
     "output_type": "stream",
     "text": [
      "Listing rows in: Database='demo-database' Schema='python-sdk-schema' Table='pythonsdkcitizen'\n"
     ]
    },
    {
     "data": {
      "text/html": [
       "<div>\n",
       "<style scoped>\n",
       "    .dataframe tbody tr th:only-of-type {\n",
       "        vertical-align: middle;\n",
       "    }\n",
       "\n",
       "    .dataframe tbody tr th {\n",
       "        vertical-align: top;\n",
       "    }\n",
       "\n",
       "    .dataframe thead th {\n",
       "        text-align: right;\n",
       "    }\n",
       "</style>\n",
       "<table border=\"1\" class=\"dataframe\">\n",
       "  <thead>\n",
       "    <tr style=\"text-align: right;\">\n",
       "      <th></th>\n",
       "      <th>Citizen_Age</th>\n",
       "      <th>Citizen_Name</th>\n",
       "      <th>Citizen_experience</th>\n",
       "      <th>Is_married</th>\n",
       "    </tr>\n",
       "  </thead>\n",
       "  <tbody>\n",
       "    <tr>\n",
       "      <th>0</th>\n",
       "      <td>45</td>\n",
       "      <td>Alice</td>\n",
       "      <td>25.5</td>\n",
       "      <td>True</td>\n",
       "    </tr>\n",
       "    <tr>\n",
       "      <th>1</th>\n",
       "      <td>27</td>\n",
       "      <td>Koko</td>\n",
       "      <td>5.3</td>\n",
       "      <td>False</td>\n",
       "    </tr>\n",
       "    <tr>\n",
       "      <th>2</th>\n",
       "      <td>51</td>\n",
       "      <td>Menny</td>\n",
       "      <td>28.2</td>\n",
       "      <td>True</td>\n",
       "    </tr>\n",
       "    <tr>\n",
       "      <th>3</th>\n",
       "      <td>25</td>\n",
       "      <td>Alice</td>\n",
       "      <td>43.0</td>\n",
       "      <td>False</td>\n",
       "    </tr>\n",
       "    <tr>\n",
       "      <th>4</th>\n",
       "      <td>24</td>\n",
       "      <td>Bob</td>\n",
       "      <td>28.0</td>\n",
       "      <td>True</td>\n",
       "    </tr>\n",
       "  </tbody>\n",
       "</table>\n",
       "</div>"
      ],
      "text/plain": [
       "   Citizen_Age Citizen_Name  Citizen_experience  Is_married\n",
       "0           45        Alice                25.5        True\n",
       "1           27         Koko                 5.3       False\n",
       "2           51        Menny                28.2        True\n",
       "3           25        Alice                43.0       False\n",
       "4           24          Bob                28.0        True"
      ]
     },
     "metadata": {},
     "output_type": "display_data"
    }
   ],
   "source": [
    "list_rows()"
   ]
  }
 ],
 "metadata": {
  "kernelspec": {
   "display_name": "Python 3 (ipykernel)",
   "language": "python",
   "name": "python3"
  },
  "language_info": {
   "codemirror_mode": {
    "name": "ipython",
    "version": 3
   },
   "file_extension": ".py",
   "mimetype": "text/x-python",
   "name": "python",
   "nbconvert_exporter": "python",
   "pygments_lexer": "ipython3",
   "version": "3.11.9"
  },
  "toc-autonumbering": true,
  "toc-showcode": false,
  "toc-showmarkdowntxt": false,
  "toc-showtags": true
 },
 "nbformat": 4,
 "nbformat_minor": 5
}
