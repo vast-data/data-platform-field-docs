{
 "cells": [
  {
   "cell_type": "markdown",
   "id": "89c8fba8-ebe8-44a1-9903-0bf0dfd876e4",
   "metadata": {
    "execution": {
     "iopub.execute_input": "2024-01-08T18:24:44.345176Z",
     "iopub.status.busy": "2024-01-08T18:24:44.343821Z",
     "iopub.status.idle": "2024-01-08T18:24:44.350013Z",
     "shell.execute_reply": "2024-01-08T18:24:44.349199Z",
     "shell.execute_reply.started": "2024-01-08T18:24:44.345112Z"
    },
    "tags": []
   },
   "source": [
    "# Dimensions and Limits\n",
    "Several limits are shared with other entities housed in VAST:\n",
    "tables are analogous to files thus table count limits are shared with files\n",
    "Snapshot count limits are shared across the system\n",
    "Database count limit is shared with the platform view count\n",
    "\n",
    "  \n",
    "| Domain | Limit | Notes | \n",
    "| :--- | :----------- | :--- | \n",
    "| Max database count | 16,384 | This is limited by, and included in, the total number of views in the system | \n",
    "| Max table count | 1 billion per DBox | Limited by, and included in, the max file count. |\n",
    "| Max row count | 2^48 (256 Trillion) | |\n",
    "| Max column count | 31,936 |  |\n",
    "| Max cell size | 126KB |  |\n",
    "| Snapshot limit | 1019 | Same as for file systems |\n",
    "\n",
    "**Note!**\n",
    "The maximum column count will be increased to 64k in VAST 5.1"
   ]
  }
 ],
 "metadata": {
  "kernelspec": {
   "display_name": "Python 3 (ipykernel)",
   "language": "python",
   "name": "python3"
  },
  "language_info": {
   "codemirror_mode": {
    "name": "ipython",
    "version": 3
   },
   "file_extension": ".py",
   "mimetype": "text/x-python",
   "name": "python",
   "nbconvert_exporter": "python",
   "pygments_lexer": "ipython3",
   "version": "3.11.9"
  },
  "toc-autonumbering": true,
  "toc-showcode": false,
  "toc-showmarkdowntxt": false,
  "toc-showtags": true
 },
 "nbformat": 4,
 "nbformat_minor": 5
}
