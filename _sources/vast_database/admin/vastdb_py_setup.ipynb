{
 "cells": [
  {
   "cell_type": "markdown",
   "metadata": {},
   "source": [
    "# Vast DB set up using API\n",
    "\n",
    "## Overview \n",
    "\n",
    "This example uses the Vast VMS API via the [vastpy](https://github.com/vast-data/vastpy) library.\n",
    "\n",
    "This automation is based on the manual instructions available [here](https://vast-data.github.io/data-platform-field-docs/vast_database/overview/getting_started.html).\n",
    "\n",
    "This example has been tested on: **5.1.0**"
   ]
  },
  {
   "cell_type": "markdown",
   "metadata": {},
   "source": [
    "## Instructions\n",
    "\n",
    "First install the vastpy library"
   ]
  },
  {
   "cell_type": "code",
   "execution_count": null,
   "metadata": {},
   "outputs": [],
   "source": [
    "pip install vastpy"
   ]
  },
  {
   "cell_type": "markdown",
   "metadata": {},
   "source": [
    "Next create a function `base_setup()` that configures a Vast Database.  The function creates:\n",
    "\n",
    "- vippool\n",
    "- user\n",
    "- user S3 key\n",
    "- view\n",
    "- database\n",
    "- database schema"
   ]
  },
  {
   "cell_type": "code",
   "execution_count": null,
   "metadata": {},
   "outputs": [],
   "source": [
    "from vastpy import VASTClient\n",
    "\n",
    "def base_setup(address, username, password, config):\n",
    "    client = VASTClient(user=username, password=password, address=address)\n",
    "\n",
    "    database_owner = config['user']['name']\n",
    "\n",
    "    try:\n",
    "        client.vippools.post(**config['vippool'])\n",
    "        print(f\"VIP pool created: {config['vippool']}\")\n",
    "    except Exception as e:\n",
    "        print(e)\n",
    "        raise e\n",
    "\n",
    "    try:\n",
    "        client.users.post(**config['user'])\n",
    "        print(f\"User created: {config['user']}\")\n",
    "    except Exception as e:\n",
    "        print(e)\n",
    "        raise e\n",
    "\n",
    "    user = client.users.get(name=database_owner)[0]\n",
    "    user_id = user['id']\n",
    "\n",
    "    try:\n",
    "        response = client.users[user_id].access_keys.post(id=user_id)\n",
    "        access_key = response['access_key']\n",
    "        secret_key = response['secret_key']\n",
    "        print(f\"Key Generated for {database_owner}\")\n",
    "    except Exception as e:\n",
    "        print(e)\n",
    "        raise e\n",
    "\n",
    "    try:\n",
    "        response = client.views.post(\n",
    "            path=config['viewpath']['path'],\n",
    "            protocols=config['viewpath']['protocols'],\n",
    "            create_dir=config['viewpath']['create_dir'],\n",
    "            bucket=config['viewpath']['bucket'],\n",
    "            bucket_owner=config['viewpath']['bucket_owner'],\n",
    "            policy_id=config['viewpath']['policy_id']\n",
    "        )\n",
    "        print(f\"View Created: {config['viewpath']['path']}\")\n",
    "    except Exception as e:\n",
    "        print(e)\n",
    "        raise e\n",
    "\n",
    "    try:\n",
    "        response = client.schemas.post(\n",
    "            name=config['database']['schema'],\n",
    "            database_name=config['database']['name']\n",
    "        )\n",
    "        print(\"Schema Created\")\n",
    "    except Exception as e:\n",
    "        print(e)\n",
    "        raise e\n",
    "\n",
    "    print(access_key, secret_key)"
   ]
  },
  {
   "cell_type": "markdown",
   "metadata": {},
   "source": [
    "Ensure the config below matches your environment and requirements"
   ]
  },
  {
   "cell_type": "code",
   "execution_count": null,
   "metadata": {},
   "outputs": [],
   "source": [
    "config = {\n",
    "    'vippool': {\n",
    "        'start_ip': '11.0.0.2',\n",
    "        'end_ip': '11.0.0.3',\n",
    "        'subnet_cidr': 24\n",
    "    },\n",
    "    'user': {\n",
    "        'local': True,\n",
    "        'name': 'demo-owner',\n",
    "        'uid': 555,\n",
    "        'allow_create_bucket': True,\n",
    "        's3_superuser': True\n",
    "    },\n",
    "    'viewpath': {\n",
    "        'path': '/demo_path',\n",
    "        'protocols': ['S3', 'DATABASE'],\n",
    "        'create_dir': True,\n",
    "        'bucket': 'demo-db',\n",
    "        'bucket_owner': 'demo-owner', # must match user.name, above\n",
    "        'policy_id': 3 \n",
    "    },\n",
    "    'database': {\n",
    "        'name': 'demo-db',  # must match viewpath.bucket, above\n",
    "        'schema': 'demo-schema'\n",
    "    }\n",
    "}"
   ]
  },
  {
   "cell_type": "markdown",
   "metadata": {},
   "source": [
    "Now call base_setup() with the config details."
   ]
  },
  {
   "cell_type": "code",
   "execution_count": null,
   "metadata": {},
   "outputs": [],
   "source": [
    "\n",
    "base_setup(\n",
    "    address='VMS_HOST_OR_IP',\n",
    "    username='admin',\n",
    "    password='123456',\n",
    "    config=config\n",
    "    )"
   ]
  },
  {
   "cell_type": "markdown",
   "metadata": {},
   "source": [
    "**DANGER:** The function `clean_env()`, below, will remove the following configuration from your cluster:\n",
    "\n",
    "- ALL database schemas\n",
    "- ALL views\n",
    "- ALL vippools\n",
    "- ALL users"
   ]
  },
  {
   "cell_type": "code",
   "execution_count": null,
   "metadata": {},
   "outputs": [],
   "source": [
    "def clean_env(address, username, password):\n",
    "    client = VASTClient(user=username, password=password, address=address)\n",
    "    for schema in client.schemas.get():\n",
    "        print(f\"Deleting schema {schema['name']} in database {schema['database_name']}\")\n",
    "        try:\n",
    "            tables = client.tables.get(database_name=schema['database_name'], schema_name=schema['name'])['results']\n",
    "            for table in tables:\n",
    "                print(f\"Deleting Table {table['name']} in schema {table['schema_name']} in database {table['database_name']}\")\n",
    "                client.tables.delete(database_name=table['database_name'], schema_name=schema['database_name'], name=f\"`{table['name']}`\")\n",
    "            print(\"Tables deleted\")\n",
    "        except Exception as e:\n",
    "            print(e)\n",
    "            raise e\n",
    "        client.schemas.delete(database_name=schema['database_name'], name=schema['name'])\n",
    "    print(\"Schemas deleted\")\n",
    "\n",
    "    for view in client.views.get():\n",
    "        # don't delete the default view\n",
    "        if view['path'] != '/':\n",
    "            print(f\"Deleting view {view['path']}\")\n",
    "            client.views[view['id']].delete()\n",
    "    print(\"Views deleted\")\n",
    "\n",
    "    for pool in client.vippools.get():\n",
    "        print(f\"Deleting vippool {pool['id']}\")\n",
    "        client.vippools[pool['id']].delete()\n",
    "    print(\"Vippools deleted\")\n",
    "    \n",
    "    for user in client.users.get():\n",
    "        print(f\"Deleting user {user['name']}\")\n",
    "        client.users[user['id']].delete()\n",
    "    print(\"Users deleted\")\n"
   ]
  }
 ],
 "metadata": {
  "language_info": {
   "name": "python"
  }
 },
 "nbformat": 4,
 "nbformat_minor": 2
}
