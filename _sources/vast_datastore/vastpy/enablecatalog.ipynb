{
 "cells": [
  {
   "cell_type": "markdown",
   "id": "488e91a9",
   "metadata": {},
   "source": [
    "# Enable Catalog\n",
    "\n",
    "This example enables the Catalog using the vastpy library."
   ]
  },
  {
   "cell_type": "code",
   "execution_count": 1,
   "id": "3e14f183-379a-4e8b-aed3-eddd4d875fe3",
   "metadata": {},
   "outputs": [],
   "source": [
    "!pip install --quiet vastpy"
   ]
  },
  {
   "cell_type": "code",
   "execution_count": 2,
   "id": "7808609c-1ede-40b4-a96e-8a861f642acf",
   "metadata": {},
   "outputs": [],
   "source": [
    "VMS_HOST='10.91.7.204'\n",
    "VMS_USER='admin'\n",
    "VMS_PASS='123456'"
   ]
  },
  {
   "cell_type": "code",
   "execution_count": 3,
   "id": "8e8a110a-742d-434f-8a1d-a031f4913757",
   "metadata": {},
   "outputs": [
    {
     "name": "stdout",
     "output_type": "stream",
     "text": [
      "{'id': 1,\n",
      " 'name': 'Vast Catalog Policy',\n",
      " 'frames': [{'every': '30m',\n",
      "             'start-at': '2024-06-10 22:11:08',\n",
      "             'keep-local': '1H',\n",
      "             'keep-remote': '30m'}],\n",
      " 'prefix': 'big_catalog',\n",
      " 'enable': True,\n",
      " 'state': 'working',\n",
      " 'clone_type': 'LOCAL',\n",
      " 'big_catalog': True,\n",
      " 'splits': 2}\n"
     ]
    }
   ],
   "source": [
    "from vastpy import VASTClient\n",
    "import pprint\n",
    "\n",
    "\n",
    "client = VASTClient(user=VMS_USER, password=VMS_PASS, address=VMS_HOST)\n",
    "\n",
    "try:\n",
    "    configs = client.bigcatalogconfig.get()\n",
    "    for config in configs:\n",
    "        data = {\n",
    "            \"frames\": [\n",
    "                {\n",
    "                    \"every\": \"15m\",\n",
    "                    \"every_value\": \"15m\",\n",
    "                    \"every_unit\": \"m\",\n",
    "                    \"start-at\": config['frames'][0]['start-at'],\n",
    "                    \"keep-local\": \"2H\",\n",
    "                    \"keep-remote\": \"15m\",\n",
    "                    \"local-period\": \"H\",\n",
    "                    \"remote-period\": \"m\"\n",
    "                }\n",
    "            ],\n",
    "            \"enable\": True\n",
    "        }\n",
    "        response = client.bigcatalogconfig[config['id']].request(method='PATCH', data=data)\n",
    "        print(\"Updated Big Catalog config\")\n",
    "        pprint.pp(response)\n",
    "except Exception as e:\n",
    "    print(\"Error enabling BigCatalog\")\n",
    "    print(e)"
   ]
  },
  {
   "cell_type": "code",
   "execution_count": null,
   "id": "064f2452-5c61-4ecf-9c1a-a456c899a2a1",
   "metadata": {},
   "outputs": [],
   "source": []
  }
 ],
 "metadata": {
  "kernelspec": {
   "display_name": "Python 3 (ipykernel)",
   "language": "python",
   "name": "python3"
  },
  "language_info": {
   "codemirror_mode": {
    "name": "ipython",
    "version": 3
   },
   "file_extension": ".py",
   "mimetype": "text/x-python",
   "name": "python",
   "nbconvert_exporter": "python",
   "pygments_lexer": "ipython3",
   "version": "3.11.9"
  }
 },
 "nbformat": 4,
 "nbformat_minor": 5
}
